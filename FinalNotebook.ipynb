{
 "cells": [
  {
   "cell_type": "markdown",
   "metadata": {},
   "source": [
    "# Predicting the Price of Hamilton Tickets"
   ]
  },
  {
   "cell_type": "markdown",
   "metadata": {},
   "source": [
    "#### Importing"
   ]
  },
  {
   "cell_type": "code",
   "execution_count": 1,
   "metadata": {},
   "outputs": [],
   "source": [
    "import pandas as pd\n",
    "pd.set_option('display.max_rows', None)\n",
    "import matplotlib.pyplot as plt\n",
    "%matplotlib inline\n",
    "from pandas import Series\n",
    "import warnings\n",
    "warnings.filterwarnings('ignore')\n",
    "import numpy as np\n",
    "from statsmodels.tsa.arima_model import ARIMA\n",
    "from sklearn.metrics import mean_squared_error\n",
    "from math import sqrt\n",
    "from statsmodels.tools.eval_measures import rmse, aic\n",
    "from statsmodels.tsa.stattools import adfuller\n",
    "from statsmodels.graphics.tsaplots import plot_acf\n",
    "from statsmodels.graphics.tsaplots import plot_pacf\n",
    "from statsmodels.tsa.statespace.sarimax import SARIMAX\n",
    "import itertools\n",
    "from matplotlib.pylab import rcParams"
   ]
  },
  {
   "cell_type": "markdown",
   "metadata": {},
   "source": [
    "#### Reading in the csv file"
   ]
  },
  {
   "cell_type": "code",
   "execution_count": 2,
   "metadata": {},
   "outputs": [
    {
     "data": {
      "text/html": [
       "<div>\n",
       "<style scoped>\n",
       "    .dataframe tbody tr th:only-of-type {\n",
       "        vertical-align: middle;\n",
       "    }\n",
       "\n",
       "    .dataframe tbody tr th {\n",
       "        vertical-align: top;\n",
       "    }\n",
       "\n",
       "    .dataframe thead th {\n",
       "        text-align: right;\n",
       "    }\n",
       "</style>\n",
       "<table border=\"1\" class=\"dataframe\">\n",
       "  <thead>\n",
       "    <tr style=\"text-align: right;\">\n",
       "      <th></th>\n",
       "      <th>week_ending</th>\n",
       "      <th>week_number</th>\n",
       "      <th>weekly_gross_overall</th>\n",
       "      <th>show</th>\n",
       "      <th>theatre</th>\n",
       "      <th>weekly_gross</th>\n",
       "      <th>potential_gross</th>\n",
       "      <th>avg_ticket_price</th>\n",
       "      <th>top_ticket_price</th>\n",
       "      <th>seats_sold</th>\n",
       "      <th>seats_in_theatre</th>\n",
       "      <th>pct_capacity</th>\n",
       "      <th>performances</th>\n",
       "      <th>previews</th>\n",
       "    </tr>\n",
       "  </thead>\n",
       "  <tbody>\n",
       "    <tr>\n",
       "      <th>0</th>\n",
       "      <td>1985-06-09</td>\n",
       "      <td>1</td>\n",
       "      <td>3915937.0</td>\n",
       "      <td>42nd Street</td>\n",
       "      <td>St. James Theatre</td>\n",
       "      <td>282368.0</td>\n",
       "      <td>NaN</td>\n",
       "      <td>30.42</td>\n",
       "      <td>NaN</td>\n",
       "      <td>9281</td>\n",
       "      <td>1655</td>\n",
       "      <td>0.7010</td>\n",
       "      <td>8</td>\n",
       "      <td>0</td>\n",
       "    </tr>\n",
       "    <tr>\n",
       "      <th>1</th>\n",
       "      <td>1985-06-09</td>\n",
       "      <td>1</td>\n",
       "      <td>3915937.0</td>\n",
       "      <td>A Chorus Line</td>\n",
       "      <td>Sam S. Shubert Theatre</td>\n",
       "      <td>222584.0</td>\n",
       "      <td>NaN</td>\n",
       "      <td>27.25</td>\n",
       "      <td>NaN</td>\n",
       "      <td>8167</td>\n",
       "      <td>1472</td>\n",
       "      <td>0.6935</td>\n",
       "      <td>8</td>\n",
       "      <td>0</td>\n",
       "    </tr>\n",
       "    <tr>\n",
       "      <th>2</th>\n",
       "      <td>1985-06-09</td>\n",
       "      <td>1</td>\n",
       "      <td>3915937.0</td>\n",
       "      <td>Aren't We All?</td>\n",
       "      <td>Brooks Atkinson Theatre</td>\n",
       "      <td>249272.0</td>\n",
       "      <td>NaN</td>\n",
       "      <td>33.75</td>\n",
       "      <td>NaN</td>\n",
       "      <td>7386</td>\n",
       "      <td>1088</td>\n",
       "      <td>0.8486</td>\n",
       "      <td>8</td>\n",
       "      <td>0</td>\n",
       "    </tr>\n",
       "    <tr>\n",
       "      <th>3</th>\n",
       "      <td>1985-06-09</td>\n",
       "      <td>1</td>\n",
       "      <td>3915937.0</td>\n",
       "      <td>Arms and the Man</td>\n",
       "      <td>Circle in the Square Theatre</td>\n",
       "      <td>95688.0</td>\n",
       "      <td>NaN</td>\n",
       "      <td>20.87</td>\n",
       "      <td>NaN</td>\n",
       "      <td>4586</td>\n",
       "      <td>682</td>\n",
       "      <td>0.8405</td>\n",
       "      <td>8</td>\n",
       "      <td>0</td>\n",
       "    </tr>\n",
       "    <tr>\n",
       "      <th>4</th>\n",
       "      <td>1985-06-09</td>\n",
       "      <td>1</td>\n",
       "      <td>3915937.0</td>\n",
       "      <td>As Is</td>\n",
       "      <td>Lyceum Theatre</td>\n",
       "      <td>61059.0</td>\n",
       "      <td>NaN</td>\n",
       "      <td>20.78</td>\n",
       "      <td>NaN</td>\n",
       "      <td>2938</td>\n",
       "      <td>684</td>\n",
       "      <td>0.5369</td>\n",
       "      <td>8</td>\n",
       "      <td>0</td>\n",
       "    </tr>\n",
       "  </tbody>\n",
       "</table>\n",
       "</div>"
      ],
      "text/plain": [
       "  week_ending  week_number  weekly_gross_overall              show  \\\n",
       "0  1985-06-09            1             3915937.0       42nd Street   \n",
       "1  1985-06-09            1             3915937.0     A Chorus Line   \n",
       "2  1985-06-09            1             3915937.0    Aren't We All?   \n",
       "3  1985-06-09            1             3915937.0  Arms and the Man   \n",
       "4  1985-06-09            1             3915937.0             As Is   \n",
       "\n",
       "                        theatre  weekly_gross  potential_gross  \\\n",
       "0             St. James Theatre      282368.0              NaN   \n",
       "1        Sam S. Shubert Theatre      222584.0              NaN   \n",
       "2       Brooks Atkinson Theatre      249272.0              NaN   \n",
       "3  Circle in the Square Theatre       95688.0              NaN   \n",
       "4                Lyceum Theatre       61059.0              NaN   \n",
       "\n",
       "   avg_ticket_price  top_ticket_price  seats_sold  seats_in_theatre  \\\n",
       "0             30.42               NaN        9281              1655   \n",
       "1             27.25               NaN        8167              1472   \n",
       "2             33.75               NaN        7386              1088   \n",
       "3             20.87               NaN        4586               682   \n",
       "4             20.78               NaN        2938               684   \n",
       "\n",
       "   pct_capacity  performances  previews  \n",
       "0        0.7010             8         0  \n",
       "1        0.6935             8         0  \n",
       "2        0.8486             8         0  \n",
       "3        0.8405             8         0  \n",
       "4        0.5369             8         0  "
      ]
     },
     "execution_count": 2,
     "metadata": {},
     "output_type": "execute_result"
    }
   ],
   "source": [
    "df = pd.read_csv('gross.csv')\n",
    "df.head()"
   ]
  },
  {
   "cell_type": "markdown",
   "metadata": {},
   "source": [
    "#### Selecting the rows and columns that we want"
   ]
  },
  {
   "cell_type": "code",
   "execution_count": 3,
   "metadata": {},
   "outputs": [
    {
     "data": {
      "text/html": [
       "<div>\n",
       "<style scoped>\n",
       "    .dataframe tbody tr th:only-of-type {\n",
       "        vertical-align: middle;\n",
       "    }\n",
       "\n",
       "    .dataframe tbody tr th {\n",
       "        vertical-align: top;\n",
       "    }\n",
       "\n",
       "    .dataframe thead th {\n",
       "        text-align: right;\n",
       "    }\n",
       "</style>\n",
       "<table border=\"1\" class=\"dataframe\">\n",
       "  <thead>\n",
       "    <tr style=\"text-align: right;\">\n",
       "      <th></th>\n",
       "      <th>gross</th>\n",
       "    </tr>\n",
       "    <tr>\n",
       "      <th>date</th>\n",
       "      <th></th>\n",
       "    </tr>\n",
       "  </thead>\n",
       "  <tbody>\n",
       "    <tr>\n",
       "      <th>2015-07-19</th>\n",
       "      <td>1288436.0</td>\n",
       "    </tr>\n",
       "    <tr>\n",
       "      <th>2015-07-26</th>\n",
       "      <td>1302511.0</td>\n",
       "    </tr>\n",
       "    <tr>\n",
       "      <th>2015-08-02</th>\n",
       "      <td>1490816.0</td>\n",
       "    </tr>\n",
       "    <tr>\n",
       "      <th>2015-08-09</th>\n",
       "      <td>1255163.0</td>\n",
       "    </tr>\n",
       "    <tr>\n",
       "      <th>2015-08-16</th>\n",
       "      <td>1459314.0</td>\n",
       "    </tr>\n",
       "  </tbody>\n",
       "</table>\n",
       "</div>"
      ],
      "text/plain": [
       "                gross\n",
       "date                 \n",
       "2015-07-19  1288436.0\n",
       "2015-07-26  1302511.0\n",
       "2015-08-02  1490816.0\n",
       "2015-08-09  1255163.0\n",
       "2015-08-16  1459314.0"
      ]
     },
     "execution_count": 3,
     "metadata": {},
     "output_type": "execute_result"
    }
   ],
   "source": [
    "# Only get the rows and columns that we want\n",
    "\n",
    "# Step 1: Only get the show Hamilton\n",
    "df = df[(df['show'] == 'Hamilton')]\n",
    "\n",
    "# Step 2: Drop all columns except 'week_ending' and 'weekly_gross'\n",
    "df.drop(['week_number','weekly_gross_overall', 'show', 'theatre', 'potential_gross',\n",
    "              'avg_ticket_price', 'top_ticket_price', 'seats_sold', 'seats_in_theatre', \n",
    "              'pct_capacity', 'performances', 'previews'], axis=1, inplace = True) \n",
    "\n",
    "# Step 3: change name from 'week_ending' to 'date' AND 'weekly_gross' to just 'gross'\n",
    "df.rename(columns = {\"week_ending\": \"date\"}, inplace = True) \n",
    "df.rename(columns = {\"weekly_gross\": \"gross\"}, inplace = True)\n",
    "\n",
    "# Step 4: change date column to type 'datetime64[ns]'\n",
    "df['date'] = df['date'].astype('datetime64[ns]')\n",
    "\n",
    "# set the df equal to month and create a month column so we can create a season column later on\n",
    "df_month = df\n",
    "\n",
    "# Step 5: make date the index\n",
    "df.set_index('date', inplace=True)\n",
    "\n",
    "#Step 6: Set it equal to 'df_week'\n",
    "df_week = df\n",
    "\n",
    "#Step 7: Look at the final table\n",
    "df_month.head()"
   ]
  },
  {
   "cell_type": "code",
   "execution_count": 4,
   "metadata": {},
   "outputs": [
    {
     "name": "stdout",
     "output_type": "stream",
     "text": [
      "                 gross\n",
      "date                  \n",
      "2015-07-01  1295473.50\n",
      "2015-08-01  1442194.80\n",
      "2015-09-01  1592876.75\n",
      "2015-10-01  1531843.25\n",
      "2015-11-01  1649660.40\n"
     ]
    },
    {
     "data": {
      "image/png": "[encoded data removed]",
      "text/plain": [
       "<Figure size 1152x432 with 1 Axes>"
      ]
     },
     "metadata": {
      "needs_background": "light"
     },
     "output_type": "display_data"
    }
   ],
   "source": [
    "# Downsampling to a month\n",
    "df_month = df.resample('MS').mean()\n",
    "print(df_month.head())\n",
    "\n",
    "# line plot for a month at a time\n",
    "df_month.plot(figsize = (16,6));\n",
    "plt.xlabel('Year', fontsize=20)\n",
    "plt.ylabel('Monthly Gross', fontsize=20)\n",
    "plt.show()"
   ]
  },
  {
   "cell_type": "markdown",
   "metadata": {},
   "source": [
    "### EDA"
   ]
  },
  {
   "cell_type": "code",
   "execution_count": null,
   "metadata": {},
   "outputs": [],
   "source": []
  },
  {
   "cell_type": "code",
   "execution_count": null,
   "metadata": {},
   "outputs": [],
   "source": []
  },
  {
   "cell_type": "code",
   "execution_count": null,
   "metadata": {},
   "outputs": [],
   "source": []
  },
  {
   "cell_type": "code",
   "execution_count": null,
   "metadata": {},
   "outputs": [],
   "source": []
  },
  {
   "cell_type": "code",
   "execution_count": null,
   "metadata": {},
   "outputs": [],
   "source": []
  },
  {
   "cell_type": "code",
   "execution_count": null,
   "metadata": {},
   "outputs": [],
   "source": []
  },
  {
   "cell_type": "markdown",
   "metadata": {},
   "source": [
    "### Check for Stationarity"
   ]
  },
  {
   "cell_type": "code",
   "execution_count": 5,
   "metadata": {},
   "outputs": [],
   "source": [
    "ts = df_month"
   ]
  },
  {
   "cell_type": "code",
   "execution_count": 6,
   "metadata": {},
   "outputs": [],
   "source": [
    "# Create a function to check for the stationarity of a given time series using rolling stats and DF test\n",
    "\n",
    "def stationarity_check(TS):\n",
    "    \n",
    "    # Import adfuller\n",
    "    from statsmodels.tsa.stattools import adfuller\n",
    "    \n",
    "    # Calculate rolling statistics\n",
    "    roll_mean = TS.rolling(window=8, center=False).mean()\n",
    "    roll_std = TS.rolling(window=8, center=False).std()\n",
    "    \n",
    "    # Perform the Dickey Fuller Test\n",
    "    dftest = adfuller(TS['gross'])\n",
    "\n",
    "    \n",
    "    # Print Dickey-Fuller test results\n",
    "    print('Results of Dickey-Fuller Test: \\n')\n",
    "\n",
    "    dfoutput = pd.Series(dftest[0:4], index=['Test Statistic', 'p-value', \n",
    "                                             '#Lags Used', 'Number of Observations Used'])\n",
    "    for key,value in dftest[4].items():\n",
    "        dfoutput['Critical Value (%s)'%key] = value\n",
    "    print(dfoutput)\n",
    "    \n",
    "    return None"
   ]
  },
  {
   "cell_type": "code",
   "execution_count": 7,
   "metadata": {},
   "outputs": [
    {
     "name": "stdout",
     "output_type": "stream",
     "text": [
      "Results of Dickey-Fuller Test: \n",
      "\n",
      "Test Statistic                 -2.481191\n",
      "p-value                         0.120118\n",
      "#Lags Used                      2.000000\n",
      "Number of Observations Used    54.000000\n",
      "Critical Value (1%)            -3.557709\n",
      "Critical Value (5%)            -2.916770\n",
      "Critical Value (10%)           -2.596222\n",
      "dtype: float64\n"
     ]
    }
   ],
   "source": [
    "stationarity_check(ts)"
   ]
  },
  {
   "cell_type": "markdown",
   "metadata": {},
   "source": [
    "The p-value of .12 is higher than our alpha of .05, therefore we fail to reject the null hypothesis."
   ]
  },
  {
   "cell_type": "code",
   "execution_count": 8,
   "metadata": {},
   "outputs": [
    {
     "name": "stdout",
     "output_type": "stream",
     "text": [
      "Results of Dickey-Fuller Test: \n",
      "\n",
      "Test Statistic                 -2.888194\n",
      "p-value                         0.046738\n",
      "#Lags Used                      1.000000\n",
      "Number of Observations Used    55.000000\n",
      "Critical Value (1%)            -3.555273\n",
      "Critical Value (5%)            -2.915731\n",
      "Critical Value (10%)           -2.595670\n",
      "dtype: float64\n"
     ]
    }
   ],
   "source": [
    "# Detrend the data by taking the square root\n",
    "ts_sqrt = np.sqrt(ts)\n",
    "stationarity_check(ts_sqrt)"
   ]
  },
  {
   "cell_type": "markdown",
   "metadata": {},
   "source": [
    "The p-value of .0467 is lower than our alpha of .05, therefore we reject the null hypothesis and conclude that our date is stationary."
   ]
  },
  {
   "cell_type": "code",
   "execution_count": 9,
   "metadata": {},
   "outputs": [],
   "source": [
    "X = ts_sqrt['gross']"
   ]
  },
  {
   "cell_type": "markdown",
   "metadata": {},
   "source": [
    "#### Check the ACF and PACF"
   ]
  },
  {
   "cell_type": "code",
   "execution_count": 10,
   "metadata": {
    "scrolled": true
   },
   "outputs": [
    {
     "data": {
      "image/png": "[encoded data removed]",
      "text/plain": [
       "<Figure size 432x288 with 1 Axes>"
      ]
     },
     "metadata": {
      "needs_background": "light"
     },
     "output_type": "display_data"
    },
    {
     "data": {
      "image/png": "[encoded data removed]",
      "text/plain": [
       "<Figure size 432x288 with 1 Axes>"
      ]
     },
     "metadata": {
      "needs_background": "light"
     },
     "output_type": "display_data"
    }
   ],
   "source": [
    "alpha=.05\n",
    "plot_acf(X, alpha=alpha);\n",
    "plot_pacf(X, alpha=alpha);"
   ]
  },
  {
   "cell_type": "markdown",
   "metadata": {},
   "source": [
    "Results: \n",
    "1. ACF - Strongly positively correlated lags we will use for the MA model\n",
    "2. PACF - only the first lag is strongly correlated"
   ]
  },
  {
   "cell_type": "markdown",
   "metadata": {},
   "source": [
    "# Modeling"
   ]
  },
  {
   "cell_type": "markdown",
   "metadata": {},
   "source": [
    "#### Baseline Models - ARIMA"
   ]
  },
  {
   "cell_type": "markdown",
   "metadata": {},
   "source": [
    "When a data set has no seasonality, there is strong dependence among values, and it is non-stationary then we use an ARIMA model. I detrended the data by taking the square root, performed a DIckey-Fuller Test to check the stationarity, and then used an ARIMA model as my baseline to see how it predicts. "
   ]
  },
  {
   "cell_type": "code",
   "execution_count": 11,
   "metadata": {},
   "outputs": [],
   "source": [
    "# To show the scores of all the models throughout the notebook\n",
    "scores = {}"
   ]
  },
  {
   "cell_type": "code",
   "execution_count": 12,
   "metadata": {},
   "outputs": [],
   "source": [
    "# Full Arima model which prints out the predicted and actual scores of 2019\n",
    "def build_arima_full(p,d,q):\n",
    "    X = ts_sqrt['gross']\n",
    "    train, test = X['2015-07-01':'2018-12-01'], X['2019-01-01':'2019-12-01']\n",
    "    history = [x for x in train]\n",
    "    predictions = list()\n",
    "    for t in range(len(test)):\n",
    "        model = ARIMA(history, order=(p,d,q))\n",
    "        model_fit = model.fit(disp=0)\n",
    "        output = model_fit.forecast()\n",
    "        yhat = output[0]\n",
    "        predictions.append(yhat)\n",
    "        obs = test[t]\n",
    "        history.append(obs)\n",
    "        print('Month = %.0f-2019, predicted = $%.2f, expected = $%.2f' % (t+1, yhat**2, obs**2))\n",
    "    rmse = sqrt(mean_squared_error(test**2, np.array(predictions)**2))\n",
    "    print('Test RMSE: $%.2f' % rmse)\n",
    "    scores['Baseline ARIMA', (p,d,q)] = rmse\n",
    "    scores"
   ]
  },
  {
   "cell_type": "code",
   "execution_count": 13,
   "metadata": {},
   "outputs": [],
   "source": [
    "# Just prints out the RMSE of the test set\n",
    "def build_arima(p,d,q):\n",
    "    X = ts_sqrt['gross']\n",
    "    train, test = X['2015-07-01':'2018-12-01'], X['2019-01-01':'2019-12-01']\n",
    "    history = [x for x in train]\n",
    "    predictions = list()\n",
    "    for t in range(len(test)):\n",
    "        model = ARIMA(history, order=(p,d,q))\n",
    "        model_fit = model.fit(disp=0)\n",
    "        output = model_fit.forecast()\n",
    "        yhat = output[0]\n",
    "        predictions.append(yhat)\n",
    "        obs = test[t]\n",
    "        history.append(obs)\n",
    "#       print('Month = %.0f-2019, predicted = $%.2f, expected = $%.2f' % (t+1, yhat, obs))\n",
    "    rmse = sqrt(mean_squared_error(test**2, np.array(predictions)**2))\n",
    "    print('pdq =',p,d,q)\n",
    "    print('Test RMSE: $%.2f' % rmse)\n",
    "    scores['Baseline ARIMA ', (p,d,q)] = rmse\n",
    "    scores"
   ]
  },
  {
   "cell_type": "code",
   "execution_count": 14,
   "metadata": {
    "scrolled": true
   },
   "outputs": [
    {
     "name": "stdout",
     "output_type": "stream",
     "text": [
      "pdq = 0 0 0\n",
      "Test RMSE: $517814.16\n",
      "pdq = 0 0 1\n",
      "Test RMSE: $336855.87\n",
      "pdq = 0 0 2\n",
      "Test RMSE: $252381.64\n",
      "pdq = 0 1 0\n",
      "Test RMSE: $184765.90\n",
      "pdq = 0 1 1\n",
      "Test RMSE: $183121.22\n",
      "pdq = 0 1 2\n",
      "Test RMSE: $182465.96\n",
      "- - - - - - - -\n",
      "pdq = 1 0 0\n",
      "Test RMSE: $170362.10\n",
      "pdq = 1 0 1\n",
      "Test RMSE: $168121.34\n",
      "pdq = 1 0 2\n",
      "Test RMSE: $167063.33\n",
      "pdq = 1 1 0\n",
      "Test RMSE: $182513.50\n",
      "pdq = 1 1 1\n",
      "Test RMSE: $183165.58\n",
      "- - - - - - - -\n",
      "pdq = 2 0 0\n",
      "Test RMSE: $167808.39\n"
     ]
    },
    {
     "name": "stderr",
     "output_type": "stream",
     "text": [
      "/Users/yehudaschein/.local/lib/python3.7/site-packages/statsmodels/base/model.py:492: HessianInversionWarning: Inverting hessian failed, no bse or cov_params available\n",
      "  'available', HessianInversionWarning)\n",
      "/Users/yehudaschein/.local/lib/python3.7/site-packages/statsmodels/base/model.py:512: ConvergenceWarning: Maximum Likelihood optimization failed to converge. Check mle_retvals\n",
      "  \"Check mle_retvals\", ConvergenceWarning)\n"
     ]
    },
    {
     "name": "stdout",
     "output_type": "stream",
     "text": [
      "pdq = 2 0 1\n",
      "Test RMSE: $163825.73\n"
     ]
    },
    {
     "name": "stderr",
     "output_type": "stream",
     "text": [
      "/Users/yehudaschein/.local/lib/python3.7/site-packages/statsmodels/base/model.py:512: ConvergenceWarning: Maximum Likelihood optimization failed to converge. Check mle_retvals\n",
      "  \"Check mle_retvals\", ConvergenceWarning)\n"
     ]
    },
    {
     "name": "stdout",
     "output_type": "stream",
     "text": [
      "pdq = 2 0 2\n",
      "Test RMSE: $159765.09\n",
      "pdq = 2 1 0\n",
      "Test RMSE: $184693.80\n",
      "pdq = 2 1 1\n",
      "Test RMSE: $189559.11\n"
     ]
    }
   ],
   "source": [
    "# Building all the baseline models\n",
    "build_arima(0,0,0)\n",
    "build_arima(0,0,1)\n",
    "build_arima(0,0,2)\n",
    "build_arima(0,1,0)\n",
    "build_arima(0,1,1)\n",
    "build_arima(0,1,2)\n",
    "print('- - - - - - - -')\n",
    "build_arima(1,0,0)\n",
    "build_arima(1,0,1)\n",
    "build_arima(1,0,2)\n",
    "build_arima(1,1,0)\n",
    "build_arima(1,1,1)\n",
    "print('- - - - - - - -')\n",
    "build_arima(2,0,0)\n",
    "build_arima(2,0,1)\n",
    "build_arima(2,0,2)\n",
    "build_arima(2,1,0)\n",
    "build_arima(2,1,1)"
   ]
  },
  {
   "cell_type": "code",
   "execution_count": 36,
   "metadata": {},
   "outputs": [
    {
     "name": "stderr",
     "output_type": "stream",
     "text": [
      "/Users/yehudaschein/.local/lib/python3.7/site-packages/statsmodels/base/model.py:492: HessianInversionWarning: Inverting hessian failed, no bse or cov_params available\n",
      "  'available', HessianInversionWarning)\n",
      "/Users/yehudaschein/.local/lib/python3.7/site-packages/statsmodels/base/model.py:512: ConvergenceWarning: Maximum Likelihood optimization failed to converge. Check mle_retvals\n",
      "  \"Check mle_retvals\", ConvergenceWarning)\n",
      "/Users/yehudaschein/.local/lib/python3.7/site-packages/statsmodels/base/model.py:492: HessianInversionWarning: Inverting hessian failed, no bse or cov_params available\n",
      "  'available', HessianInversionWarning)\n",
      "/Users/yehudaschein/.local/lib/python3.7/site-packages/statsmodels/base/model.py:512: ConvergenceWarning: Maximum Likelihood optimization failed to converge. Check mle_retvals\n",
      "  \"Check mle_retvals\", ConvergenceWarning)\n"
     ]
    },
    {
     "name": "stdout",
     "output_type": "stream",
     "text": [
      "pdq = 12 1 1\n",
      "Test RMSE: $165593.75\n"
     ]
    },
    {
     "name": "stderr",
     "output_type": "stream",
     "text": [
      "/Users/yehudaschein/.local/lib/python3.7/site-packages/statsmodels/base/model.py:492: HessianInversionWarning: Inverting hessian failed, no bse or cov_params available\n",
      "  'available', HessianInversionWarning)\n"
     ]
    }
   ],
   "source": [
    "build_arima(12,1,1)"
   ]
  },
  {
   "cell_type": "code",
   "execution_count": 15,
   "metadata": {},
   "outputs": [
    {
     "data": {
      "text/html": [
       "<div>\n",
       "<style scoped>\n",
       "    .dataframe tbody tr th:only-of-type {\n",
       "        vertical-align: middle;\n",
       "    }\n",
       "\n",
       "    .dataframe tbody tr th {\n",
       "        vertical-align: top;\n",
       "    }\n",
       "\n",
       "    .dataframe thead th {\n",
       "        text-align: right;\n",
       "    }\n",
       "</style>\n",
       "<table border=\"1\" class=\"dataframe\">\n",
       "  <thead>\n",
       "    <tr style=\"text-align: right;\">\n",
       "      <th></th>\n",
       "      <th>RMSE</th>\n",
       "    </tr>\n",
       "    <tr>\n",
       "      <th>Baseline models</th>\n",
       "      <th></th>\n",
       "    </tr>\n",
       "  </thead>\n",
       "  <tbody>\n",
       "    <tr>\n",
       "      <th>(Baseline ARIMA , (2, 0, 2))</th>\n",
       "      <td>159765.090320</td>\n",
       "    </tr>\n",
       "    <tr>\n",
       "      <th>(Baseline ARIMA , (2, 0, 1))</th>\n",
       "      <td>163825.732263</td>\n",
       "    </tr>\n",
       "    <tr>\n",
       "      <th>(Baseline ARIMA , (1, 0, 2))</th>\n",
       "      <td>167063.326719</td>\n",
       "    </tr>\n",
       "    <tr>\n",
       "      <th>(Baseline ARIMA , (2, 0, 0))</th>\n",
       "      <td>167808.389732</td>\n",
       "    </tr>\n",
       "    <tr>\n",
       "      <th>(Baseline ARIMA , (1, 0, 1))</th>\n",
       "      <td>168121.336323</td>\n",
       "    </tr>\n",
       "    <tr>\n",
       "      <th>(Baseline ARIMA , (1, 0, 0))</th>\n",
       "      <td>170362.103437</td>\n",
       "    </tr>\n",
       "    <tr>\n",
       "      <th>(Baseline ARIMA , (0, 1, 2))</th>\n",
       "      <td>182465.960825</td>\n",
       "    </tr>\n",
       "    <tr>\n",
       "      <th>(Baseline ARIMA , (1, 1, 0))</th>\n",
       "      <td>182513.500994</td>\n",
       "    </tr>\n",
       "    <tr>\n",
       "      <th>(Baseline ARIMA , (0, 1, 1))</th>\n",
       "      <td>183121.223955</td>\n",
       "    </tr>\n",
       "    <tr>\n",
       "      <th>(Baseline ARIMA , (1, 1, 1))</th>\n",
       "      <td>183165.579905</td>\n",
       "    </tr>\n",
       "    <tr>\n",
       "      <th>(Baseline ARIMA , (2, 1, 0))</th>\n",
       "      <td>184693.799897</td>\n",
       "    </tr>\n",
       "    <tr>\n",
       "      <th>(Baseline ARIMA , (0, 1, 0))</th>\n",
       "      <td>184765.901900</td>\n",
       "    </tr>\n",
       "    <tr>\n",
       "      <th>(Baseline ARIMA , (2, 1, 1))</th>\n",
       "      <td>189559.110859</td>\n",
       "    </tr>\n",
       "    <tr>\n",
       "      <th>(Baseline ARIMA , (0, 0, 2))</th>\n",
       "      <td>252381.641440</td>\n",
       "    </tr>\n",
       "    <tr>\n",
       "      <th>(Baseline ARIMA , (0, 0, 1))</th>\n",
       "      <td>336855.865101</td>\n",
       "    </tr>\n",
       "    <tr>\n",
       "      <th>(Baseline ARIMA , (0, 0, 0))</th>\n",
       "      <td>517814.155001</td>\n",
       "    </tr>\n",
       "  </tbody>\n",
       "</table>\n",
       "</div>"
      ],
      "text/plain": [
       "                                       RMSE\n",
       "Baseline models                            \n",
       "(Baseline ARIMA , (2, 0, 2))  159765.090320\n",
       "(Baseline ARIMA , (2, 0, 1))  163825.732263\n",
       "(Baseline ARIMA , (1, 0, 2))  167063.326719\n",
       "(Baseline ARIMA , (2, 0, 0))  167808.389732\n",
       "(Baseline ARIMA , (1, 0, 1))  168121.336323\n",
       "(Baseline ARIMA , (1, 0, 0))  170362.103437\n",
       "(Baseline ARIMA , (0, 1, 2))  182465.960825\n",
       "(Baseline ARIMA , (1, 1, 0))  182513.500994\n",
       "(Baseline ARIMA , (0, 1, 1))  183121.223955\n",
       "(Baseline ARIMA , (1, 1, 1))  183165.579905\n",
       "(Baseline ARIMA , (2, 1, 0))  184693.799897\n",
       "(Baseline ARIMA , (0, 1, 0))  184765.901900\n",
       "(Baseline ARIMA , (2, 1, 1))  189559.110859\n",
       "(Baseline ARIMA , (0, 0, 2))  252381.641440\n",
       "(Baseline ARIMA , (0, 0, 1))  336855.865101\n",
       "(Baseline ARIMA , (0, 0, 0))  517814.155001"
      ]
     },
     "execution_count": 15,
     "metadata": {},
     "output_type": "execute_result"
    }
   ],
   "source": [
    "# Showing a list of all the baseline models and their RMSE scores\n",
    "s = pd.DataFrame.from_dict(scores, orient='index',columns = ['RMSE'])\n",
    "s.index.name = 'Baseline models'\n",
    "s.sort_values(by = 'RMSE')"
   ]
  },
  {
   "cell_type": "markdown",
   "metadata": {},
   "source": [
    "The baseline model with the parameters (2,0,2) performed the best with an RMSE of 159765"
   ]
  },
  {
   "cell_type": "markdown",
   "metadata": {},
   "source": [
    "#### SARIMA Models - Parameter Selection"
   ]
  },
  {
   "cell_type": "markdown",
   "metadata": {},
   "source": [
    "Because there are seasonal patterns in the date set from the spikes in December for holiday season, I decided to use a SARIMA model which takes seasonality into account. For this model I used the original monthly data set which was not detrended. Using the SARIMA model I performed a grid search to find the besyt hyper-parameters. "
   ]
  },
  {
   "cell_type": "code",
   "execution_count": 16,
   "metadata": {},
   "outputs": [],
   "source": [
    "# Define the p, d and q parameters to take any value between 0 and 2\n",
    "p = d = q = range(0, 2)\n",
    "\n",
    "# Generate all different combinations of p, q and q triplets\n",
    "pdq = list(itertools.product(p, d, q))\n",
    "\n",
    "# Generate all different combinations of seasonal p, q and q triplets\n",
    "pdqs = [(x[0], x[1], x[2], 12) for x in list(itertools.product(p, d, q))]"
   ]
  },
  {
   "cell_type": "code",
   "execution_count": 17,
   "metadata": {},
   "outputs": [
    {
     "name": "stdout",
     "output_type": "stream",
     "text": [
      "ARIMA (0, 0, 0) x (0, 0, 0, 12)12 : AIC Calculated =1821.3630964057124\n",
      "ARIMA (0, 0, 0) x (0, 0, 1, 12)12 : AIC Calculated =1409.4467113794053\n",
      "ARIMA (0, 0, 0) x (0, 1, 0, 12)12 : AIC Calculated =1298.0956206910537\n",
      "ARIMA (0, 0, 0) x (0, 1, 1, 12)12 : AIC Calculated =2932.491986077116\n",
      "ARIMA (0, 0, 0) x (1, 0, 0, 12)12 : AIC Calculated =1321.8832745705633\n",
      "ARIMA (0, 0, 0) x (1, 0, 1, 12)12 : AIC Calculated =1275.0421645462957\n",
      "ARIMA (0, 0, 0) x (1, 1, 0, 12)12 : AIC Calculated =935.9236620670023\n",
      "ARIMA (0, 0, 0) x (1, 1, 1, 12)12 : AIC Calculated =2900.5618325007467\n",
      "ARIMA (0, 0, 1) x (0, 0, 0, 12)12 : AIC Calculated =1752.293039163315\n",
      "ARIMA (0, 0, 1) x (0, 0, 1, 12)12 : AIC Calculated =1467.1502925956838\n",
      "ARIMA (0, 0, 1) x (0, 1, 0, 12)12 : AIC Calculated =1241.0528787270923\n",
      "ARIMA (0, 0, 1) x (0, 1, 1, 12)12 : AIC Calculated =2908.7559410094036\n",
      "ARIMA (0, 0, 1) x (1, 0, 0, 12)12 : AIC Calculated =1425.3949256340998\n",
      "ARIMA (0, 0, 1) x (1, 0, 1, 12)12 : AIC Calculated =1363.9538670393358\n",
      "ARIMA (0, 0, 1) x (1, 1, 0, 12)12 : AIC Calculated =947.9833102532485\n",
      "ARIMA (0, 0, 1) x (1, 1, 1, 12)12 : AIC Calculated =2898.5037290379723\n",
      "ARIMA (0, 1, 0) x (0, 0, 0, 12)12 : AIC Calculated =1468.0475472361613\n",
      "ARIMA (0, 1, 0) x (0, 0, 1, 12)12 : AIC Calculated =1149.9148045395232\n",
      "ARIMA (0, 1, 0) x (0, 1, 0, 12)12 : AIC Calculated =1153.5343860260164\n",
      "ARIMA (0, 1, 0) x (0, 1, 1, 12)12 : AIC Calculated =2804.785732840288\n",
      "ARIMA (0, 1, 0) x (1, 0, 0, 12)12 : AIC Calculated =1173.7448480833061\n",
      "ARIMA (0, 1, 0) x (1, 0, 1, 12)12 : AIC Calculated =1151.2358336611173\n",
      "ARIMA (0, 1, 0) x (1, 1, 0, 12)12 : AIC Calculated =859.3108750989743\n",
      "ARIMA (0, 1, 0) x (1, 1, 1, 12)12 : AIC Calculated =2788.5408975913933\n",
      "ARIMA (0, 1, 1) x (0, 0, 0, 12)12 : AIC Calculated =1439.873773993542\n",
      "ARIMA (0, 1, 1) x (0, 0, 1, 12)12 : AIC Calculated =1122.4185769263725\n",
      "ARIMA (0, 1, 1) x (0, 1, 0, 12)12 : AIC Calculated =1127.2815066557305\n",
      "ARIMA (0, 1, 1) x (0, 1, 1, 12)12 : AIC Calculated =2722.452293659529\n",
      "ARIMA (0, 1, 1) x (1, 0, 0, 12)12 : AIC Calculated =1173.4153918234015\n",
      "ARIMA (0, 1, 1) x (1, 0, 1, 12)12 : AIC Calculated =1122.8987193053708\n",
      "ARIMA (0, 1, 1) x (1, 1, 0, 12)12 : AIC Calculated =859.6856516912281\n",
      "ARIMA (0, 1, 1) x (1, 1, 1, 12)12 : AIC Calculated =2712.4847791959237\n",
      "ARIMA (1, 0, 0) x (0, 0, 0, 12)12 : AIC Calculated =1496.1503510459443\n",
      "ARIMA (1, 0, 0) x (0, 0, 1, 12)12 : AIC Calculated =1177.1673830254026\n",
      "ARIMA (1, 0, 0) x (0, 1, 0, 12)12 : AIC Calculated =1179.6390720537477\n",
      "ARIMA (1, 0, 0) x (0, 1, 1, 12)12 : AIC Calculated =2917.2125240628448\n",
      "ARIMA (1, 0, 0) x (1, 0, 0, 12)12 : AIC Calculated =1175.4508863974106\n",
      "ARIMA (1, 0, 0) x (1, 0, 1, 12)12 : AIC Calculated =1177.3664518555004\n",
      "ARIMA (1, 0, 0) x (1, 1, 0, 12)12 : AIC Calculated =856.555382185846\n",
      "ARIMA (1, 0, 0) x (1, 1, 1, 12)12 : AIC Calculated =2906.5650794471717\n",
      "ARIMA (1, 0, 1) x (0, 0, 0, 12)12 : AIC Calculated =1468.0325785986793\n",
      "ARIMA (1, 0, 1) x (0, 0, 1, 12)12 : AIC Calculated =1190.3124179387144\n",
      "ARIMA (1, 0, 1) x (0, 1, 0, 12)12 : AIC Calculated =1154.1109397908995\n",
      "ARIMA (1, 0, 1) x (0, 1, 1, 12)12 : AIC Calculated =2829.049280619544\n",
      "ARIMA (1, 0, 1) x (1, 0, 0, 12)12 : AIC Calculated =1175.9453881189916\n",
      "ARIMA (1, 0, 1) x (1, 0, 1, 12)12 : AIC Calculated =1150.2810269735535\n",
      "ARIMA (1, 0, 1) x (1, 1, 0, 12)12 : AIC Calculated =855.4881812847509\n",
      "ARIMA (1, 0, 1) x (1, 1, 1, 12)12 : AIC Calculated =2818.7970686481126\n",
      "ARIMA (1, 1, 0) x (0, 0, 0, 12)12 : AIC Calculated =1466.926512831813\n",
      "ARIMA (1, 1, 0) x (0, 0, 1, 12)12 : AIC Calculated =1148.2037434649596\n",
      "ARIMA (1, 1, 0) x (0, 1, 0, 12)12 : AIC Calculated =1152.7961226077184\n",
      "ARIMA (1, 1, 0) x (0, 1, 1, 12)12 : AIC Calculated =2814.3232000538114\n",
      "ARIMA (1, 1, 0) x (1, 0, 0, 12)12 : AIC Calculated =1146.7633216537918\n",
      "ARIMA (1, 1, 0) x (1, 0, 1, 12)12 : AIC Calculated =1148.4852203119656\n",
      "ARIMA (1, 1, 0) x (1, 1, 0, 12)12 : AIC Calculated =833.1859427678919\n",
      "ARIMA (1, 1, 0) x (1, 1, 1, 12)12 : AIC Calculated =2803.956768441422\n",
      "ARIMA (1, 1, 1) x (0, 0, 0, 12)12 : AIC Calculated =1441.595140647495\n",
      "ARIMA (1, 1, 1) x (0, 0, 1, 12)12 : AIC Calculated =1124.2580442292847\n",
      "ARIMA (1, 1, 1) x (0, 1, 0, 12)12 : AIC Calculated =1129.096444717732\n",
      "ARIMA (1, 1, 1) x (0, 1, 1, 12)12 : AIC Calculated =2724.43656657915\n",
      "ARIMA (1, 1, 1) x (1, 0, 0, 12)12 : AIC Calculated =1148.7474436550172\n",
      "ARIMA (1, 1, 1) x (1, 0, 1, 12)12 : AIC Calculated =1124.7841456175001\n",
      "ARIMA (1, 1, 1) x (1, 1, 0, 12)12 : AIC Calculated =835.0811887166296\n",
      "ARIMA (1, 1, 1) x (1, 1, 1, 12)12 : AIC Calculated =2714.4690521155444\n"
     ]
    }
   ],
   "source": [
    "# Run a grid with pdq and seasonal pdq parameters calculated above and get the best AIC value\n",
    "ans = []\n",
    "for comb in pdq:\n",
    "    for combs in pdqs:\n",
    "        try:\n",
    "            mod = SARIMAX(df_month,\n",
    "                                            order=comb,\n",
    "                                            seasonal_order=combs,\n",
    "                                            enforce_stationarity=False,\n",
    "                                            enforce_invertibility=False)\n",
    "\n",
    "            output = mod.fit()\n",
    "            ans.append([comb, combs, output.aic])\n",
    "            print('ARIMA {} x {}12 : AIC Calculated ={}'.format(comb, combs, output.aic))\n",
    "        except:\n",
    "            continue"
   ]
  },
  {
   "cell_type": "code",
   "execution_count": 18,
   "metadata": {},
   "outputs": [
    {
     "data": {
      "text/plain": [
       "pdq         (1, 1, 0)\n",
       "pdqs    (1, 1, 0, 12)\n",
       "aic           833.186\n",
       "Name: 54, dtype: object"
      ]
     },
     "execution_count": 18,
     "metadata": {},
     "output_type": "execute_result"
    }
   ],
   "source": [
    "# Find the parameters with minimal AIC value\n",
    "ans_df = pd.DataFrame(ans, columns=['pdq', 'pdqs', 'aic'])\n",
    "# ans_df['aic'] = pd.to_numeric(ans_df['aic'])\n",
    "ans_df.loc[ans_df['aic'].idxmin()]"
   ]
  },
  {
   "cell_type": "markdown",
   "metadata": {},
   "source": [
    "The output of our code suggests that ARIMA(1, 1, 0)x(1, 1, 0, 12) yields the lowest AIC value of 833.186. We should therefore consider this to be optimal option out of all the models we have considered."
   ]
  },
  {
   "cell_type": "code",
   "execution_count": 19,
   "metadata": {},
   "outputs": [
    {
     "name": "stdout",
     "output_type": "stream",
     "text": [
      "==============================================================================\n",
      "                 coef    std err          z      P>|z|      [0.025      0.975]\n",
      "------------------------------------------------------------------------------\n",
      "ar.L1         -0.2727      0.215     -1.268      0.205      -0.694       0.149\n",
      "ar.S.L12      -0.2285      0.135     -1.691      0.091      -0.493       0.036\n",
      "sigma2      2.345e+10   3.55e-12   6.61e+21      0.000    2.35e+10    2.35e+10\n",
      "==============================================================================\n"
     ]
    }
   ],
   "source": [
    "# Plug the optimal parameter values into a new SARIMAX model\n",
    "ARIMA_MODEL = SARIMAX(df_month, \n",
    "                                        order=(1, 1, 0), \n",
    "                                        seasonal_order=(1, 1, 0, 12), \n",
    "                                        enforce_stationarity=False, \n",
    "                                        enforce_invertibility=False)\n",
    "\n",
    "# Fit the model and print results\n",
    "output = ARIMA_MODEL.fit()\n",
    "\n",
    "print(output.summary().tables[1])"
   ]
  },
  {
   "cell_type": "code",
   "execution_count": 20,
   "metadata": {},
   "outputs": [
    {
     "name": "stdout",
     "output_type": "stream",
     "text": [
      "Month = 1-2019, predicted = $3242174.94, expected = $3216767.25\n",
      "Month = 2-2019, predicted = $3154521.64, expected = $3083388.25\n",
      "Month = 3-2019, predicted = $3175148.37, expected = $3131449.50\n",
      "Month = 4-2019, predicted = $3033681.68, expected = $3168584.75\n",
      "Month = 5-2019, predicted = $3169863.38, expected = $3118766.25\n",
      "Month = 6-2019, predicted = $3165342.14, expected = $3120375.40\n",
      "Month = 7-2019, predicted = $3197752.68, expected = $2984510.75\n",
      "Month = 8-2019, predicted = $2991587.97, expected = $3004554.00\n",
      "Month = 9-2019, predicted = $3061219.26, expected = $2958985.20\n",
      "Month = 10-2019, predicted = $2889225.39, expected = $2959574.75\n",
      "Month = 11-2019, predicted = $2942202.03, expected = $2729291.50\n",
      "Month = 12-2019, predicted = $2947516.71, expected = $3212040.40\n",
      "Test RMSE: $131273.13\n"
     ]
    }
   ],
   "source": [
    "X = df_month['gross']\n",
    "train, test = X['2015-07-01':'2018-12-01'], X['2019-01-01':'2019-12-01']\n",
    "history = [x for x in train]\n",
    "predictions = list()\n",
    "for t in range(len(test)):\n",
    "    model = SARIMAX(history, order=(1,1,0),  seasonal_order=(1, 1, 0, 12))\n",
    "    model_fit = model.fit(disp=0)\n",
    "    output = model_fit.forecast()\n",
    "    yhat = output[0]\n",
    "    predictions.append(yhat)\n",
    "    obs = test[t]\n",
    "    history.append(obs)\n",
    "    print('Month = %.0f-2019, predicted = $%.2f, expected = $%.2f' % (t+1, yhat, obs))\n",
    "rmse = sqrt(mean_squared_error(test, predictions))\n",
    "print('Test RMSE: $%.2f' % rmse)\n",
    "scores['SARIMA FROM GS (1,1,0) (1,1,0,12)'] = rmse"
   ]
  },
  {
   "cell_type": "code",
   "execution_count": 21,
   "metadata": {
    "scrolled": true
   },
   "outputs": [
    {
     "data": {
      "text/html": [
       "<div>\n",
       "<style scoped>\n",
       "    .dataframe tbody tr th:only-of-type {\n",
       "        vertical-align: middle;\n",
       "    }\n",
       "\n",
       "    .dataframe tbody tr th {\n",
       "        vertical-align: top;\n",
       "    }\n",
       "\n",
       "    .dataframe thead th {\n",
       "        text-align: right;\n",
       "    }\n",
       "</style>\n",
       "<table border=\"1\" class=\"dataframe\">\n",
       "  <thead>\n",
       "    <tr style=\"text-align: right;\">\n",
       "      <th></th>\n",
       "      <th>RMSE</th>\n",
       "    </tr>\n",
       "    <tr>\n",
       "      <th>Models</th>\n",
       "      <th></th>\n",
       "    </tr>\n",
       "  </thead>\n",
       "  <tbody>\n",
       "    <tr>\n",
       "      <th>SARIMA FROM GS (1,1,0) (1,1,0,12)</th>\n",
       "      <td>131273.129735</td>\n",
       "    </tr>\n",
       "    <tr>\n",
       "      <th>(Baseline ARIMA , (2, 0, 2))</th>\n",
       "      <td>159765.090320</td>\n",
       "    </tr>\n",
       "    <tr>\n",
       "      <th>(Baseline ARIMA , (2, 0, 1))</th>\n",
       "      <td>163825.732263</td>\n",
       "    </tr>\n",
       "    <tr>\n",
       "      <th>(Baseline ARIMA , (1, 0, 2))</th>\n",
       "      <td>167063.326719</td>\n",
       "    </tr>\n",
       "    <tr>\n",
       "      <th>(Baseline ARIMA , (2, 0, 0))</th>\n",
       "      <td>167808.389732</td>\n",
       "    </tr>\n",
       "    <tr>\n",
       "      <th>(Baseline ARIMA , (1, 0, 1))</th>\n",
       "      <td>168121.336323</td>\n",
       "    </tr>\n",
       "    <tr>\n",
       "      <th>(Baseline ARIMA , (1, 0, 0))</th>\n",
       "      <td>170362.103437</td>\n",
       "    </tr>\n",
       "    <tr>\n",
       "      <th>(Baseline ARIMA , (0, 1, 2))</th>\n",
       "      <td>182465.960825</td>\n",
       "    </tr>\n",
       "    <tr>\n",
       "      <th>(Baseline ARIMA , (1, 1, 0))</th>\n",
       "      <td>182513.500994</td>\n",
       "    </tr>\n",
       "    <tr>\n",
       "      <th>(Baseline ARIMA , (0, 1, 1))</th>\n",
       "      <td>183121.223955</td>\n",
       "    </tr>\n",
       "    <tr>\n",
       "      <th>(Baseline ARIMA , (1, 1, 1))</th>\n",
       "      <td>183165.579905</td>\n",
       "    </tr>\n",
       "    <tr>\n",
       "      <th>(Baseline ARIMA , (2, 1, 0))</th>\n",
       "      <td>184693.799897</td>\n",
       "    </tr>\n",
       "    <tr>\n",
       "      <th>(Baseline ARIMA , (0, 1, 0))</th>\n",
       "      <td>184765.901900</td>\n",
       "    </tr>\n",
       "    <tr>\n",
       "      <th>(Baseline ARIMA , (2, 1, 1))</th>\n",
       "      <td>189559.110859</td>\n",
       "    </tr>\n",
       "    <tr>\n",
       "      <th>(Baseline ARIMA , (0, 0, 2))</th>\n",
       "      <td>252381.641440</td>\n",
       "    </tr>\n",
       "    <tr>\n",
       "      <th>(Baseline ARIMA , (0, 0, 1))</th>\n",
       "      <td>336855.865101</td>\n",
       "    </tr>\n",
       "    <tr>\n",
       "      <th>(Baseline ARIMA , (0, 0, 0))</th>\n",
       "      <td>517814.155001</td>\n",
       "    </tr>\n",
       "  </tbody>\n",
       "</table>\n",
       "</div>"
      ],
      "text/plain": [
       "                                            RMSE\n",
       "Models                                          \n",
       "SARIMA FROM GS (1,1,0) (1,1,0,12)  131273.129735\n",
       "(Baseline ARIMA , (2, 0, 2))       159765.090320\n",
       "(Baseline ARIMA , (2, 0, 1))       163825.732263\n",
       "(Baseline ARIMA , (1, 0, 2))       167063.326719\n",
       "(Baseline ARIMA , (2, 0, 0))       167808.389732\n",
       "(Baseline ARIMA , (1, 0, 1))       168121.336323\n",
       "(Baseline ARIMA , (1, 0, 0))       170362.103437\n",
       "(Baseline ARIMA , (0, 1, 2))       182465.960825\n",
       "(Baseline ARIMA , (1, 1, 0))       182513.500994\n",
       "(Baseline ARIMA , (0, 1, 1))       183121.223955\n",
       "(Baseline ARIMA , (1, 1, 1))       183165.579905\n",
       "(Baseline ARIMA , (2, 1, 0))       184693.799897\n",
       "(Baseline ARIMA , (0, 1, 0))       184765.901900\n",
       "(Baseline ARIMA , (2, 1, 1))       189559.110859\n",
       "(Baseline ARIMA , (0, 0, 2))       252381.641440\n",
       "(Baseline ARIMA , (0, 0, 1))       336855.865101\n",
       "(Baseline ARIMA , (0, 0, 0))       517814.155001"
      ]
     },
     "execution_count": 21,
     "metadata": {},
     "output_type": "execute_result"
    }
   ],
   "source": [
    "# Updating the list of all the models and their RMSE scores\n",
    "s = pd.DataFrame.from_dict(scores, orient='index',columns = ['RMSE'])\n",
    "s.index.name = 'Models'\n",
    "s.sort_values(by = 'RMSE')"
   ]
  },
  {
   "cell_type": "markdown",
   "metadata": {},
   "source": [
    "We can see that the SARIMA grid search model performed the best of all the models with an RMSE of 131273"
   ]
  },
  {
   "cell_type": "code",
   "execution_count": 22,
   "metadata": {
    "scrolled": false
   },
   "outputs": [
    {
     "data": {
      "text/plain": [
       "[<matplotlib.lines.Line2D at 0x1a277e9d10>]"
      ]
     },
     "execution_count": 22,
     "metadata": {},
     "output_type": "execute_result"
    },
    {
     "data": {
      "image/png": "[encoded data removed]",
      "text/plain": [
       "<Figure size 432x288 with 1 Axes>"
      ]
     },
     "metadata": {
      "needs_background": "light"
     },
     "output_type": "display_data"
    }
   ],
   "source": [
    "plt.plot(range(12), predictions)\n",
    "plt.plot(range(12), test)"
   ]
  },
  {
   "cell_type": "markdown",
   "metadata": {},
   "source": [
    "This plot shows my predicted scores in blue and the actual scores in orange"
   ]
  },
  {
   "cell_type": "markdown",
   "metadata": {},
   "source": [
    "### Adding exogenous variables"
   ]
  },
  {
   "cell_type": "markdown",
   "metadata": {},
   "source": [
    "I created a few exogenous variables to try and improve my model. In the end, these exognenous variables did not beat my grid search SARIMA RMSE, but they still did perform well. In this cell I will go through the four exogenous variables which I added.\n",
    "1. Month - I simply created the month of the year as an exog variable to see if that had an effect on the gross of the show\n",
    "2. I made another variable called season which contains the season of the year\n",
    "3. I made a yes or no column which contains yes if there is a holiday in that month\n",
    "4. I created another yes or no column which says yes if Lin-Manuel Miranda, the star and writer of the show, is in the show. He was only in the show for the first 13 months"
   ]
  },
  {
   "cell_type": "code",
   "execution_count": 23,
   "metadata": {},
   "outputs": [],
   "source": [
    "# Create a new df for the exog variables \n",
    "df_month_exog = df_month.copy()"
   ]
  },
  {
   "cell_type": "code",
   "execution_count": 24,
   "metadata": {},
   "outputs": [],
   "source": [
    "df_month_exog.reset_index(inplace=True)\n",
    "# add month as an exog variable\n",
    "df_month_exog['month'] = pd.DatetimeIndex(df_month_exog['date']).month\n",
    "df_month_exog.set_index('date', inplace=True)\n",
    "# add season as an exog variable \n",
    "df_month_exog['season'] = ' '\n",
    "df_month_exog['season'] = np.where((df_month_exog['month'] == 1) | \n",
    "                        (df_month_exog['month'] == 2) | \n",
    "                        (df_month_exog['month'] == 3), \n",
    "                        'Winter', df_month_exog['season'])\n",
    "df_month_exog['season'] = np.where((df_month_exog['month'] == 4) | \n",
    "                        (df_month_exog['month'] == 5) | \n",
    "                        (df_month_exog['month'] == 6), \n",
    "                        'Spring', df_month_exog['season'])\n",
    "df_month_exog['season'] = np.where((df_month_exog['month'] == 7) | \n",
    "                        (df_month_exog['month'] == 8) | \n",
    "                        (df_month_exog['month'] == 9), \n",
    "                        'Summer', df_month_exog['season'])\n",
    "df_month_exog['season'] = np.where((df_month_exog['month'] == 10) | \n",
    "                        (df_month_exog['month'] == 11) | \n",
    "                        (df_month_exog['month'] == 12), \n",
    "                        'Fall', df_month_exog['season'])"
   ]
  },
  {
   "cell_type": "code",
   "execution_count": 25,
   "metadata": {},
   "outputs": [],
   "source": [
    "## add whether or not there is a holiday in the month\n",
    "df_month_exog['holiday'] = ' '\n",
    "df_month_exog['holiday'] = np.where((df_month_exog['month'] == 1) | # New Years\n",
    "                                    (df_month_exog['month'] == 2) | # Presidents Week\n",
    "                                    (df_month_exog['month'] == 5) | # Memorial Day\n",
    "                                    (df_month_exog['month'] == 7) | # Independence Day\n",
    "                                    (df_month_exog['month'] == 9) | # Labor Day\n",
    "                                    (df_month_exog['month'] == 10) | # Halloween / Columbus Day\n",
    "                                    (df_month_exog['month'] == 11) | # Thanksgiving\n",
    "                                    (df_month_exog['month'] == 12), # Christmas\n",
    "                                    'Yes', df_month_exog['holiday'])"
   ]
  },
  {
   "cell_type": "code",
   "execution_count": 26,
   "metadata": {},
   "outputs": [],
   "source": [
    "# add whether or not Lin-Manuel Miranda is in the show (pre Aug 2016)\n",
    "df_month_exog.reset_index(inplace=True)\n",
    "df_month_exog['Lin'] = ' '\n",
    "df_month_exog['Lin'] = np.where((df_month_exog['date'] < '2016-08-01'), 'Yes', df_month_exog['Lin'])\n",
    "df_month_exog.set_index('date', inplace=True)"
   ]
  },
  {
   "cell_type": "code",
   "execution_count": 27,
   "metadata": {},
   "outputs": [
    {
     "data": {
      "text/plain": [
       "(57, 17)"
      ]
     },
     "execution_count": 27,
     "metadata": {},
     "output_type": "execute_result"
    }
   ],
   "source": [
    "# Create dummies\n",
    "dummies = ['season', 'month', 'holiday', 'Lin']\n",
    "df_month_exog =  pd.get_dummies(df_month_exog, columns = dummies, drop_first = True )\n",
    "df_month_exog.shape"
   ]
  },
  {
   "cell_type": "code",
   "execution_count": 28,
   "metadata": {},
   "outputs": [],
   "source": [
    "# Drop the target column\n",
    "df_month_exog.drop(columns=['gross'], inplace=True)\n",
    "# Change the data types of the rows from int to float\n",
    "for i in df_month_exog.columns:\n",
    "    df_month_exog[i] = df_month_exog[i].astype('float')"
   ]
  },
  {
   "cell_type": "code",
   "execution_count": 32,
   "metadata": {},
   "outputs": [],
   "source": [
    "def sarimax_exog(p,d,q,a,b,c,e):\n",
    "    X = df_month['gross']\n",
    "    train, test = X['2015-07-01':'2018-12-01'], X['2019-01-01':'2019-12-01']\n",
    "    history = [x for x in train]\n",
    "    predictions = list()\n",
    "    # for t in range(len(test)):\n",
    "    model = SARIMAX(train, exog=df_month_exog['2015-07-01':'2018-12-01'], order=(p,d,q),  seasonal_order=(a, b, c, e))\n",
    "    model_fit = model.fit(disp=0)\n",
    "    output = model_fit.predict('2019-01-01', '2019-12-01', exog=df_month_exog['2019-01-01':'2019-12-01'])\n",
    "    yhat = output[0]\n",
    "    # predictions.append(yhat)\n",
    "    obs = test[t]\n",
    "    history.append(obs)\n",
    "    # print('Month = %.0f-2019, predicted = $%.2f, expected = $%.2f' % (t+1, yhat, obs))\n",
    "    rmse = sqrt(mean_squared_error(test, output))\n",
    "    print('Test RMSE: $%.2f' % rmse)\n",
    "    scores['SARIMAX Exog', (p,d,q,a,b,c,e)] = rmse\n",
    "    # scores"
   ]
  },
  {
   "cell_type": "code",
   "execution_count": 33,
   "metadata": {},
   "outputs": [
    {
     "name": "stderr",
     "output_type": "stream",
     "text": [
      "/Users/yehudaschein/.local/lib/python3.7/site-packages/statsmodels/tsa/base/tsa_model.py:165: ValueWarning: No frequency information was provided, so inferred frequency MS will be used.\n",
      "  % freq, ValueWarning)\n"
     ]
    },
    {
     "name": "stdout",
     "output_type": "stream",
     "text": [
      "Test RMSE: $252804.64\n",
      "Test RMSE: $250139.76\n",
      "Test RMSE: $196037.11\n"
     ]
    },
    {
     "name": "stderr",
     "output_type": "stream",
     "text": [
      "/Users/yehudaschein/.local/lib/python3.7/site-packages/statsmodels/tsa/base/tsa_model.py:165: ValueWarning: No frequency information was provided, so inferred frequency MS will be used.\n",
      "  % freq, ValueWarning)\n",
      "/Users/yehudaschein/.local/lib/python3.7/site-packages/statsmodels/tsa/base/tsa_model.py:165: ValueWarning: No frequency information was provided, so inferred frequency MS will be used.\n",
      "  % freq, ValueWarning)\n",
      "/Users/yehudaschein/.local/lib/python3.7/site-packages/statsmodels/tsa/base/tsa_model.py:165: ValueWarning: No frequency information was provided, so inferred frequency MS will be used.\n",
      "  % freq, ValueWarning)\n"
     ]
    },
    {
     "name": "stdout",
     "output_type": "stream",
     "text": [
      "Test RMSE: $209779.38\n"
     ]
    },
    {
     "name": "stderr",
     "output_type": "stream",
     "text": [
      "/Users/yehudaschein/.local/lib/python3.7/site-packages/statsmodels/tsa/base/tsa_model.py:165: ValueWarning: No frequency information was provided, so inferred frequency MS will be used.\n",
      "  % freq, ValueWarning)\n"
     ]
    },
    {
     "name": "stdout",
     "output_type": "stream",
     "text": [
      "Test RMSE: $285735.64\n"
     ]
    },
    {
     "name": "stderr",
     "output_type": "stream",
     "text": [
      "/Users/yehudaschein/.local/lib/python3.7/site-packages/statsmodels/tsa/base/tsa_model.py:165: ValueWarning: No frequency information was provided, so inferred frequency MS will be used.\n",
      "  % freq, ValueWarning)\n"
     ]
    },
    {
     "name": "stdout",
     "output_type": "stream",
     "text": [
      "Test RMSE: $279198.27\n"
     ]
    },
    {
     "name": "stderr",
     "output_type": "stream",
     "text": [
      "/Users/yehudaschein/.local/lib/python3.7/site-packages/statsmodels/tsa/base/tsa_model.py:165: ValueWarning: No frequency information was provided, so inferred frequency MS will be used.\n",
      "  % freq, ValueWarning)\n"
     ]
    },
    {
     "name": "stdout",
     "output_type": "stream",
     "text": [
      "Test RMSE: $259247.56\n"
     ]
    },
    {
     "name": "stderr",
     "output_type": "stream",
     "text": [
      "/Users/yehudaschein/.local/lib/python3.7/site-packages/statsmodels/tsa/base/tsa_model.py:165: ValueWarning: No frequency information was provided, so inferred frequency MS will be used.\n",
      "  % freq, ValueWarning)\n"
     ]
    },
    {
     "name": "stdout",
     "output_type": "stream",
     "text": [
      "Test RMSE: $394280.61\n",
      "Test RMSE: $152536.69\n",
      "Test RMSE: $404515.27"
     ]
    },
    {
     "name": "stderr",
     "output_type": "stream",
     "text": [
      "/Users/yehudaschein/.local/lib/python3.7/site-packages/statsmodels/tsa/base/tsa_model.py:165: ValueWarning: No frequency information was provided, so inferred frequency MS will be used.\n",
      "  % freq, ValueWarning)\n",
      "/Users/yehudaschein/.local/lib/python3.7/site-packages/statsmodels/tsa/base/tsa_model.py:165: ValueWarning: No frequency information was provided, so inferred frequency MS will be used.\n",
      "  % freq, ValueWarning)\n",
      "/Users/yehudaschein/.local/lib/python3.7/site-packages/statsmodels/tsa/base/tsa_model.py:165: ValueWarning: No frequency information was provided, so inferred frequency MS will be used.\n",
      "  % freq, ValueWarning)\n"
     ]
    },
    {
     "name": "stdout",
     "output_type": "stream",
     "text": [
      "\n",
      "Test RMSE: $134413.17\n"
     ]
    },
    {
     "name": "stderr",
     "output_type": "stream",
     "text": [
      "/Users/yehudaschein/.local/lib/python3.7/site-packages/statsmodels/tsa/base/tsa_model.py:165: ValueWarning: No frequency information was provided, so inferred frequency MS will be used.\n",
      "  % freq, ValueWarning)\n"
     ]
    },
    {
     "name": "stdout",
     "output_type": "stream",
     "text": [
      "Test RMSE: $168476.90\n",
      "Test RMSE: $382040.24\n"
     ]
    },
    {
     "name": "stderr",
     "output_type": "stream",
     "text": [
      "/Users/yehudaschein/.local/lib/python3.7/site-packages/statsmodels/tsa/base/tsa_model.py:165: ValueWarning: No frequency information was provided, so inferred frequency MS will be used.\n",
      "  % freq, ValueWarning)\n",
      "/Users/yehudaschein/.local/lib/python3.7/site-packages/statsmodels/tsa/base/tsa_model.py:165: ValueWarning: No frequency information was provided, so inferred frequency MS will be used.\n",
      "  % freq, ValueWarning)\n"
     ]
    },
    {
     "name": "stdout",
     "output_type": "stream",
     "text": [
      "Test RMSE: $171074.48\n"
     ]
    },
    {
     "name": "stderr",
     "output_type": "stream",
     "text": [
      "/Users/yehudaschein/.local/lib/python3.7/site-packages/statsmodels/tsa/base/tsa_model.py:165: ValueWarning: No frequency information was provided, so inferred frequency MS will be used.\n",
      "  % freq, ValueWarning)\n"
     ]
    },
    {
     "name": "stdout",
     "output_type": "stream",
     "text": [
      "Test RMSE: $173118.52\n"
     ]
    },
    {
     "name": "stderr",
     "output_type": "stream",
     "text": [
      "/Users/yehudaschein/.local/lib/python3.7/site-packages/statsmodels/tsa/base/tsa_model.py:165: ValueWarning: No frequency information was provided, so inferred frequency MS will be used.\n",
      "  % freq, ValueWarning)\n"
     ]
    },
    {
     "name": "stdout",
     "output_type": "stream",
     "text": [
      "Test RMSE: $387927.89\n",
      "Test RMSE: $165412.39\n",
      "Test RMSE: $409123.43\n"
     ]
    },
    {
     "name": "stderr",
     "output_type": "stream",
     "text": [
      "/Users/yehudaschein/.local/lib/python3.7/site-packages/statsmodels/tsa/base/tsa_model.py:165: ValueWarning: No frequency information was provided, so inferred frequency MS will be used.\n",
      "  % freq, ValueWarning)\n",
      "/Users/yehudaschein/.local/lib/python3.7/site-packages/statsmodels/tsa/base/tsa_model.py:165: ValueWarning: No frequency information was provided, so inferred frequency MS will be used.\n",
      "  % freq, ValueWarning)\n",
      "/Users/yehudaschein/.local/lib/python3.7/site-packages/statsmodels/tsa/base/tsa_model.py:165: ValueWarning: No frequency information was provided, so inferred frequency MS will be used.\n",
      "  % freq, ValueWarning)\n"
     ]
    },
    {
     "name": "stdout",
     "output_type": "stream",
     "text": [
      "Test RMSE: $146461.18\n"
     ]
    },
    {
     "name": "stderr",
     "output_type": "stream",
     "text": [
      "/Users/yehudaschein/.local/lib/python3.7/site-packages/statsmodels/tsa/base/tsa_model.py:165: ValueWarning: No frequency information was provided, so inferred frequency MS will be used.\n",
      "  % freq, ValueWarning)\n"
     ]
    },
    {
     "name": "stdout",
     "output_type": "stream",
     "text": [
      "Test RMSE: $183886.82\n",
      "Test RMSE: $366966.89\n"
     ]
    },
    {
     "name": "stderr",
     "output_type": "stream",
     "text": [
      "/Users/yehudaschein/.local/lib/python3.7/site-packages/statsmodels/tsa/base/tsa_model.py:165: ValueWarning: No frequency information was provided, so inferred frequency MS will be used.\n",
      "  % freq, ValueWarning)\n",
      "/Users/yehudaschein/.local/lib/python3.7/site-packages/statsmodels/tsa/base/tsa_model.py:165: ValueWarning: No frequency information was provided, so inferred frequency MS will be used.\n",
      "  % freq, ValueWarning)\n"
     ]
    },
    {
     "name": "stdout",
     "output_type": "stream",
     "text": [
      "Test RMSE: $197312.11\n"
     ]
    },
    {
     "name": "stderr",
     "output_type": "stream",
     "text": [
      "/Users/yehudaschein/.local/lib/python3.7/site-packages/statsmodels/tsa/base/tsa_model.py:165: ValueWarning: No frequency information was provided, so inferred frequency MS will be used.\n",
      "  % freq, ValueWarning)\n"
     ]
    },
    {
     "name": "stdout",
     "output_type": "stream",
     "text": [
      "Test RMSE: $211750.92\n"
     ]
    },
    {
     "name": "stderr",
     "output_type": "stream",
     "text": [
      "/Users/yehudaschein/.local/lib/python3.7/site-packages/statsmodels/tsa/base/tsa_model.py:165: ValueWarning: No frequency information was provided, so inferred frequency MS will be used.\n",
      "  % freq, ValueWarning)\n"
     ]
    },
    {
     "name": "stdout",
     "output_type": "stream",
     "text": [
      "Test RMSE: $334278.56\n",
      "Test RMSE: $152758.59\n",
      "Test RMSE: $250139.76\n"
     ]
    },
    {
     "name": "stderr",
     "output_type": "stream",
     "text": [
      "/Users/yehudaschein/.local/lib/python3.7/site-packages/statsmodels/tsa/base/tsa_model.py:165: ValueWarning: No frequency information was provided, so inferred frequency MS will be used.\n",
      "  % freq, ValueWarning)\n",
      "/Users/yehudaschein/.local/lib/python3.7/site-packages/statsmodels/tsa/base/tsa_model.py:165: ValueWarning: No frequency information was provided, so inferred frequency MS will be used.\n",
      "  % freq, ValueWarning)\n",
      "/Users/yehudaschein/.local/lib/python3.7/site-packages/statsmodels/tsa/base/tsa_model.py:165: ValueWarning: No frequency information was provided, so inferred frequency MS will be used.\n",
      "  % freq, ValueWarning)\n"
     ]
    },
    {
     "name": "stdout",
     "output_type": "stream",
     "text": [
      "Test RMSE: $141279.73\n"
     ]
    },
    {
     "name": "stderr",
     "output_type": "stream",
     "text": [
      "/Users/yehudaschein/.local/lib/python3.7/site-packages/statsmodels/tsa/base/tsa_model.py:165: ValueWarning: No frequency information was provided, so inferred frequency MS will be used.\n",
      "  % freq, ValueWarning)\n"
     ]
    },
    {
     "name": "stdout",
     "output_type": "stream",
     "text": [
      "Test RMSE: $170396.49\n",
      "Test RMSE: $461943.25\n"
     ]
    },
    {
     "name": "stderr",
     "output_type": "stream",
     "text": [
      "/Users/yehudaschein/.local/lib/python3.7/site-packages/statsmodels/tsa/base/tsa_model.py:165: ValueWarning: No frequency information was provided, so inferred frequency MS will be used.\n",
      "  % freq, ValueWarning)\n",
      "/Users/yehudaschein/.local/lib/python3.7/site-packages/statsmodels/tsa/base/tsa_model.py:165: ValueWarning: No frequency information was provided, so inferred frequency MS will be used.\n",
      "  % freq, ValueWarning)\n"
     ]
    },
    {
     "name": "stdout",
     "output_type": "stream",
     "text": [
      "Test RMSE: $139575.63\n"
     ]
    },
    {
     "name": "stderr",
     "output_type": "stream",
     "text": [
      "/Users/yehudaschein/.local/lib/python3.7/site-packages/statsmodels/tsa/base/tsa_model.py:165: ValueWarning: No frequency information was provided, so inferred frequency MS will be used.\n",
      "  % freq, ValueWarning)\n",
      "/Users/yehudaschein/.local/lib/python3.7/site-packages/statsmodels/base/model.py:512: ConvergenceWarning: Maximum Likelihood optimization failed to converge. Check mle_retvals\n",
      "  \"Check mle_retvals\", ConvergenceWarning)\n",
      "/Users/yehudaschein/.local/lib/python3.7/site-packages/statsmodels/tsa/base/tsa_model.py:165: ValueWarning: No frequency information was provided, so inferred frequency MS will be used.\n",
      "  % freq, ValueWarning)\n",
      "/Users/yehudaschein/.local/lib/python3.7/site-packages/statsmodels/tsa/base/tsa_model.py:165: ValueWarning: No frequency information was provided, so inferred frequency MS will be used.\n",
      "  % freq, ValueWarning)\n"
     ]
    },
    {
     "name": "stdout",
     "output_type": "stream",
     "text": [
      "Test RMSE: $163211.16\n",
      "Test RMSE: $445488.13\n",
      "Test RMSE: $155888.90\n",
      "Test RMSE: $1965998.90\n",
      "Test RMSE: $148868.47\n"
     ]
    },
    {
     "name": "stderr",
     "output_type": "stream",
     "text": [
      "/Users/yehudaschein/.local/lib/python3.7/site-packages/statsmodels/tsa/base/tsa_model.py:165: ValueWarning: No frequency information was provided, so inferred frequency MS will be used.\n",
      "  % freq, ValueWarning)\n",
      "/Users/yehudaschein/.local/lib/python3.7/site-packages/statsmodels/tsa/base/tsa_model.py:165: ValueWarning: No frequency information was provided, so inferred frequency MS will be used.\n",
      "  % freq, ValueWarning)\n",
      "/Users/yehudaschein/.local/lib/python3.7/site-packages/statsmodels/tsa/base/tsa_model.py:165: ValueWarning: No frequency information was provided, so inferred frequency MS will be used.\n",
      "  % freq, ValueWarning)\n"
     ]
    },
    {
     "name": "stdout",
     "output_type": "stream",
     "text": [
      "Test RMSE: $144583.50\n",
      "Test RMSE: $1319068.34\n"
     ]
    },
    {
     "name": "stderr",
     "output_type": "stream",
     "text": [
      "/Users/yehudaschein/.local/lib/python3.7/site-packages/statsmodels/tsa/base/tsa_model.py:165: ValueWarning: No frequency information was provided, so inferred frequency MS will be used.\n",
      "  % freq, ValueWarning)\n",
      "/Users/yehudaschein/.local/lib/python3.7/site-packages/statsmodels/tsa/base/tsa_model.py:165: ValueWarning: No frequency information was provided, so inferred frequency MS will be used.\n",
      "  % freq, ValueWarning)\n"
     ]
    },
    {
     "name": "stdout",
     "output_type": "stream",
     "text": [
      "Test RMSE: $146408.80\n"
     ]
    },
    {
     "name": "stderr",
     "output_type": "stream",
     "text": [
      "/Users/yehudaschein/.local/lib/python3.7/site-packages/statsmodels/tsa/base/tsa_model.py:165: ValueWarning: No frequency information was provided, so inferred frequency MS will be used.\n",
      "  % freq, ValueWarning)\n"
     ]
    },
    {
     "name": "stdout",
     "output_type": "stream",
     "text": [
      "Test RMSE: $148733.06\n",
      "Test RMSE: $1031725.14\n"
     ]
    },
    {
     "name": "stderr",
     "output_type": "stream",
     "text": [
      "/Users/yehudaschein/.local/lib/python3.7/site-packages/statsmodels/tsa/base/tsa_model.py:165: ValueWarning: No frequency information was provided, so inferred frequency MS will be used.\n",
      "  % freq, ValueWarning)\n"
     ]
    }
   ],
   "source": [
    "# Building all the sarimax models\n",
    "sarimax_exog(0,0,1, 0,0,1, 12)\n",
    "sarimax_exog(0,1,0, 0,1,0, 12)\n",
    "sarimax_exog(1,0,0, 1,0,0, 12)\n",
    "sarimax_exog(1,0,1, 1,0,1, 12)\n",
    "sarimax_exog(1,1,0, 1,1,0, 12)\n",
    "sarimax_exog(2,0,0, 2,0,0, 12)\n",
    "sarimax_exog(2,0,1, 2,0,1, 12)\n",
    "sarimax_exog(2,1,0, 2,1,0, 12)\n",
    "\n",
    "sarimax_exog(0,0,1, 0,0,1, 9)\n",
    "sarimax_exog(0,1,0, 0,1,0, 9)\n",
    "sarimax_exog(1,0,0, 1,0,0, 9)\n",
    "sarimax_exog(1,0,1, 1,0,1, 9)\n",
    "sarimax_exog(1,1,0, 1,1,0, 9)\n",
    "sarimax_exog(2,0,0, 2,0,0, 9)\n",
    "sarimax_exog(2,0,1, 2,0,1, 9)\n",
    "sarimax_exog(2,1,0, 2,1,0, 9)\n",
    "\n",
    "sarimax_exog(0,0,1, 0,0,1, 6)\n",
    "sarimax_exog(0,1,0, 0,1,0, 6)\n",
    "sarimax_exog(1,0,0, 1,0,0, 6)\n",
    "sarimax_exog(1,0,1, 1,0,1, 6)\n",
    "sarimax_exog(1,1,0, 1,1,0, 6)\n",
    "sarimax_exog(2,0,0, 2,0,0, 6)\n",
    "sarimax_exog(2,0,1, 2,0,1, 6)\n",
    "sarimax_exog(2,1,0, 2,1,0, 6)\n",
    "\n",
    "sarimax_exog(0,0,1, 0,0,1, 3)\n",
    "sarimax_exog(0,1,0, 0,1,0, 12)\n",
    "sarimax_exog(1,0,0, 1,0,0, 3)\n",
    "sarimax_exog(1,0,1, 1,0,1, 3)\n",
    "sarimax_exog(1,1,0, 1,1,0, 3)\n",
    "sarimax_exog(2,0,0, 2,0,0, 3)\n",
    "sarimax_exog(2,0,1, 2,0,1, 3)\n",
    "sarimax_exog(2,1,0, 2,1,0, 3)\n",
    "\n",
    "sarimax_exog(0,0,1, 0,0,1, 1)\n",
    "sarimax_exog(0,1,0, 0,1,0, 1)\n",
    "sarimax_exog(1,0,0, 1,0,0, 1)\n",
    "sarimax_exog(1,0,1, 1,0,1, 1)\n",
    "sarimax_exog(1,1,0, 1,1,0, 1)\n",
    "sarimax_exog(2,0,0, 2,0,0, 1)\n",
    "sarimax_exog(2,0,1, 2,0,1, 1)\n",
    "sarimax_exog(2,1,0, 2,1,0, 1)"
   ]
  },
  {
   "cell_type": "code",
   "execution_count": 34,
   "metadata": {
    "scrolled": true
   },
   "outputs": [
    {
     "data": {
      "text/html": [
       "<div>\n",
       "<style scoped>\n",
       "    .dataframe tbody tr th:only-of-type {\n",
       "        vertical-align: middle;\n",
       "    }\n",
       "\n",
       "    .dataframe tbody tr th {\n",
       "        vertical-align: top;\n",
       "    }\n",
       "\n",
       "    .dataframe thead th {\n",
       "        text-align: right;\n",
       "    }\n",
       "</style>\n",
       "<table border=\"1\" class=\"dataframe\">\n",
       "  <thead>\n",
       "    <tr style=\"text-align: right;\">\n",
       "      <th></th>\n",
       "      <th>RMSE</th>\n",
       "    </tr>\n",
       "    <tr>\n",
       "      <th>Baseline models</th>\n",
       "      <th></th>\n",
       "    </tr>\n",
       "  </thead>\n",
       "  <tbody>\n",
       "    <tr>\n",
       "      <th>SARIMA FROM GS (1,1,0) (1,1,0,12)</th>\n",
       "      <td>1.312731e+05</td>\n",
       "    </tr>\n",
       "    <tr>\n",
       "      <th>(SARIMAX Exog, (1, 0, 0, 1, 0, 0, 9))</th>\n",
       "      <td>1.344132e+05</td>\n",
       "    </tr>\n",
       "    <tr>\n",
       "      <th>(SARIMAX Exog, (2, 0, 0, 2, 0, 0, 3))</th>\n",
       "      <td>1.395756e+05</td>\n",
       "    </tr>\n",
       "    <tr>\n",
       "      <th>(SARIMAX Exog, (1, 0, 0, 1, 0, 0, 3))</th>\n",
       "      <td>1.412797e+05</td>\n",
       "    </tr>\n",
       "    <tr>\n",
       "      <th>(SARIMAX Exog, (1, 0, 1, 1, 0, 1, 1))</th>\n",
       "      <td>1.445835e+05</td>\n",
       "    </tr>\n",
       "    <tr>\n",
       "      <th>(SARIMAX Exog, (2, 0, 0, 2, 0, 0, 1))</th>\n",
       "      <td>1.464088e+05</td>\n",
       "    </tr>\n",
       "    <tr>\n",
       "      <th>(SARIMAX Exog, (1, 0, 0, 1, 0, 0, 6))</th>\n",
       "      <td>1.464612e+05</td>\n",
       "    </tr>\n",
       "    <tr>\n",
       "      <th>(SARIMAX Exog, (2, 0, 1, 2, 0, 1, 1))</th>\n",
       "      <td>1.487331e+05</td>\n",
       "    </tr>\n",
       "    <tr>\n",
       "      <th>(SARIMAX Exog, (1, 0, 0, 1, 0, 0, 1))</th>\n",
       "      <td>1.488685e+05</td>\n",
       "    </tr>\n",
       "    <tr>\n",
       "      <th>(SARIMAX Exog, (0, 0, 1, 0, 0, 1, 9))</th>\n",
       "      <td>1.525367e+05</td>\n",
       "    </tr>\n",
       "    <tr>\n",
       "      <th>(SARIMAX Exog, (0, 0, 1, 0, 0, 1, 3))</th>\n",
       "      <td>1.527586e+05</td>\n",
       "    </tr>\n",
       "    <tr>\n",
       "      <th>(SARIMAX Exog, (0, 0, 1, 0, 0, 1, 1))</th>\n",
       "      <td>1.558889e+05</td>\n",
       "    </tr>\n",
       "    <tr>\n",
       "      <th>(Baseline ARIMA , (2, 0, 2))</th>\n",
       "      <td>1.597651e+05</td>\n",
       "    </tr>\n",
       "    <tr>\n",
       "      <th>(SARIMAX Exog, (2, 0, 1, 2, 0, 1, 3))</th>\n",
       "      <td>1.632112e+05</td>\n",
       "    </tr>\n",
       "    <tr>\n",
       "      <th>(Baseline ARIMA , (2, 0, 1))</th>\n",
       "      <td>1.638257e+05</td>\n",
       "    </tr>\n",
       "    <tr>\n",
       "      <th>(SARIMAX Exog, (0, 0, 1, 0, 0, 1, 6))</th>\n",
       "      <td>1.654124e+05</td>\n",
       "    </tr>\n",
       "    <tr>\n",
       "      <th>(Baseline ARIMA , (1, 0, 2))</th>\n",
       "      <td>1.670633e+05</td>\n",
       "    </tr>\n",
       "    <tr>\n",
       "      <th>(Baseline ARIMA , (2, 0, 0))</th>\n",
       "      <td>1.678084e+05</td>\n",
       "    </tr>\n",
       "    <tr>\n",
       "      <th>(Baseline ARIMA , (1, 0, 1))</th>\n",
       "      <td>1.681213e+05</td>\n",
       "    </tr>\n",
       "    <tr>\n",
       "      <th>(SARIMAX Exog, (1, 0, 1, 1, 0, 1, 9))</th>\n",
       "      <td>1.684769e+05</td>\n",
       "    </tr>\n",
       "    <tr>\n",
       "      <th>(Baseline ARIMA , (1, 0, 0))</th>\n",
       "      <td>1.703621e+05</td>\n",
       "    </tr>\n",
       "    <tr>\n",
       "      <th>(SARIMAX Exog, (1, 0, 1, 1, 0, 1, 3))</th>\n",
       "      <td>1.703965e+05</td>\n",
       "    </tr>\n",
       "    <tr>\n",
       "      <th>(SARIMAX Exog, (2, 0, 0, 2, 0, 0, 9))</th>\n",
       "      <td>1.710745e+05</td>\n",
       "    </tr>\n",
       "    <tr>\n",
       "      <th>(SARIMAX Exog, (2, 0, 1, 2, 0, 1, 9))</th>\n",
       "      <td>1.731185e+05</td>\n",
       "    </tr>\n",
       "    <tr>\n",
       "      <th>(Baseline ARIMA , (0, 1, 2))</th>\n",
       "      <td>1.824660e+05</td>\n",
       "    </tr>\n",
       "    <tr>\n",
       "      <th>(Baseline ARIMA , (1, 1, 0))</th>\n",
       "      <td>1.825135e+05</td>\n",
       "    </tr>\n",
       "    <tr>\n",
       "      <th>(Baseline ARIMA , (0, 1, 1))</th>\n",
       "      <td>1.831212e+05</td>\n",
       "    </tr>\n",
       "    <tr>\n",
       "      <th>(Baseline ARIMA , (1, 1, 1))</th>\n",
       "      <td>1.831656e+05</td>\n",
       "    </tr>\n",
       "    <tr>\n",
       "      <th>(SARIMAX Exog, (1, 0, 1, 1, 0, 1, 6))</th>\n",
       "      <td>1.838868e+05</td>\n",
       "    </tr>\n",
       "    <tr>\n",
       "      <th>(Baseline ARIMA , (2, 1, 0))</th>\n",
       "      <td>1.846938e+05</td>\n",
       "    </tr>\n",
       "    <tr>\n",
       "      <th>(Baseline ARIMA , (0, 1, 0))</th>\n",
       "      <td>1.847659e+05</td>\n",
       "    </tr>\n",
       "    <tr>\n",
       "      <th>(Baseline ARIMA , (2, 1, 1))</th>\n",
       "      <td>1.895591e+05</td>\n",
       "    </tr>\n",
       "    <tr>\n",
       "      <th>(SARIMAX Exog, (1, 0, 0, 1, 0, 0, 12))</th>\n",
       "      <td>1.960371e+05</td>\n",
       "    </tr>\n",
       "    <tr>\n",
       "      <th>(SARIMAX Exog, (2, 0, 0, 2, 0, 0, 6))</th>\n",
       "      <td>1.973121e+05</td>\n",
       "    </tr>\n",
       "    <tr>\n",
       "      <th>(SARIMAX Exog, (1, 0, 1, 1, 0, 1, 12))</th>\n",
       "      <td>2.097794e+05</td>\n",
       "    </tr>\n",
       "    <tr>\n",
       "      <th>(SARIMAX Exog, (2, 0, 1, 2, 0, 1, 6))</th>\n",
       "      <td>2.117509e+05</td>\n",
       "    </tr>\n",
       "    <tr>\n",
       "      <th>(SARIMAX Exog, (0, 1, 0, 0, 1, 0, 12))</th>\n",
       "      <td>2.501398e+05</td>\n",
       "    </tr>\n",
       "    <tr>\n",
       "      <th>(Baseline ARIMA , (0, 0, 2))</th>\n",
       "      <td>2.523816e+05</td>\n",
       "    </tr>\n",
       "    <tr>\n",
       "      <th>(SARIMAX Exog, (0, 0, 1, 0, 0, 1, 12))</th>\n",
       "      <td>2.528046e+05</td>\n",
       "    </tr>\n",
       "    <tr>\n",
       "      <th>(SARIMAX Exog, (2, 0, 1, 2, 0, 1, 12))</th>\n",
       "      <td>2.592476e+05</td>\n",
       "    </tr>\n",
       "    <tr>\n",
       "      <th>(SARIMAX Exog, (2, 0, 0, 2, 0, 0, 12))</th>\n",
       "      <td>2.791983e+05</td>\n",
       "    </tr>\n",
       "    <tr>\n",
       "      <th>(SARIMAX Exog, (1, 1, 0, 1, 1, 0, 12))</th>\n",
       "      <td>2.857356e+05</td>\n",
       "    </tr>\n",
       "    <tr>\n",
       "      <th>(SARIMAX Exog, (2, 1, 0, 2, 1, 0, 6))</th>\n",
       "      <td>3.342786e+05</td>\n",
       "    </tr>\n",
       "    <tr>\n",
       "      <th>(Baseline ARIMA , (0, 0, 1))</th>\n",
       "      <td>3.368559e+05</td>\n",
       "    </tr>\n",
       "    <tr>\n",
       "      <th>(SARIMAX Exog, (1, 1, 0, 1, 1, 0, 6))</th>\n",
       "      <td>3.669669e+05</td>\n",
       "    </tr>\n",
       "    <tr>\n",
       "      <th>(SARIMAX Exog, (1, 1, 0, 1, 1, 0, 9))</th>\n",
       "      <td>3.820402e+05</td>\n",
       "    </tr>\n",
       "    <tr>\n",
       "      <th>(SARIMAX Exog, (2, 1, 0, 2, 1, 0, 9))</th>\n",
       "      <td>3.879279e+05</td>\n",
       "    </tr>\n",
       "    <tr>\n",
       "      <th>(SARIMAX Exog, (2, 1, 0, 2, 1, 0, 12))</th>\n",
       "      <td>3.942806e+05</td>\n",
       "    </tr>\n",
       "    <tr>\n",
       "      <th>(SARIMAX Exog, (0, 1, 0, 0, 1, 0, 9))</th>\n",
       "      <td>4.045153e+05</td>\n",
       "    </tr>\n",
       "    <tr>\n",
       "      <th>(SARIMAX Exog, (0, 1, 0, 0, 1, 0, 6))</th>\n",
       "      <td>4.091234e+05</td>\n",
       "    </tr>\n",
       "    <tr>\n",
       "      <th>(SARIMAX Exog, (2, 1, 0, 2, 1, 0, 3))</th>\n",
       "      <td>4.454881e+05</td>\n",
       "    </tr>\n",
       "    <tr>\n",
       "      <th>(SARIMAX Exog, (1, 1, 0, 1, 1, 0, 3))</th>\n",
       "      <td>4.619432e+05</td>\n",
       "    </tr>\n",
       "    <tr>\n",
       "      <th>(Baseline ARIMA , (0, 0, 0))</th>\n",
       "      <td>5.178142e+05</td>\n",
       "    </tr>\n",
       "    <tr>\n",
       "      <th>(SARIMAX Exog, (2, 1, 0, 2, 1, 0, 1))</th>\n",
       "      <td>1.031725e+06</td>\n",
       "    </tr>\n",
       "    <tr>\n",
       "      <th>(SARIMAX Exog, (1, 1, 0, 1, 1, 0, 1))</th>\n",
       "      <td>1.319068e+06</td>\n",
       "    </tr>\n",
       "    <tr>\n",
       "      <th>(SARIMAX Exog, (0, 1, 0, 0, 1, 0, 1))</th>\n",
       "      <td>1.965999e+06</td>\n",
       "    </tr>\n",
       "  </tbody>\n",
       "</table>\n",
       "</div>"
      ],
      "text/plain": [
       "                                                RMSE\n",
       "Baseline models                                     \n",
       "SARIMA FROM GS (1,1,0) (1,1,0,12)       1.312731e+05\n",
       "(SARIMAX Exog, (1, 0, 0, 1, 0, 0, 9))   1.344132e+05\n",
       "(SARIMAX Exog, (2, 0, 0, 2, 0, 0, 3))   1.395756e+05\n",
       "(SARIMAX Exog, (1, 0, 0, 1, 0, 0, 3))   1.412797e+05\n",
       "(SARIMAX Exog, (1, 0, 1, 1, 0, 1, 1))   1.445835e+05\n",
       "(SARIMAX Exog, (2, 0, 0, 2, 0, 0, 1))   1.464088e+05\n",
       "(SARIMAX Exog, (1, 0, 0, 1, 0, 0, 6))   1.464612e+05\n",
       "(SARIMAX Exog, (2, 0, 1, 2, 0, 1, 1))   1.487331e+05\n",
       "(SARIMAX Exog, (1, 0, 0, 1, 0, 0, 1))   1.488685e+05\n",
       "(SARIMAX Exog, (0, 0, 1, 0, 0, 1, 9))   1.525367e+05\n",
       "(SARIMAX Exog, (0, 0, 1, 0, 0, 1, 3))   1.527586e+05\n",
       "(SARIMAX Exog, (0, 0, 1, 0, 0, 1, 1))   1.558889e+05\n",
       "(Baseline ARIMA , (2, 0, 2))            1.597651e+05\n",
       "(SARIMAX Exog, (2, 0, 1, 2, 0, 1, 3))   1.632112e+05\n",
       "(Baseline ARIMA , (2, 0, 1))            1.638257e+05\n",
       "(SARIMAX Exog, (0, 0, 1, 0, 0, 1, 6))   1.654124e+05\n",
       "(Baseline ARIMA , (1, 0, 2))            1.670633e+05\n",
       "(Baseline ARIMA , (2, 0, 0))            1.678084e+05\n",
       "(Baseline ARIMA , (1, 0, 1))            1.681213e+05\n",
       "(SARIMAX Exog, (1, 0, 1, 1, 0, 1, 9))   1.684769e+05\n",
       "(Baseline ARIMA , (1, 0, 0))            1.703621e+05\n",
       "(SARIMAX Exog, (1, 0, 1, 1, 0, 1, 3))   1.703965e+05\n",
       "(SARIMAX Exog, (2, 0, 0, 2, 0, 0, 9))   1.710745e+05\n",
       "(SARIMAX Exog, (2, 0, 1, 2, 0, 1, 9))   1.731185e+05\n",
       "(Baseline ARIMA , (0, 1, 2))            1.824660e+05\n",
       "(Baseline ARIMA , (1, 1, 0))            1.825135e+05\n",
       "(Baseline ARIMA , (0, 1, 1))            1.831212e+05\n",
       "(Baseline ARIMA , (1, 1, 1))            1.831656e+05\n",
       "(SARIMAX Exog, (1, 0, 1, 1, 0, 1, 6))   1.838868e+05\n",
       "(Baseline ARIMA , (2, 1, 0))            1.846938e+05\n",
       "(Baseline ARIMA , (0, 1, 0))            1.847659e+05\n",
       "(Baseline ARIMA , (2, 1, 1))            1.895591e+05\n",
       "(SARIMAX Exog, (1, 0, 0, 1, 0, 0, 12))  1.960371e+05\n",
       "(SARIMAX Exog, (2, 0, 0, 2, 0, 0, 6))   1.973121e+05\n",
       "(SARIMAX Exog, (1, 0, 1, 1, 0, 1, 12))  2.097794e+05\n",
       "(SARIMAX Exog, (2, 0, 1, 2, 0, 1, 6))   2.117509e+05\n",
       "(SARIMAX Exog, (0, 1, 0, 0, 1, 0, 12))  2.501398e+05\n",
       "(Baseline ARIMA , (0, 0, 2))            2.523816e+05\n",
       "(SARIMAX Exog, (0, 0, 1, 0, 0, 1, 12))  2.528046e+05\n",
       "(SARIMAX Exog, (2, 0, 1, 2, 0, 1, 12))  2.592476e+05\n",
       "(SARIMAX Exog, (2, 0, 0, 2, 0, 0, 12))  2.791983e+05\n",
       "(SARIMAX Exog, (1, 1, 0, 1, 1, 0, 12))  2.857356e+05\n",
       "(SARIMAX Exog, (2, 1, 0, 2, 1, 0, 6))   3.342786e+05\n",
       "(Baseline ARIMA , (0, 0, 1))            3.368559e+05\n",
       "(SARIMAX Exog, (1, 1, 0, 1, 1, 0, 6))   3.669669e+05\n",
       "(SARIMAX Exog, (1, 1, 0, 1, 1, 0, 9))   3.820402e+05\n",
       "(SARIMAX Exog, (2, 1, 0, 2, 1, 0, 9))   3.879279e+05\n",
       "(SARIMAX Exog, (2, 1, 0, 2, 1, 0, 12))  3.942806e+05\n",
       "(SARIMAX Exog, (0, 1, 0, 0, 1, 0, 9))   4.045153e+05\n",
       "(SARIMAX Exog, (0, 1, 0, 0, 1, 0, 6))   4.091234e+05\n",
       "(SARIMAX Exog, (2, 1, 0, 2, 1, 0, 3))   4.454881e+05\n",
       "(SARIMAX Exog, (1, 1, 0, 1, 1, 0, 3))   4.619432e+05\n",
       "(Baseline ARIMA , (0, 0, 0))            5.178142e+05\n",
       "(SARIMAX Exog, (2, 1, 0, 2, 1, 0, 1))   1.031725e+06\n",
       "(SARIMAX Exog, (1, 1, 0, 1, 1, 0, 1))   1.319068e+06\n",
       "(SARIMAX Exog, (0, 1, 0, 0, 1, 0, 1))   1.965999e+06"
      ]
     },
     "execution_count": 34,
     "metadata": {},
     "output_type": "execute_result"
    }
   ],
   "source": [
    "# Updating the list of all the models and their RMSE scores\n",
    "s = pd.DataFrame.from_dict(scores, orient='index',columns = ['RMSE'])\n",
    "s.index.name = 'Baseline models'\n",
    "s.sort_values(by = 'RMSE')"
   ]
  },
  {
   "cell_type": "markdown",
   "metadata": {},
   "source": [
    "#### Evaluation\n",
    "Throughout this project I used RMSE as my evaluation metric because it is a metric that tells us how far away our predicted values are from our actual values. It is commonly used and gives an average of how far off we are per month. This RMSE score tells us that our model is off by around $130,000 per month.  "
   ]
  },
  {
   "cell_type": "markdown",
   "metadata": {},
   "source": [
    "## Conclusion"
   ]
  },
  {
   "cell_type": "code",
   "execution_count": null,
   "metadata": {},
   "outputs": [],
   "source": []
  }
 ],
 "metadata": {
  "kernelspec": {
   "display_name": "Python 3",
   "language": "python",
   "name": "python3"
  },
  "language_info": {
   "codemirror_mode": {
    "name": "ipython",
    "version": 3
   },
   "file_extension": ".py",
   "mimetype": "text/x-python",
   "name": "python",
   "nbconvert_exporter": "python",
   "pygments_lexer": "ipython3",
   "version": "3.7.6"
  }
 },
 "nbformat": 4,
 "nbformat_minor": 4
}
