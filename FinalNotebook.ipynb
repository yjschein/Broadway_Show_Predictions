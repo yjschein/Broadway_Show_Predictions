{
 "cells": [
  {
   "cell_type": "markdown",
   "metadata": {},
   "source": [
    "# Predicting the Revenue of Hamilton and Other Broadway Shows"
   ]
  },
  {
   "cell_type": "markdown",
   "metadata": {},
   "source": [
    "## Project Overview\n",
    "The goal of this project was to predict the gross of the hit Broadway show Hamilton. I web scraped the data from the playbill website and gathered the weekly gross of every Broadway show from 1985. I shortened this data set to only include the show Hamilton and changed the gross column (my target variable) to monthly gross. To clarify, this column is not the sum of all the weekly gross in a month, it is the average of all the weekly grosses for each month."
   ]
  },
  {
   "cell_type": "markdown",
   "metadata": {},
   "source": [
    "### Structure of notebook\n",
    "I run through the notebook while running models to predict the revenue of Hamilton in 2019. Afterwards I go through seven more shows and predict on them using the same models. Since the main goal of the project is to predict Hamilton in 2019, I focus on that show. But, since these functions can be used for many shows I show how those predict too. "
   ]
  },
  {
   "cell_type": "markdown",
   "metadata": {},
   "source": [
    "#### Importing"
   ]
  },
  {
   "cell_type": "code",
   "execution_count": 1,
   "metadata": {},
   "outputs": [],
   "source": [
    "import pandas as pd\n",
    "pd.set_option('display.max_rows', None)\n",
    "import matplotlib.pyplot as plt\n",
    "%matplotlib inline\n",
    "from pandas import Series\n",
    "import warnings\n",
    "warnings.filterwarnings('ignore')\n",
    "import numpy as np\n",
    "import seaborn as sns\n",
    "from statsmodels.tsa.arima_model import ARIMA\n",
    "from sklearn.metrics import mean_squared_error\n",
    "from math import sqrt\n",
    "from statsmodels.tools.eval_measures import rmse, aic\n",
    "from statsmodels.tsa.stattools import adfuller\n",
    "from statsmodels.graphics.tsaplots import plot_acf\n",
    "from statsmodels.graphics.tsaplots import plot_pacf\n",
    "from statsmodels.tsa.statespace.sarimax import SARIMAX\n",
    "import itertools\n",
    "from matplotlib.pylab import rcParams\n",
    "from statsmodels.tsa.arima_model import ARMA\n",
    "from statsmodels.tsa.ar_model import AutoReg"
   ]
  },
  {
   "cell_type": "markdown",
   "metadata": {},
   "source": [
    "## CRISP-DM\n",
    "For this project, I followed the CRISP-DM approach to make sure that my process was clear, organized and eventually produced the best results. I started with the business understanding which is to make sure that an investor is investing in the show at the right time and knows what the future gross will be. I then looked at the data and only included the rows and columns which would contribute to the model. I down-sampled the data to be monthly and then added exogenous variables later to some of the models. I followed an iterative process for the modeling/evaluation process so I can keep track of all the models that I created and know which ones needed change so they can be improved.  "
   ]
  },
  {
   "cell_type": "markdown",
   "metadata": {},
   "source": [
    "# 1. HAMILTON"
   ]
  },
  {
   "cell_type": "markdown",
   "metadata": {},
   "source": [
    "#### Reading in the csv file"
   ]
  },
  {
   "cell_type": "code",
   "execution_count": 2,
   "metadata": {},
   "outputs": [],
   "source": [
    "df = pd.read_csv('gross.csv')"
   ]
  },
  {
   "cell_type": "markdown",
   "metadata": {},
   "source": [
    "## Data Preperation\n",
    "The code was very clean and did not contain any missing values, however, I did change a few things. I down-sampled the data set so its monthly instead of weekly. Additionally, after building some baseline and regular models, I added some exogenous variables to see if that influenced the RMSE. More details to the changes that I made to the data are in the notebook."
   ]
  },
  {
   "cell_type": "markdown",
   "metadata": {},
   "source": [
    "#### Selecting the rows and columns that we want"
   ]
  },
  {
   "cell_type": "code",
   "execution_count": 3,
   "metadata": {},
   "outputs": [
    {
     "data": {
      "text/html": [
       "<div>\n",
       "<style scoped>\n",
       "    .dataframe tbody tr th:only-of-type {\n",
       "        vertical-align: middle;\n",
       "    }\n",
       "\n",
       "    .dataframe tbody tr th {\n",
       "        vertical-align: top;\n",
       "    }\n",
       "\n",
       "    .dataframe thead th {\n",
       "        text-align: right;\n",
       "    }\n",
       "</style>\n",
       "<table border=\"1\" class=\"dataframe\">\n",
       "  <thead>\n",
       "    <tr style=\"text-align: right;\">\n",
       "      <th></th>\n",
       "      <th>gross</th>\n",
       "    </tr>\n",
       "    <tr>\n",
       "      <th>date</th>\n",
       "      <th></th>\n",
       "    </tr>\n",
       "  </thead>\n",
       "  <tbody>\n",
       "    <tr>\n",
       "      <th>2015-07-01</th>\n",
       "      <td>1295473.50</td>\n",
       "    </tr>\n",
       "    <tr>\n",
       "      <th>2015-08-01</th>\n",
       "      <td>1442194.80</td>\n",
       "    </tr>\n",
       "    <tr>\n",
       "      <th>2015-09-01</th>\n",
       "      <td>1592876.75</td>\n",
       "    </tr>\n",
       "    <tr>\n",
       "      <th>2015-10-01</th>\n",
       "      <td>1531843.25</td>\n",
       "    </tr>\n",
       "    <tr>\n",
       "      <th>2015-11-01</th>\n",
       "      <td>1649660.40</td>\n",
       "    </tr>\n",
       "  </tbody>\n",
       "</table>\n",
       "</div>"
      ],
      "text/plain": [
       "                 gross\n",
       "date                  \n",
       "2015-07-01  1295473.50\n",
       "2015-08-01  1442194.80\n",
       "2015-09-01  1592876.75\n",
       "2015-10-01  1531843.25\n",
       "2015-11-01  1649660.40"
      ]
     },
     "execution_count": 3,
     "metadata": {},
     "output_type": "execute_result"
    }
   ],
   "source": [
    "# Only get the rows and columns that we want\n",
    "\n",
    "# Step 1: Only get the show Hamilton\n",
    "df = df[(df['show'] == 'Hamilton')]\n",
    "\n",
    "# Step 2: Drop all columns except 'week_ending' and 'weekly_gross'\n",
    "df.drop(['week_number','weekly_gross_overall', 'show', 'theatre', 'potential_gross',\n",
    "              'avg_ticket_price', 'top_ticket_price', 'seats_sold', 'seats_in_theatre', \n",
    "              'pct_capacity', 'performances', 'previews'], axis=1, inplace = True) \n",
    "\n",
    "# Step 3: change name from 'week_ending' to 'date' AND 'weekly_gross' to just 'gross'\n",
    "df.rename(columns = {\"week_ending\": \"date\"}, inplace = True) \n",
    "df.rename(columns = {\"weekly_gross\": \"gross\"}, inplace = True)\n",
    "\n",
    "# Step 4: change date column to type 'datetime64[ns]'\n",
    "df['date'] = df['date'].astype('datetime64[ns]')\n",
    "\n",
    "# Step 5: set the df equal to df_month \n",
    "df_month = df\n",
    "\n",
    "# Step 6: make date the index\n",
    "df.set_index('date', inplace=True)\n",
    "\n",
    "#Step 7: Set it equal to 'df_week'\n",
    "df_week = df\n",
    "\n",
    "# Step 8: Downsampling to a month\n",
    "df_month = df.resample('MS').mean()\n",
    "\n",
    "#Step 9: Look at the final table\n",
    "df_month.head()"
   ]
  },
  {
   "cell_type": "markdown",
   "metadata": {},
   "source": [
    "### EDA"
   ]
  },
  {
   "cell_type": "code",
   "execution_count": 4,
   "metadata": {},
   "outputs": [
    {
     "data": {
      "image/png": "[encoded data removed]",
      "text/plain": [
       "<Figure size 1584x576 with 1 Axes>"
      ]
     },
     "metadata": {
      "needs_background": "light"
     },
     "output_type": "display_data"
    }
   ],
   "source": [
    "# line plot for week at a time\n",
    "df.plot(figsize = (22,8))\n",
    "plt.xlabel('Year Since May 2015', fontsize=20)\n",
    "plt.ylabel('Weekly Gross', fontsize=20)\n",
    "plt.title(\"Weekly Gross Over Time\", fontsize=20)\n",
    "plt.show()"
   ]
  },
  {
   "cell_type": "code",
   "execution_count": 5,
   "metadata": {},
   "outputs": [
    {
     "data": {
      "image/png": "[encoded data removed]",
      "text/plain": [
       "<Figure size 1152x432 with 1 Axes>"
      ]
     },
     "metadata": {
      "needs_background": "light"
     },
     "output_type": "display_data"
    }
   ],
   "source": [
    "# line plot for a month at a time\n",
    "df_month.plot(figsize = (16,6));\n",
    "plt.xlabel('Year', fontsize=20)\n",
    "plt.ylabel('Average Weekly Gross Per Month', fontsize=20)\n",
    "plt.title(\"Average Weekly Gross Over Time\", fontsize=20)\n",
    "plt.show()"
   ]
  },
  {
   "cell_type": "code",
   "execution_count": 6,
   "metadata": {},
   "outputs": [
    {
     "data": {
      "image/png": "[encoded data removed]",
      "text/plain": [
       "<Figure size 1152x432 with 1 Axes>"
      ]
     },
     "metadata": {
      "needs_background": "light"
     },
     "output_type": "display_data"
    }
   ],
   "source": [
    "# line plot for a year at a time\n",
    "df_year = df.resample('A').sum()\n",
    "\n",
    "df_year.plot(figsize = (16,6));\n",
    "plt.xlabel('Year', fontsize=20)\n",
    "plt.ylabel('Yearly Gross', fontsize=20)\n",
    "plt.title(\"Total Gross Per Year\", fontsize=20)\n",
    "plt.show()"
   ]
  },
  {
   "cell_type": "markdown",
   "metadata": {},
   "source": [
    "## Check for Stationarity\n",
    "In this section of the notebook I use a Dickey-Fuller test to check for stationarity. If there is no stationarity, which there was, then I detrend the data. I do this by taking the square root of the data and then checking again for stationarity. If the p-value is less than the alpha of 0.05 then there is stationarity and I can begin to build my models. "
   ]
  },
  {
   "cell_type": "code",
   "execution_count": 7,
   "metadata": {},
   "outputs": [
    {
     "name": "stdout",
     "output_type": "stream",
     "text": [
      "Results of Dickey-Fuller Test: \n",
      "\n",
      "Test Statistic                 -2.481191\n",
      "p-value                         0.120118\n",
      "#Lags Used                      2.000000\n",
      "Number of Observations Used    54.000000\n",
      "Critical Value (1%)            -3.557709\n",
      "Critical Value (5%)            -2.916770\n",
      "Critical Value (10%)           -2.596222\n",
      "dtype: float64\n"
     ]
    }
   ],
   "source": [
    "ts = df_month\n",
    "\n",
    "# Create a function to check for the stationarity of a given time series using rolling stats and DF test\n",
    "\n",
    "def stationarity_check(TS):\n",
    "    \n",
    "    # Import adfuller\n",
    "    from statsmodels.tsa.stattools import adfuller\n",
    "    \n",
    "    # Calculate rolling statistics\n",
    "    roll_mean = TS.rolling(window=8, center=False).mean()\n",
    "    roll_std = TS.rolling(window=8, center=False).std()\n",
    "    \n",
    "    # Perform the Dickey Fuller Test\n",
    "    dftest = adfuller(TS['gross'])\n",
    "\n",
    "    \n",
    "    # Print Dickey-Fuller test results\n",
    "    print('Results of Dickey-Fuller Test: \\n')\n",
    "\n",
    "    dfoutput = pd.Series(dftest[0:4], index=['Test Statistic', 'p-value', \n",
    "                                             '#Lags Used', 'Number of Observations Used'])\n",
    "    for key,value in dftest[4].items():\n",
    "        dfoutput['Critical Value (%s)'%key] = value\n",
    "    print(dfoutput)\n",
    "    \n",
    "    return None\n",
    "\n",
    "stationarity_check(ts)"
   ]
  },
  {
   "cell_type": "markdown",
   "metadata": {},
   "source": [
    "The p-value of .12 is higher than our alpha of .05, therefore we fail to reject the null hypothesis."
   ]
  },
  {
   "cell_type": "code",
   "execution_count": 8,
   "metadata": {},
   "outputs": [
    {
     "name": "stdout",
     "output_type": "stream",
     "text": [
      "Results of Dickey-Fuller Test: \n",
      "\n",
      "Test Statistic                 -2.888194\n",
      "p-value                         0.046738\n",
      "#Lags Used                      1.000000\n",
      "Number of Observations Used    55.000000\n",
      "Critical Value (1%)            -3.555273\n",
      "Critical Value (5%)            -2.915731\n",
      "Critical Value (10%)           -2.595670\n",
      "dtype: float64\n"
     ]
    }
   ],
   "source": [
    "# Detrend the data by taking the square root\n",
    "ts_sqrt = np.sqrt(ts)\n",
    "stationarity_check(ts_sqrt)"
   ]
  },
  {
   "cell_type": "markdown",
   "metadata": {},
   "source": [
    "The p-value of .0467 is lower than our alpha of .05, therefore we reject the null hypothesis and conclude that our date is stationary."
   ]
  },
  {
   "cell_type": "markdown",
   "metadata": {},
   "source": [
    "#### Check the ACF and PACF"
   ]
  },
  {
   "cell_type": "code",
   "execution_count": 9,
   "metadata": {
    "scrolled": true
   },
   "outputs": [
    {
     "data": {
      "image/png": "[encoded data removed]",
      "text/plain": [
       "<Figure size 432x288 with 1 Axes>"
      ]
     },
     "metadata": {
      "needs_background": "light"
     },
     "output_type": "display_data"
    },
    {
     "data": {
      "image/png": "[encoded data removed]",
      "text/plain": [
       "<Figure size 432x288 with 1 Axes>"
      ]
     },
     "metadata": {
      "needs_background": "light"
     },
     "output_type": "display_data"
    }
   ],
   "source": [
    "X = ts_sqrt['gross']\n",
    "alpha=.05\n",
    "plot_acf(X, alpha=alpha);\n",
    "plot_pacf(X, alpha=alpha);"
   ]
  },
  {
   "cell_type": "markdown",
   "metadata": {},
   "source": [
    "Results: \n",
    "1. ACF - Strongly positively correlated lags we will use for the MA model\n",
    "2. PACF - only the first lag is strongly correlated"
   ]
  },
  {
   "cell_type": "markdown",
   "metadata": {},
   "source": [
    "# Modeling"
   ]
  },
  {
   "cell_type": "code",
   "execution_count": 10,
   "metadata": {},
   "outputs": [],
   "source": [
    "# To show the scores of all the models throughout the notebook\n",
    "scores = {}\n",
    "# the test_start variable corresponds to the first date of the show, \n",
    "# which in this case means the beginning of our testing set\n",
    "test_start = '2015-07-01'\n",
    "test_end = '2018-12-01'"
   ]
  },
  {
   "cell_type": "markdown",
   "metadata": {},
   "source": [
    "#### Baseline Model - AR"
   ]
  },
  {
   "cell_type": "code",
   "execution_count": 11,
   "metadata": {
    "scrolled": true
   },
   "outputs": [
    {
     "name": "stdout",
     "output_type": "stream",
     "text": [
      "Test RMSE: $183715.52\n"
     ]
    },
    {
     "data": {
      "image/png": "[encoded data removed]",
      "text/plain": [
       "<Figure size 432x288 with 1 Axes>"
      ]
     },
     "metadata": {
      "needs_background": "light"
     },
     "output_type": "display_data"
    }
   ],
   "source": [
    "def baseline():\n",
    "    X = df_month['gross']\n",
    "    x = X['2018-01-01':'2018-12-01']\n",
    "    y = X['2019-01-01':'2019-12-01']\n",
    "    rmse = sqrt(mean_squared_error(x, y))\n",
    "    print('Test RMSE: $%.2f' % rmse)\n",
    "    scores['Baseline'] = rmse\n",
    "    # Print plot \n",
    "    plt.plot(range(1, 13), x, label='predictions')\n",
    "    plt.plot(range(1, 13), y, label='actual')\n",
    "    plt.xlabel('Month', fontsize=15)\n",
    "    plt.ylabel('Average Weekly Gross', fontsize=15)\n",
    "    plt.title(\"Predictions vs Test\", fontsize=15)\n",
    "    plt.legend()\n",
    "    plt.show()\n",
    "        \n",
    "baseline()"
   ]
  },
  {
   "cell_type": "markdown",
   "metadata": {},
   "source": [
    "#### ARIMA"
   ]
  },
  {
   "cell_type": "markdown",
   "metadata": {},
   "source": [
    "When a data set has no seasonality, there is strong dependence among values, and it is non-stationary then we use an ARIMA model. I detrended the data by taking the square root, performed a DIckey-Fuller Test to check the stationarity, and then used an ARIMA model as my baseline to see how it predicts. "
   ]
  },
  {
   "cell_type": "code",
   "execution_count": 12,
   "metadata": {},
   "outputs": [],
   "source": [
    "# Full Arima model which prints out the predicted and actual scores of 2019\n",
    "def build_arima_full(p,d,q):\n",
    "    X = ts_sqrt['gross']\n",
    "    train, test = X['2015-07-01':'2018-12-01'], X['2019-01-01':'2019-12-01']\n",
    "    history = [x for x in train]\n",
    "    predictions = list()\n",
    "    for t in range(len(test)):\n",
    "        model = ARIMA(history, order=(p,d,q))\n",
    "        model_fit = model.fit(disp=0)\n",
    "        output = model_fit.forecast()\n",
    "        yhat = output[0]\n",
    "        predictions.append(yhat)\n",
    "        obs = test[t]\n",
    "        history.append(obs)\n",
    "        print('Month = %.0f-2019, predicted = $%.2f, expected = $%.2f' % (t+1, yhat**2, obs**2))\n",
    "    rmse = sqrt(mean_squared_error(test**2, np.array(predictions)**2))\n",
    "    print('Test RMSE: $%.2f' % rmse)\n",
    "    scores['Baseline ARIMA', (p,d,q)] = rmse\n",
    "    scores"
   ]
  },
  {
   "cell_type": "code",
   "execution_count": 13,
   "metadata": {},
   "outputs": [],
   "source": [
    "# Just prints out the RMSE of the test set\n",
    "def build_arima(p,d,q):\n",
    "    X = ts_sqrt['gross']\n",
    "    train, test = X['2015-07-01':'2018-12-01'], X['2019-01-01':'2019-12-01']\n",
    "    history = [x for x in train]\n",
    "    predictions = list()\n",
    "    for t in range(len(test)):\n",
    "        model = ARIMA(history, order=(p,d,q))\n",
    "        model_fit = model.fit(disp=0)\n",
    "        output = model_fit.forecast()\n",
    "        yhat = output[0]\n",
    "        predictions.append(yhat)\n",
    "        obs = test[t]\n",
    "        history.append(obs)\n",
    "    rmse = sqrt(mean_squared_error(test**2, np.array(predictions)**2))\n",
    "    print('pdq =',p,d,q)\n",
    "    print('Test RMSE: $%.2f' % rmse)\n",
    "    scores['ARIMA ', (p,d,q)] = rmse\n",
    "    scores"
   ]
  },
  {
   "cell_type": "code",
   "execution_count": 14,
   "metadata": {
    "scrolled": true
   },
   "outputs": [
    {
     "name": "stdout",
     "output_type": "stream",
     "text": [
      "pdq = 0 0 0\n",
      "Test RMSE: $517814.16\n",
      "pdq = 0 0 1\n",
      "Test RMSE: $336855.87\n",
      "pdq = 0 0 2\n",
      "Test RMSE: $252381.19\n",
      "pdq = 0 1 0\n",
      "Test RMSE: $184765.90\n",
      "pdq = 0 1 1\n",
      "Test RMSE: $183121.22\n",
      "pdq = 0 1 2\n",
      "Test RMSE: $182465.87\n",
      "- - - - - - - -\n",
      "pdq = 1 0 0\n",
      "Test RMSE: $170362.10\n",
      "pdq = 1 0 1\n",
      "Test RMSE: $168120.66\n",
      "pdq = 1 0 2\n",
      "Test RMSE: $167063.14\n",
      "pdq = 1 1 0\n",
      "Test RMSE: $182513.50\n",
      "pdq = 1 1 1\n",
      "Test RMSE: $183165.59\n",
      "- - - - - - - -\n",
      "pdq = 2 0 0\n",
      "Test RMSE: $167808.39\n"
     ]
    },
    {
     "name": "stderr",
     "output_type": "stream",
     "text": [
      "/Users/yehudaschein/opt/anaconda3/lib/python3.7/site-packages/statsmodels/base/model.py:548: HessianInversionWarning: Inverting hessian failed, no bse or cov_params available\n",
      "  'available', HessianInversionWarning)\n",
      "/Users/yehudaschein/opt/anaconda3/lib/python3.7/site-packages/statsmodels/base/model.py:568: ConvergenceWarning: Maximum Likelihood optimization failed to converge. Check mle_retvals\n",
      "  ConvergenceWarning)\n",
      "/Users/yehudaschein/opt/anaconda3/lib/python3.7/site-packages/statsmodels/base/model.py:568: ConvergenceWarning: Maximum Likelihood optimization failed to converge. Check mle_retvals\n",
      "  ConvergenceWarning)\n"
     ]
    },
    {
     "name": "stdout",
     "output_type": "stream",
     "text": [
      "pdq = 2 0 1\n",
      "Test RMSE: $163825.46\n"
     ]
    },
    {
     "name": "stderr",
     "output_type": "stream",
     "text": [
      "/Users/yehudaschein/opt/anaconda3/lib/python3.7/site-packages/statsmodels/base/model.py:568: ConvergenceWarning: Maximum Likelihood optimization failed to converge. Check mle_retvals\n",
      "  ConvergenceWarning)\n"
     ]
    },
    {
     "name": "stdout",
     "output_type": "stream",
     "text": [
      "pdq = 2 0 2\n",
      "Test RMSE: $159722.93\n",
      "pdq = 2 1 0\n",
      "Test RMSE: $184693.80\n",
      "pdq = 2 1 1\n",
      "Test RMSE: $189559.22\n"
     ]
    }
   ],
   "source": [
    "# Building all the baseline models\n",
    "build_arima(0,0,0)\n",
    "build_arima(0,0,1)\n",
    "build_arima(0,0,2)\n",
    "build_arima(0,1,0)\n",
    "build_arima(0,1,1)\n",
    "build_arima(0,1,2)\n",
    "print('- - - - - - - -')\n",
    "build_arima(1,0,0)\n",
    "build_arima(1,0,1)\n",
    "build_arima(1,0,2)\n",
    "build_arima(1,1,0)\n",
    "build_arima(1,1,1)\n",
    "print('- - - - - - - -')\n",
    "build_arima(2,0,0)\n",
    "build_arima(2,0,1)\n",
    "build_arima(2,0,2)\n",
    "build_arima(2,1,0)\n",
    "build_arima(2,1,1)"
   ]
  },
  {
   "cell_type": "code",
   "execution_count": 15,
   "metadata": {},
   "outputs": [
    {
     "data": {
      "text/html": [
       "<div>\n",
       "<style scoped>\n",
       "    .dataframe tbody tr th:only-of-type {\n",
       "        vertical-align: middle;\n",
       "    }\n",
       "\n",
       "    .dataframe tbody tr th {\n",
       "        vertical-align: top;\n",
       "    }\n",
       "\n",
       "    .dataframe thead th {\n",
       "        text-align: right;\n",
       "    }\n",
       "</style>\n",
       "<table border=\"1\" class=\"dataframe\">\n",
       "  <thead>\n",
       "    <tr style=\"text-align: right;\">\n",
       "      <th></th>\n",
       "      <th>RMSE</th>\n",
       "    </tr>\n",
       "    <tr>\n",
       "      <th>Baseline models</th>\n",
       "      <th></th>\n",
       "    </tr>\n",
       "  </thead>\n",
       "  <tbody>\n",
       "    <tr>\n",
       "      <th>(ARIMA , (2, 0, 2))</th>\n",
       "      <td>159722.929186</td>\n",
       "    </tr>\n",
       "    <tr>\n",
       "      <th>(ARIMA , (2, 0, 1))</th>\n",
       "      <td>163825.463853</td>\n",
       "    </tr>\n",
       "    <tr>\n",
       "      <th>(ARIMA , (1, 0, 2))</th>\n",
       "      <td>167063.138313</td>\n",
       "    </tr>\n",
       "    <tr>\n",
       "      <th>(ARIMA , (2, 0, 0))</th>\n",
       "      <td>167808.389732</td>\n",
       "    </tr>\n",
       "    <tr>\n",
       "      <th>(ARIMA , (1, 0, 1))</th>\n",
       "      <td>168120.660606</td>\n",
       "    </tr>\n",
       "    <tr>\n",
       "      <th>(ARIMA , (1, 0, 0))</th>\n",
       "      <td>170362.103437</td>\n",
       "    </tr>\n",
       "    <tr>\n",
       "      <th>(ARIMA , (0, 1, 2))</th>\n",
       "      <td>182465.867512</td>\n",
       "    </tr>\n",
       "    <tr>\n",
       "      <th>(ARIMA , (1, 1, 0))</th>\n",
       "      <td>182513.500994</td>\n",
       "    </tr>\n",
       "    <tr>\n",
       "      <th>(ARIMA , (0, 1, 1))</th>\n",
       "      <td>183121.223955</td>\n",
       "    </tr>\n",
       "    <tr>\n",
       "      <th>(ARIMA , (1, 1, 1))</th>\n",
       "      <td>183165.590956</td>\n",
       "    </tr>\n",
       "    <tr>\n",
       "      <th>Baseline</th>\n",
       "      <td>183715.521396</td>\n",
       "    </tr>\n",
       "    <tr>\n",
       "      <th>(ARIMA , (2, 1, 0))</th>\n",
       "      <td>184693.799897</td>\n",
       "    </tr>\n",
       "    <tr>\n",
       "      <th>(ARIMA , (0, 1, 0))</th>\n",
       "      <td>184765.901900</td>\n",
       "    </tr>\n",
       "    <tr>\n",
       "      <th>(ARIMA , (2, 1, 1))</th>\n",
       "      <td>189559.217742</td>\n",
       "    </tr>\n",
       "    <tr>\n",
       "      <th>(ARIMA , (0, 0, 2))</th>\n",
       "      <td>252381.194229</td>\n",
       "    </tr>\n",
       "    <tr>\n",
       "      <th>(ARIMA , (0, 0, 1))</th>\n",
       "      <td>336855.865101</td>\n",
       "    </tr>\n",
       "    <tr>\n",
       "      <th>(ARIMA , (0, 0, 0))</th>\n",
       "      <td>517814.155001</td>\n",
       "    </tr>\n",
       "  </tbody>\n",
       "</table>\n",
       "</div>"
      ],
      "text/plain": [
       "                              RMSE\n",
       "Baseline models                   \n",
       "(ARIMA , (2, 0, 2))  159722.929186\n",
       "(ARIMA , (2, 0, 1))  163825.463853\n",
       "(ARIMA , (1, 0, 2))  167063.138313\n",
       "(ARIMA , (2, 0, 0))  167808.389732\n",
       "(ARIMA , (1, 0, 1))  168120.660606\n",
       "(ARIMA , (1, 0, 0))  170362.103437\n",
       "(ARIMA , (0, 1, 2))  182465.867512\n",
       "(ARIMA , (1, 1, 0))  182513.500994\n",
       "(ARIMA , (0, 1, 1))  183121.223955\n",
       "(ARIMA , (1, 1, 1))  183165.590956\n",
       "Baseline             183715.521396\n",
       "(ARIMA , (2, 1, 0))  184693.799897\n",
       "(ARIMA , (0, 1, 0))  184765.901900\n",
       "(ARIMA , (2, 1, 1))  189559.217742\n",
       "(ARIMA , (0, 0, 2))  252381.194229\n",
       "(ARIMA , (0, 0, 1))  336855.865101\n",
       "(ARIMA , (0, 0, 0))  517814.155001"
      ]
     },
     "execution_count": 15,
     "metadata": {},
     "output_type": "execute_result"
    }
   ],
   "source": [
    "# Showing a list of all the baseline models and their RMSE scores\n",
    "s = pd.DataFrame.from_dict(scores, orient='index',columns = ['RMSE'])\n",
    "s.index.name = 'Baseline models'\n",
    "s.sort_values(by = 'RMSE')"
   ]
  },
  {
   "cell_type": "code",
   "execution_count": 16,
   "metadata": {},
   "outputs": [
    {
     "name": "stderr",
     "output_type": "stream",
     "text": [
      "/Users/yehudaschein/opt/anaconda3/lib/python3.7/site-packages/statsmodels/base/model.py:548: HessianInversionWarning: Inverting hessian failed, no bse or cov_params available\n",
      "  'available', HessianInversionWarning)\n",
      "/Users/yehudaschein/opt/anaconda3/lib/python3.7/site-packages/statsmodels/base/model.py:548: HessianInversionWarning: Inverting hessian failed, no bse or cov_params available\n",
      "  'available', HessianInversionWarning)\n",
      "/Users/yehudaschein/opt/anaconda3/lib/python3.7/site-packages/statsmodels/base/model.py:548: HessianInversionWarning: Inverting hessian failed, no bse or cov_params available\n",
      "  'available', HessianInversionWarning)\n",
      "/Users/yehudaschein/opt/anaconda3/lib/python3.7/site-packages/statsmodels/base/model.py:548: HessianInversionWarning: Inverting hessian failed, no bse or cov_params available\n",
      "  'available', HessianInversionWarning)\n",
      "/Users/yehudaschein/opt/anaconda3/lib/python3.7/site-packages/statsmodels/base/model.py:548: HessianInversionWarning: Inverting hessian failed, no bse or cov_params available\n",
      "  'available', HessianInversionWarning)\n",
      "/Users/yehudaschein/opt/anaconda3/lib/python3.7/site-packages/statsmodels/base/model.py:548: HessianInversionWarning: Inverting hessian failed, no bse or cov_params available\n",
      "  'available', HessianInversionWarning)\n",
      "/Users/yehudaschein/opt/anaconda3/lib/python3.7/site-packages/statsmodels/base/model.py:548: HessianInversionWarning: Inverting hessian failed, no bse or cov_params available\n",
      "  'available', HessianInversionWarning)\n",
      "/Users/yehudaschein/opt/anaconda3/lib/python3.7/site-packages/statsmodels/base/model.py:548: HessianInversionWarning: Inverting hessian failed, no bse or cov_params available\n",
      "  'available', HessianInversionWarning)\n"
     ]
    },
    {
     "name": "stdout",
     "output_type": "stream",
     "text": [
      "pdq = 2 0 2\n",
      "Test RMSE: $160896.05\n"
     ]
    },
    {
     "name": "stderr",
     "output_type": "stream",
     "text": [
      "/Users/yehudaschein/opt/anaconda3/lib/python3.7/site-packages/statsmodels/base/model.py:548: HessianInversionWarning: Inverting hessian failed, no bse or cov_params available\n",
      "  'available', HessianInversionWarning)\n"
     ]
    }
   ],
   "source": [
    "X = df_month['gross']\n",
    "train, test = X['2015-07-01':'2018-12-01'], X['2019-01-01':'2019-12-01']\n",
    "history = [x for x in train]\n",
    "predictions = list()\n",
    "for t in range(len(test)):\n",
    "    model = ARIMA(history, order=(2,0,2))\n",
    "    model_fit = model.fit(disp=0)\n",
    "    output = model_fit.forecast()\n",
    "    yhat = output[0]\n",
    "    predictions.append(yhat)\n",
    "    obs = test[t]\n",
    "    history.append(obs)\n",
    "rmse = sqrt(mean_squared_error(test, predictions))\n",
    "print('pdq =',2,0,2)\n",
    "print('Test RMSE: $%.2f' % rmse)"
   ]
  },
  {
   "cell_type": "markdown",
   "metadata": {},
   "source": [
    "The baseline model with the parameters (2,0,2) performed the best with an RMSE of 160000"
   ]
  },
  {
   "cell_type": "markdown",
   "metadata": {},
   "source": [
    "#### SARIMA Models - Parameter Selection"
   ]
  },
  {
   "cell_type": "markdown",
   "metadata": {},
   "source": [
    "Because there are seasonal patterns in the date set from the spikes in December for holiday season, I decided to use a SARIMA model which takes seasonality into account. For this model I used the original monthly data set which was not detrended. Using the SARIMA model I performed a grid search to find the besyt hyper-parameters. "
   ]
  },
  {
   "cell_type": "code",
   "execution_count": 17,
   "metadata": {},
   "outputs": [
    {
     "name": "stdout",
     "output_type": "stream",
     "text": [
      "ARIMA (0, 0, 0) x (0, 0, 0, 12)12 : AIC Calculated =1821.3630964057124\n",
      "ARIMA (0, 0, 0) x (0, 0, 1, 12)12 : AIC Calculated =1409.4467114993745\n",
      "ARIMA (0, 0, 0) x (0, 1, 0, 12)12 : AIC Calculated =1298.0956206910537\n",
      "ARIMA (0, 0, 0) x (0, 1, 1, 12)12 : AIC Calculated =2932.491986077116\n",
      "ARIMA (0, 0, 0) x (1, 0, 0, 12)12 : AIC Calculated =1321.8832745705633\n",
      "ARIMA (0, 0, 0) x (1, 0, 1, 12)12 : AIC Calculated =1275.0421645462955\n",
      "ARIMA (0, 0, 0) x (1, 1, 0, 12)12 : AIC Calculated =935.9236620670023\n",
      "ARIMA (0, 0, 0) x (1, 1, 1, 12)12 : AIC Calculated =2900.5618325007467\n",
      "ARIMA (0, 0, 1) x (0, 0, 0, 12)12 : AIC Calculated =1752.2930391633147\n",
      "ARIMA (0, 0, 1) x (0, 0, 1, 12)12 : AIC Calculated =1467.1502926411915\n",
      "ARIMA (0, 0, 1) x (0, 1, 0, 12)12 : AIC Calculated =1241.0528787270923\n",
      "ARIMA (0, 0, 1) x (0, 1, 1, 12)12 : AIC Calculated =2908.7559410094036\n",
      "ARIMA (0, 0, 1) x (1, 0, 0, 12)12 : AIC Calculated =1425.3949256340998\n",
      "ARIMA (0, 0, 1) x (1, 0, 1, 12)12 : AIC Calculated =1363.9538670393385\n",
      "ARIMA (0, 0, 1) x (1, 1, 0, 12)12 : AIC Calculated =947.9833102532485\n",
      "ARIMA (0, 0, 1) x (1, 1, 1, 12)12 : AIC Calculated =2898.5037290379723\n",
      "ARIMA (0, 1, 0) x (0, 0, 0, 12)12 : AIC Calculated =1468.0475472361613\n",
      "ARIMA (0, 1, 0) x (0, 0, 1, 12)12 : AIC Calculated =1149.9148045395232\n",
      "ARIMA (0, 1, 0) x (0, 1, 0, 12)12 : AIC Calculated =1153.5343860260164\n",
      "ARIMA (0, 1, 0) x (0, 1, 1, 12)12 : AIC Calculated =2804.785732840288\n",
      "ARIMA (0, 1, 0) x (1, 0, 0, 12)12 : AIC Calculated =1173.7448480833061\n",
      "ARIMA (0, 1, 0) x (1, 0, 1, 12)12 : AIC Calculated =1151.235833661116\n",
      "ARIMA (0, 1, 0) x (1, 1, 0, 12)12 : AIC Calculated =859.3108750989743\n",
      "ARIMA (0, 1, 0) x (1, 1, 1, 12)12 : AIC Calculated =2788.5408975913933\n",
      "ARIMA (0, 1, 1) x (0, 0, 0, 12)12 : AIC Calculated =1439.8737739935418\n",
      "ARIMA (0, 1, 1) x (0, 0, 1, 12)12 : AIC Calculated =1122.4185769263727\n",
      "ARIMA (0, 1, 1) x (0, 1, 0, 12)12 : AIC Calculated =1127.2815066557305\n",
      "ARIMA (0, 1, 1) x (0, 1, 1, 12)12 : AIC Calculated =2722.452293659529\n",
      "ARIMA (0, 1, 1) x (1, 0, 0, 12)12 : AIC Calculated =1173.4153918234003\n",
      "ARIMA (0, 1, 1) x (1, 0, 1, 12)12 : AIC Calculated =1122.8987193053708\n",
      "ARIMA (0, 1, 1) x (1, 1, 0, 12)12 : AIC Calculated =859.6856516912237\n",
      "ARIMA (0, 1, 1) x (1, 1, 1, 12)12 : AIC Calculated =2712.4847791959237\n",
      "ARIMA (1, 0, 0) x (0, 0, 0, 12)12 : AIC Calculated =1496.1503510459443\n",
      "ARIMA (1, 0, 0) x (0, 0, 1, 12)12 : AIC Calculated =1177.1673830242535\n",
      "ARIMA (1, 0, 0) x (0, 1, 0, 12)12 : AIC Calculated =1179.6390720537474\n",
      "ARIMA (1, 0, 0) x (0, 1, 1, 12)12 : AIC Calculated =2917.2125240628448\n",
      "ARIMA (1, 0, 0) x (1, 0, 0, 12)12 : AIC Calculated =1175.4508863974106\n",
      "ARIMA (1, 0, 0) x (1, 0, 1, 12)12 : AIC Calculated =1177.3664518555006\n",
      "ARIMA (1, 0, 0) x (1, 1, 0, 12)12 : AIC Calculated =856.555382185846\n",
      "ARIMA (1, 0, 0) x (1, 1, 1, 12)12 : AIC Calculated =2906.5650794471717\n",
      "ARIMA (1, 0, 1) x (0, 0, 0, 12)12 : AIC Calculated =1468.0325785986797\n",
      "ARIMA (1, 0, 1) x (0, 0, 1, 12)12 : AIC Calculated =1190.3124179482445\n",
      "ARIMA (1, 0, 1) x (0, 1, 0, 12)12 : AIC Calculated =1154.1109397908995\n",
      "ARIMA (1, 0, 1) x (0, 1, 1, 12)12 : AIC Calculated =2829.049280619544\n",
      "ARIMA (1, 0, 1) x (1, 0, 0, 12)12 : AIC Calculated =1175.9453881189875\n",
      "ARIMA (1, 0, 1) x (1, 0, 1, 12)12 : AIC Calculated =1150.2810269735455\n",
      "ARIMA (1, 0, 1) x (1, 1, 0, 12)12 : AIC Calculated =855.4881812847509\n",
      "ARIMA (1, 0, 1) x (1, 1, 1, 12)12 : AIC Calculated =2818.7970686481126\n",
      "ARIMA (1, 1, 0) x (0, 0, 0, 12)12 : AIC Calculated =1466.926512831813\n",
      "ARIMA (1, 1, 0) x (0, 0, 1, 12)12 : AIC Calculated =1148.2037434649596\n",
      "ARIMA (1, 1, 0) x (0, 1, 0, 12)12 : AIC Calculated =1152.7961226077184\n",
      "ARIMA (1, 1, 0) x (0, 1, 1, 12)12 : AIC Calculated =2814.3232000538114\n",
      "ARIMA (1, 1, 0) x (1, 0, 0, 12)12 : AIC Calculated =1146.763321653792\n",
      "ARIMA (1, 1, 0) x (1, 0, 1, 12)12 : AIC Calculated =1148.4852203119656\n",
      "ARIMA (1, 1, 0) x (1, 1, 0, 12)12 : AIC Calculated =833.1859427678921\n",
      "ARIMA (1, 1, 0) x (1, 1, 1, 12)12 : AIC Calculated =2803.956768441422\n",
      "ARIMA (1, 1, 1) x (0, 0, 0, 12)12 : AIC Calculated =1441.5951406474956\n",
      "ARIMA (1, 1, 1) x (0, 0, 1, 12)12 : AIC Calculated =1124.2580442292847\n",
      "ARIMA (1, 1, 1) x (0, 1, 0, 12)12 : AIC Calculated =1129.0964447177325\n",
      "ARIMA (1, 1, 1) x (0, 1, 1, 12)12 : AIC Calculated =2724.43656657915\n",
      "ARIMA (1, 1, 1) x (1, 0, 0, 12)12 : AIC Calculated =1148.7474436550172\n",
      "ARIMA (1, 1, 1) x (1, 0, 1, 12)12 : AIC Calculated =1124.7841456175042\n",
      "ARIMA (1, 1, 1) x (1, 1, 0, 12)12 : AIC Calculated =835.0811887166296\n",
      "ARIMA (1, 1, 1) x (1, 1, 1, 12)12 : AIC Calculated =2714.4690521155444\n"
     ]
    },
    {
     "data": {
      "text/plain": [
       "pdq         (1, 1, 0)\n",
       "pdqs    (1, 1, 0, 12)\n",
       "aic           833.186\n",
       "Name: 54, dtype: object"
      ]
     },
     "execution_count": 17,
     "metadata": {},
     "output_type": "execute_result"
    }
   ],
   "source": [
    "# Define the p, d and q parameters to take any value between 0 and 2\n",
    "p = d = q = range(0, 2)\n",
    "\n",
    "# Generate all different combinations of p, q and q triplets\n",
    "pdq = list(itertools.product(p, d, q))\n",
    "\n",
    "# Generate all different combinations of seasonal p, q and q triplets\n",
    "pdqs = [(x[0], x[1], x[2], 12) for x in list(itertools.product(p, d, q))]\n",
    "\n",
    "# Run a grid with pdq and seasonal pdq parameters calculated above and get the best AIC value\n",
    "ans = []\n",
    "for comb in pdq:\n",
    "    for combs in pdqs:\n",
    "        try:\n",
    "            mod = SARIMAX(df_month,\n",
    "                                            order=comb,\n",
    "                                            seasonal_order=combs,\n",
    "                                            enforce_stationarity=False,\n",
    "                                            enforce_invertibility=False)\n",
    "\n",
    "            output = mod.fit()\n",
    "            ans.append([comb, combs, output.aic])\n",
    "            print('ARIMA {} x {}12 : AIC Calculated ={}'.format(comb, combs, output.aic))\n",
    "        except:\n",
    "            continue\n",
    "            \n",
    "# Find the parameters with minimal AIC value\n",
    "ans_df = pd.DataFrame(ans, columns=['pdq', 'pdqs', 'aic'])\n",
    "ans_df.loc[ans_df['aic'].idxmin()]"
   ]
  },
  {
   "cell_type": "markdown",
   "metadata": {},
   "source": [
    "The output of our code suggests that ARIMA(1, 1, 0)x(1, 1, 0, 12) yields the lowest AIC value of 833.186. We should therefore consider this to be optimal option out of all the models we have considered."
   ]
  },
  {
   "cell_type": "code",
   "execution_count": 18,
   "metadata": {},
   "outputs": [
    {
     "name": "stdout",
     "output_type": "stream",
     "text": [
      "==============================================================================\n",
      "                 coef    std err          z      P>|z|      [0.025      0.975]\n",
      "------------------------------------------------------------------------------\n",
      "ar.L1         -0.2727      0.215     -1.268      0.205      -0.694       0.149\n",
      "ar.S.L12      -0.2285      0.135     -1.691      0.091      -0.493       0.036\n",
      "sigma2      2.345e+10   3.55e-12   6.61e+21      0.000    2.35e+10    2.35e+10\n",
      "==============================================================================\n"
     ]
    }
   ],
   "source": [
    "# Plug the optimal parameter values into a new SARIMAX model\n",
    "ARIMA_MODEL = SARIMAX(df_month, \n",
    "                                        order=(1, 1, 0), \n",
    "                                        seasonal_order=(1, 1, 0, 12), \n",
    "                                        enforce_stationarity=False, \n",
    "                                        enforce_invertibility=False)\n",
    "\n",
    "# Fit the model and print results\n",
    "output = ARIMA_MODEL.fit()\n",
    "\n",
    "print(output.summary().tables[1])"
   ]
  },
  {
   "cell_type": "code",
   "execution_count": 19,
   "metadata": {},
   "outputs": [],
   "source": [
    "def sarima(test_start, test_end, p,d,q,P,D,Q,m):\n",
    "    X = df_month['gross']\n",
    "    train, test = X[test_start:test_end], X['2019-01-01':'2019-12-01']\n",
    "    history = [x for x in train]\n",
    "    predictions = list()\n",
    "    for t in range(len(test)):\n",
    "        model = SARIMAX(history, order=(p,d,q),  seasonal_order=(P,D,Q,m))\n",
    "        model_fit = model.fit(disp=0)\n",
    "        output = model_fit.forecast()\n",
    "        yhat = output[0]\n",
    "        predictions.append(yhat)\n",
    "        obs = test[t]\n",
    "        history.append(obs)\n",
    "        print('Month = %.0f-2019, predicted = $%.2f, expected = $%.2f' % (t+1, yhat, obs))\n",
    "    rmse = sqrt(mean_squared_error(test, predictions))\n",
    "    print('Test RMSE: $%.2f' % rmse)\n",
    "    scores['SARIMA FROM GS', (p,d,q,P,D,Q,m)] = rmse\n",
    "    \n",
    "    plt.plot(range(1, 13), predictions, label='predictions')\n",
    "    plt.plot(range(1, 13), test, label='actual')\n",
    "    plt.xlabel('Month', fontsize=15)\n",
    "    plt.ylabel('Average Weekly Gross', fontsize=15)\n",
    "    plt.title(\"Predictions vs Test\", fontsize=15)\n",
    "    plt.legend()\n",
    "    plt.show()"
   ]
  },
  {
   "cell_type": "code",
   "execution_count": 20,
   "metadata": {
    "scrolled": true
   },
   "outputs": [
    {
     "name": "stdout",
     "output_type": "stream",
     "text": [
      "Month = 1-2019, predicted = $3242174.94, expected = $3216767.25\n",
      "Month = 2-2019, predicted = $3154521.64, expected = $3083388.25\n",
      "Month = 3-2019, predicted = $3175148.37, expected = $3131449.50\n",
      "Month = 4-2019, predicted = $3033681.68, expected = $3168584.75\n",
      "Month = 5-2019, predicted = $3169863.38, expected = $3118766.25\n",
      "Month = 6-2019, predicted = $3165342.14, expected = $3120375.40\n",
      "Month = 7-2019, predicted = $3197752.68, expected = $2984510.75\n",
      "Month = 8-2019, predicted = $2991587.97, expected = $3004554.00\n",
      "Month = 9-2019, predicted = $3061219.26, expected = $2958985.20\n",
      "Month = 10-2019, predicted = $2889225.39, expected = $2959574.75\n",
      "Month = 11-2019, predicted = $2942202.03, expected = $2729291.50\n",
      "Month = 12-2019, predicted = $2947516.71, expected = $3212040.40\n",
      "Test RMSE: $131273.13\n"
     ]
    },
    {
     "data": {
      "image/png": "[encoded data removed]",
      "text/plain": [
       "<Figure size 432x288 with 1 Axes>"
      ]
     },
     "metadata": {
      "needs_background": "light"
     },
     "output_type": "display_data"
    }
   ],
   "source": [
    "sarima(test_start, test_end, 1,1,0,1,1,0,12)"
   ]
  },
  {
   "cell_type": "code",
   "execution_count": 21,
   "metadata": {},
   "outputs": [
    {
     "data": {
      "image/png": "[encoded data removed]",
      "text/plain": [
       "<Figure size 432x288 with 1 Axes>"
      ]
     },
     "metadata": {
      "needs_background": "light"
     },
     "output_type": "display_data"
    }
   ],
   "source": [
    "plt.plot(range(1, 13), predictions, label='predictions')\n",
    "plt.plot(range(1, 13), test, label='actual')\n",
    "plt.xlabel('Month', fontsize=15)\n",
    "plt.ylabel('Average Weekly Gross', fontsize=15)\n",
    "plt.ylim(2700000,3300000)\n",
    "plt.title(\"Predictions vs Test\", fontsize=15)\n",
    "plt.legend()\n",
    "plt.show()"
   ]
  },
  {
   "cell_type": "markdown",
   "metadata": {},
   "source": [
    "This plot shows my predicted scores in blue and the actual scores in orange"
   ]
  },
  {
   "cell_type": "code",
   "execution_count": 22,
   "metadata": {
    "scrolled": true
   },
   "outputs": [
    {
     "data": {
      "text/html": [
       "<div>\n",
       "<style scoped>\n",
       "    .dataframe tbody tr th:only-of-type {\n",
       "        vertical-align: middle;\n",
       "    }\n",
       "\n",
       "    .dataframe tbody tr th {\n",
       "        vertical-align: top;\n",
       "    }\n",
       "\n",
       "    .dataframe thead th {\n",
       "        text-align: right;\n",
       "    }\n",
       "</style>\n",
       "<table border=\"1\" class=\"dataframe\">\n",
       "  <thead>\n",
       "    <tr style=\"text-align: right;\">\n",
       "      <th></th>\n",
       "      <th>RMSE</th>\n",
       "    </tr>\n",
       "    <tr>\n",
       "      <th>Models</th>\n",
       "      <th></th>\n",
       "    </tr>\n",
       "  </thead>\n",
       "  <tbody>\n",
       "    <tr>\n",
       "      <th>(SARIMA FROM GS, (1, 1, 0, 1, 1, 0, 12))</th>\n",
       "      <td>131273.129736</td>\n",
       "    </tr>\n",
       "    <tr>\n",
       "      <th>(ARIMA , (2, 0, 2))</th>\n",
       "      <td>159722.929186</td>\n",
       "    </tr>\n",
       "    <tr>\n",
       "      <th>(ARIMA , (2, 0, 1))</th>\n",
       "      <td>163825.463853</td>\n",
       "    </tr>\n",
       "    <tr>\n",
       "      <th>(ARIMA , (1, 0, 2))</th>\n",
       "      <td>167063.138313</td>\n",
       "    </tr>\n",
       "    <tr>\n",
       "      <th>(ARIMA , (2, 0, 0))</th>\n",
       "      <td>167808.389732</td>\n",
       "    </tr>\n",
       "    <tr>\n",
       "      <th>(ARIMA , (1, 0, 1))</th>\n",
       "      <td>168120.660606</td>\n",
       "    </tr>\n",
       "    <tr>\n",
       "      <th>(ARIMA , (1, 0, 0))</th>\n",
       "      <td>170362.103437</td>\n",
       "    </tr>\n",
       "    <tr>\n",
       "      <th>(ARIMA , (0, 1, 2))</th>\n",
       "      <td>182465.867512</td>\n",
       "    </tr>\n",
       "    <tr>\n",
       "      <th>(ARIMA , (1, 1, 0))</th>\n",
       "      <td>182513.500994</td>\n",
       "    </tr>\n",
       "    <tr>\n",
       "      <th>(ARIMA , (0, 1, 1))</th>\n",
       "      <td>183121.223955</td>\n",
       "    </tr>\n",
       "    <tr>\n",
       "      <th>(ARIMA , (1, 1, 1))</th>\n",
       "      <td>183165.590956</td>\n",
       "    </tr>\n",
       "    <tr>\n",
       "      <th>Baseline</th>\n",
       "      <td>183715.521396</td>\n",
       "    </tr>\n",
       "    <tr>\n",
       "      <th>(ARIMA , (2, 1, 0))</th>\n",
       "      <td>184693.799897</td>\n",
       "    </tr>\n",
       "    <tr>\n",
       "      <th>(ARIMA , (0, 1, 0))</th>\n",
       "      <td>184765.901900</td>\n",
       "    </tr>\n",
       "    <tr>\n",
       "      <th>(ARIMA , (2, 1, 1))</th>\n",
       "      <td>189559.217742</td>\n",
       "    </tr>\n",
       "    <tr>\n",
       "      <th>(ARIMA , (0, 0, 2))</th>\n",
       "      <td>252381.194229</td>\n",
       "    </tr>\n",
       "    <tr>\n",
       "      <th>(ARIMA , (0, 0, 1))</th>\n",
       "      <td>336855.865101</td>\n",
       "    </tr>\n",
       "    <tr>\n",
       "      <th>(ARIMA , (0, 0, 0))</th>\n",
       "      <td>517814.155001</td>\n",
       "    </tr>\n",
       "  </tbody>\n",
       "</table>\n",
       "</div>"
      ],
      "text/plain": [
       "                                                   RMSE\n",
       "Models                                                 \n",
       "(SARIMA FROM GS, (1, 1, 0, 1, 1, 0, 12))  131273.129736\n",
       "(ARIMA , (2, 0, 2))                       159722.929186\n",
       "(ARIMA , (2, 0, 1))                       163825.463853\n",
       "(ARIMA , (1, 0, 2))                       167063.138313\n",
       "(ARIMA , (2, 0, 0))                       167808.389732\n",
       "(ARIMA , (1, 0, 1))                       168120.660606\n",
       "(ARIMA , (1, 0, 0))                       170362.103437\n",
       "(ARIMA , (0, 1, 2))                       182465.867512\n",
       "(ARIMA , (1, 1, 0))                       182513.500994\n",
       "(ARIMA , (0, 1, 1))                       183121.223955\n",
       "(ARIMA , (1, 1, 1))                       183165.590956\n",
       "Baseline                                  183715.521396\n",
       "(ARIMA , (2, 1, 0))                       184693.799897\n",
       "(ARIMA , (0, 1, 0))                       184765.901900\n",
       "(ARIMA , (2, 1, 1))                       189559.217742\n",
       "(ARIMA , (0, 0, 2))                       252381.194229\n",
       "(ARIMA , (0, 0, 1))                       336855.865101\n",
       "(ARIMA , (0, 0, 0))                       517814.155001"
      ]
     },
     "execution_count": 22,
     "metadata": {},
     "output_type": "execute_result"
    }
   ],
   "source": [
    "# Updating the list of all the models and their RMSE scores\n",
    "s = pd.DataFrame.from_dict(scores, orient='index',columns = ['RMSE'])\n",
    "s.index.name = 'Models'\n",
    "s.sort_values(by = 'RMSE')"
   ]
  },
  {
   "cell_type": "markdown",
   "metadata": {},
   "source": [
    "We can see that the SARIMA grid search model performed the best of all the models with an RMSE of 131273"
   ]
  },
  {
   "cell_type": "markdown",
   "metadata": {},
   "source": [
    "### Adding exogenous variables"
   ]
  },
  {
   "cell_type": "markdown",
   "metadata": {},
   "source": [
    "I created a few exogenous variables to try and improve my model. In the end, these exognenous variables did not beat my grid search SARIMA RMSE, but they still did perform well. In this cell I will go through the four exogenous variables which I added.\n",
    "1. Month - I simply created the month of the year as an exog variable to see if that had an effect on the gross of the show\n",
    "2. I made another variable called season which contains the season of the year\n",
    "3. I made a yes or no column which contains yes if there is a holiday in that month\n",
    "4. I made a yes or no column which contains yes if its Christmas month\n",
    "5. I created another yes or no column which says yes if Lin-Manuel Miranda, the star and writer of the show, is in the show. He was only in the show for the first 13 months\n",
    "6. I made a yes or no column which contains yes if its December or January"
   ]
  },
  {
   "cell_type": "code",
   "execution_count": 23,
   "metadata": {},
   "outputs": [],
   "source": [
    "# Create a new df for the exog variables \n",
    "df_month_exog = df_month.copy()"
   ]
  },
  {
   "cell_type": "markdown",
   "metadata": {},
   "source": [
    "Exog variable 1:"
   ]
  },
  {
   "cell_type": "code",
   "execution_count": 24,
   "metadata": {},
   "outputs": [],
   "source": [
    "df_month_exog.reset_index(inplace=True)\n",
    "# add month as an exog variable\n",
    "df_month_exog['month'] = pd.DatetimeIndex(df_month_exog['date']).month\n",
    "df_month_exog.set_index('date', inplace=True)"
   ]
  },
  {
   "cell_type": "markdown",
   "metadata": {},
   "source": [
    "Exog variable 2: "
   ]
  },
  {
   "cell_type": "code",
   "execution_count": 25,
   "metadata": {},
   "outputs": [],
   "source": [
    "# add season as an exog variable \n",
    "df_month_exog['season'] = ' '\n",
    "df_month_exog['season'] = np.where((df_month_exog['month'] == 1) | \n",
    "                        (df_month_exog['month'] == 2) | \n",
    "                        (df_month_exog['month'] == 3), \n",
    "                        'Winter', df_month_exog['season'])\n",
    "df_month_exog['season'] = np.where((df_month_exog['month'] == 4) | \n",
    "                        (df_month_exog['month'] == 5) | \n",
    "                        (df_month_exog['month'] == 6), \n",
    "                        'Spring', df_month_exog['season'])\n",
    "df_month_exog['season'] = np.where((df_month_exog['month'] == 7) | \n",
    "                        (df_month_exog['month'] == 8) | \n",
    "                        (df_month_exog['month'] == 9), \n",
    "                        'Summer', df_month_exog['season'])\n",
    "df_month_exog['season'] = np.where((df_month_exog['month'] == 10) | \n",
    "                        (df_month_exog['month'] == 11) | \n",
    "                        (df_month_exog['month'] == 12), \n",
    "                        'Fall', df_month_exog['season'])"
   ]
  },
  {
   "cell_type": "markdown",
   "metadata": {},
   "source": [
    "Exog variable 3:"
   ]
  },
  {
   "cell_type": "code",
   "execution_count": 26,
   "metadata": {},
   "outputs": [],
   "source": [
    "## add whether or not there is a holiday in the month\n",
    "df_month_exog['holiday'] = ' '\n",
    "df_month_exog['holiday'] = np.where((df_month_exog['month'] == 1) | # New Years\n",
    "                                    (df_month_exog['month'] == 2) | # Presidents Week\n",
    "                                    (df_month_exog['month'] == 5) | # Memorial Day\n",
    "                                    (df_month_exog['month'] == 7) | # Independence Day\n",
    "                                    (df_month_exog['month'] == 9) | # Labor Day\n",
    "                                    (df_month_exog['month'] == 10) | # Halloween / Columbus Day\n",
    "                                    (df_month_exog['month'] == 11) | # Thanksgiving\n",
    "                                    (df_month_exog['month'] == 12), # Christmas\n",
    "                                    'Yes', df_month_exog['holiday'])"
   ]
  },
  {
   "cell_type": "markdown",
   "metadata": {},
   "source": [
    "Exog variable 4:"
   ]
  },
  {
   "cell_type": "code",
   "execution_count": 27,
   "metadata": {},
   "outputs": [],
   "source": [
    "## add whether or not its December / Christmas month\n",
    "df_month_exog['Xmas'] = ' '\n",
    "df_month_exog['Xmas'] = np.where((df_month_exog['month'] == 12), 'Yes', df_month_exog['Xmas'])"
   ]
  },
  {
   "cell_type": "markdown",
   "metadata": {},
   "source": [
    "Exog variable 5:"
   ]
  },
  {
   "cell_type": "code",
   "execution_count": 28,
   "metadata": {},
   "outputs": [],
   "source": [
    "# add whether or not Lin-Manuel Miranda is in the show (pre Aug 2016)\n",
    "df_month_exog.reset_index(inplace=True)\n",
    "df_month_exog['Lin'] = ' '\n",
    "df_month_exog['Lin'] = np.where((df_month_exog['date'] < '2016-08-01'), 'Yes', df_month_exog['Lin'])\n",
    "df_month_exog.set_index('date', inplace=True)"
   ]
  },
  {
   "cell_type": "markdown",
   "metadata": {},
   "source": [
    "Exog variable 6: "
   ]
  },
  {
   "cell_type": "code",
   "execution_count": 29,
   "metadata": {},
   "outputs": [],
   "source": [
    "## add whether or not it is Dec or Jan\n",
    "df_month_exog['big_holiday'] = ' '\n",
    "df_month_exog['big_holiday'] = np.where((df_month_exog['month'] == 1) | # New Years\n",
    "                                    (df_month_exog['month'] == 12), # Christmas\n",
    "                                    'Yes', df_month_exog['big_holiday'])"
   ]
  },
  {
   "cell_type": "code",
   "execution_count": 30,
   "metadata": {},
   "outputs": [
    {
     "data": {
      "text/plain": [
       "(57, 19)"
      ]
     },
     "execution_count": 30,
     "metadata": {},
     "output_type": "execute_result"
    }
   ],
   "source": [
    "# Create dummies\n",
    "dummies = ['season', 'month', 'holiday', 'Lin', 'big_holiday', 'Xmas']\n",
    "df_month_exog =  pd.get_dummies(df_month_exog, columns = dummies, drop_first = True )\n",
    "df_month_exog.shape"
   ]
  },
  {
   "cell_type": "code",
   "execution_count": 31,
   "metadata": {},
   "outputs": [],
   "source": [
    "# Drop the target column\n",
    "df_month_exog.drop(columns=['gross'], inplace=True)\n",
    "# Change the data types of the rows from int to float\n",
    "for i in df_month_exog.columns:\n",
    "    df_month_exog[i] = df_month_exog[i].astype('float')"
   ]
  },
  {
   "cell_type": "code",
   "execution_count": 32,
   "metadata": {},
   "outputs": [],
   "source": [
    "def sarimax(test_start, test_end, p,d,q,P,D,Q,m):\n",
    "    X = df_month['gross']\n",
    "    train, test = X[test_start:test_end], X['2019-01-01':'2019-12-01']\n",
    "    history = [x for x in train]\n",
    "    predictions = list()\n",
    "    model = SARIMAX(train, exog=df_month_exog[test_start:test_end], order=(p,d,q),  seasonal_order=(P,D,Q,m))\n",
    "    model_fit = model.fit(disp=0)\n",
    "    output = model_fit.predict('2019-01-01', '2019-12-01', exog=df_month_exog['2019-01-01':'2019-12-01'])\n",
    "    yhat = output[0]\n",
    "    obs = test[t]\n",
    "    history.append(obs)\n",
    "    rmse = sqrt(mean_squared_error(test, output))\n",
    "    # print('pdq - abce =',p,d,q,a,b,c,e)\n",
    "    # print('Test RMSE: $%.2f' % rmse)\n",
    "    scores['SARIMAX ', (p,d,q,P,D,Q,m)] = rmse"
   ]
  },
  {
   "cell_type": "code",
   "execution_count": 33,
   "metadata": {},
   "outputs": [
    {
     "name": "stderr",
     "output_type": "stream",
     "text": [
      "/Users/yehudaschein/opt/anaconda3/lib/python3.7/site-packages/statsmodels/tsa/base/tsa_model.py:527: ValueWarning: No frequency information was provided, so inferred frequency MS will be used.\n",
      "  % freq, ValueWarning)\n",
      "/Users/yehudaschein/opt/anaconda3/lib/python3.7/site-packages/statsmodels/tsa/base/tsa_model.py:527: ValueWarning: No frequency information was provided, so inferred frequency MS will be used.\n",
      "  % freq, ValueWarning)\n",
      "/Users/yehudaschein/opt/anaconda3/lib/python3.7/site-packages/statsmodels/tsa/base/tsa_model.py:527: ValueWarning: No frequency information was provided, so inferred frequency MS will be used.\n",
      "  % freq, ValueWarning)\n",
      "/Users/yehudaschein/opt/anaconda3/lib/python3.7/site-packages/statsmodels/tsa/base/tsa_model.py:527: ValueWarning: No frequency information was provided, so inferred frequency MS will be used.\n",
      "  % freq, ValueWarning)\n",
      "/Users/yehudaschein/opt/anaconda3/lib/python3.7/site-packages/statsmodels/tsa/base/tsa_model.py:527: ValueWarning: No frequency information was provided, so inferred frequency MS will be used.\n",
      "  % freq, ValueWarning)\n",
      "/Users/yehudaschein/opt/anaconda3/lib/python3.7/site-packages/statsmodels/tsa/base/tsa_model.py:527: ValueWarning: No frequency information was provided, so inferred frequency MS will be used.\n",
      "  % freq, ValueWarning)\n",
      "/Users/yehudaschein/opt/anaconda3/lib/python3.7/site-packages/statsmodels/tsa/base/tsa_model.py:527: ValueWarning: No frequency information was provided, so inferred frequency MS will be used.\n",
      "  % freq, ValueWarning)\n",
      "/Users/yehudaschein/opt/anaconda3/lib/python3.7/site-packages/statsmodels/tsa/base/tsa_model.py:527: ValueWarning: No frequency information was provided, so inferred frequency MS will be used.\n",
      "  % freq, ValueWarning)\n",
      "/Users/yehudaschein/opt/anaconda3/lib/python3.7/site-packages/statsmodels/tsa/base/tsa_model.py:527: ValueWarning: No frequency information was provided, so inferred frequency MS will be used.\n",
      "  % freq, ValueWarning)\n",
      "/Users/yehudaschein/opt/anaconda3/lib/python3.7/site-packages/statsmodels/tsa/base/tsa_model.py:527: ValueWarning: No frequency information was provided, so inferred frequency MS will be used.\n",
      "  % freq, ValueWarning)\n",
      "/Users/yehudaschein/opt/anaconda3/lib/python3.7/site-packages/statsmodels/tsa/base/tsa_model.py:527: ValueWarning: No frequency information was provided, so inferred frequency MS will be used.\n",
      "  % freq, ValueWarning)\n",
      "/Users/yehudaschein/opt/anaconda3/lib/python3.7/site-packages/statsmodels/tsa/base/tsa_model.py:527: ValueWarning: No frequency information was provided, so inferred frequency MS will be used.\n",
      "  % freq, ValueWarning)\n",
      "/Users/yehudaschein/opt/anaconda3/lib/python3.7/site-packages/statsmodels/tsa/base/tsa_model.py:527: ValueWarning: No frequency information was provided, so inferred frequency MS will be used.\n",
      "  % freq, ValueWarning)\n",
      "/Users/yehudaschein/opt/anaconda3/lib/python3.7/site-packages/statsmodels/tsa/base/tsa_model.py:527: ValueWarning: No frequency information was provided, so inferred frequency MS will be used.\n",
      "  % freq, ValueWarning)\n",
      "/Users/yehudaschein/opt/anaconda3/lib/python3.7/site-packages/statsmodels/tsa/base/tsa_model.py:527: ValueWarning: No frequency information was provided, so inferred frequency MS will be used.\n",
      "  % freq, ValueWarning)\n",
      "/Users/yehudaschein/opt/anaconda3/lib/python3.7/site-packages/statsmodels/tsa/base/tsa_model.py:527: ValueWarning: No frequency information was provided, so inferred frequency MS will be used.\n",
      "  % freq, ValueWarning)\n",
      "/Users/yehudaschein/opt/anaconda3/lib/python3.7/site-packages/statsmodels/tsa/base/tsa_model.py:527: ValueWarning: No frequency information was provided, so inferred frequency MS will be used.\n",
      "  % freq, ValueWarning)\n",
      "/Users/yehudaschein/opt/anaconda3/lib/python3.7/site-packages/statsmodels/tsa/base/tsa_model.py:527: ValueWarning: No frequency information was provided, so inferred frequency MS will be used.\n",
      "  % freq, ValueWarning)\n",
      "/Users/yehudaschein/opt/anaconda3/lib/python3.7/site-packages/statsmodels/tsa/base/tsa_model.py:527: ValueWarning: No frequency information was provided, so inferred frequency MS will be used.\n",
      "  % freq, ValueWarning)\n",
      "/Users/yehudaschein/opt/anaconda3/lib/python3.7/site-packages/statsmodels/tsa/base/tsa_model.py:527: ValueWarning: No frequency information was provided, so inferred frequency MS will be used.\n",
      "  % freq, ValueWarning)\n",
      "/Users/yehudaschein/opt/anaconda3/lib/python3.7/site-packages/statsmodels/tsa/base/tsa_model.py:527: ValueWarning: No frequency information was provided, so inferred frequency MS will be used.\n",
      "  % freq, ValueWarning)\n",
      "/Users/yehudaschein/opt/anaconda3/lib/python3.7/site-packages/statsmodels/tsa/base/tsa_model.py:527: ValueWarning: No frequency information was provided, so inferred frequency MS will be used.\n",
      "  % freq, ValueWarning)\n",
      "/Users/yehudaschein/opt/anaconda3/lib/python3.7/site-packages/statsmodels/tsa/base/tsa_model.py:527: ValueWarning: No frequency information was provided, so inferred frequency MS will be used.\n",
      "  % freq, ValueWarning)\n",
      "/Users/yehudaschein/opt/anaconda3/lib/python3.7/site-packages/statsmodels/tsa/base/tsa_model.py:527: ValueWarning: No frequency information was provided, so inferred frequency MS will be used.\n",
      "  % freq, ValueWarning)\n",
      "/Users/yehudaschein/opt/anaconda3/lib/python3.7/site-packages/statsmodels/tsa/base/tsa_model.py:527: ValueWarning: No frequency information was provided, so inferred frequency MS will be used.\n",
      "  % freq, ValueWarning)\n",
      "/Users/yehudaschein/opt/anaconda3/lib/python3.7/site-packages/statsmodels/tsa/base/tsa_model.py:527: ValueWarning: No frequency information was provided, so inferred frequency MS will be used.\n",
      "  % freq, ValueWarning)\n",
      "/Users/yehudaschein/opt/anaconda3/lib/python3.7/site-packages/statsmodels/tsa/base/tsa_model.py:527: ValueWarning: No frequency information was provided, so inferred frequency MS will be used.\n",
      "  % freq, ValueWarning)\n",
      "/Users/yehudaschein/opt/anaconda3/lib/python3.7/site-packages/statsmodels/tsa/base/tsa_model.py:527: ValueWarning: No frequency information was provided, so inferred frequency MS will be used.\n",
      "  % freq, ValueWarning)\n",
      "/Users/yehudaschein/opt/anaconda3/lib/python3.7/site-packages/statsmodels/tsa/base/tsa_model.py:527: ValueWarning: No frequency information was provided, so inferred frequency MS will be used.\n",
      "  % freq, ValueWarning)\n",
      "/Users/yehudaschein/opt/anaconda3/lib/python3.7/site-packages/statsmodels/tsa/base/tsa_model.py:527: ValueWarning: No frequency information was provided, so inferred frequency MS will be used.\n",
      "  % freq, ValueWarning)\n",
      "/Users/yehudaschein/opt/anaconda3/lib/python3.7/site-packages/statsmodels/tsa/base/tsa_model.py:527: ValueWarning: No frequency information was provided, so inferred frequency MS will be used.\n",
      "  % freq, ValueWarning)\n",
      "/Users/yehudaschein/opt/anaconda3/lib/python3.7/site-packages/statsmodels/tsa/base/tsa_model.py:527: ValueWarning: No frequency information was provided, so inferred frequency MS will be used.\n",
      "  % freq, ValueWarning)\n",
      "/Users/yehudaschein/opt/anaconda3/lib/python3.7/site-packages/statsmodels/tsa/base/tsa_model.py:527: ValueWarning: No frequency information was provided, so inferred frequency MS will be used.\n",
      "  % freq, ValueWarning)\n",
      "/Users/yehudaschein/opt/anaconda3/lib/python3.7/site-packages/statsmodels/tsa/base/tsa_model.py:527: ValueWarning: No frequency information was provided, so inferred frequency MS will be used.\n",
      "  % freq, ValueWarning)\n",
      "/Users/yehudaschein/opt/anaconda3/lib/python3.7/site-packages/statsmodels/tsa/base/tsa_model.py:527: ValueWarning: No frequency information was provided, so inferred frequency MS will be used.\n",
      "  % freq, ValueWarning)\n",
      "/Users/yehudaschein/opt/anaconda3/lib/python3.7/site-packages/statsmodels/tsa/base/tsa_model.py:527: ValueWarning: No frequency information was provided, so inferred frequency MS will be used.\n",
      "  % freq, ValueWarning)\n",
      "/Users/yehudaschein/opt/anaconda3/lib/python3.7/site-packages/statsmodels/tsa/base/tsa_model.py:527: ValueWarning: No frequency information was provided, so inferred frequency MS will be used.\n",
      "  % freq, ValueWarning)\n",
      "/Users/yehudaschein/opt/anaconda3/lib/python3.7/site-packages/statsmodels/tsa/base/tsa_model.py:527: ValueWarning: No frequency information was provided, so inferred frequency MS will be used.\n",
      "  % freq, ValueWarning)\n"
     ]
    },
    {
     "name": "stderr",
     "output_type": "stream",
     "text": [
      "/Users/yehudaschein/opt/anaconda3/lib/python3.7/site-packages/statsmodels/tsa/base/tsa_model.py:527: ValueWarning: No frequency information was provided, so inferred frequency MS will be used.\n",
      "  % freq, ValueWarning)\n",
      "/Users/yehudaschein/opt/anaconda3/lib/python3.7/site-packages/statsmodels/tsa/base/tsa_model.py:527: ValueWarning: No frequency information was provided, so inferred frequency MS will be used.\n",
      "  % freq, ValueWarning)\n",
      "/Users/yehudaschein/opt/anaconda3/lib/python3.7/site-packages/statsmodels/tsa/base/tsa_model.py:527: ValueWarning: No frequency information was provided, so inferred frequency MS will be used.\n",
      "  % freq, ValueWarning)\n",
      "/Users/yehudaschein/opt/anaconda3/lib/python3.7/site-packages/statsmodels/tsa/base/tsa_model.py:527: ValueWarning: No frequency information was provided, so inferred frequency MS will be used.\n",
      "  % freq, ValueWarning)\n",
      "/Users/yehudaschein/opt/anaconda3/lib/python3.7/site-packages/statsmodels/tsa/base/tsa_model.py:527: ValueWarning: No frequency information was provided, so inferred frequency MS will be used.\n",
      "  % freq, ValueWarning)\n",
      "/Users/yehudaschein/opt/anaconda3/lib/python3.7/site-packages/statsmodels/tsa/base/tsa_model.py:527: ValueWarning: No frequency information was provided, so inferred frequency MS will be used.\n",
      "  % freq, ValueWarning)\n",
      "/Users/yehudaschein/opt/anaconda3/lib/python3.7/site-packages/statsmodels/tsa/base/tsa_model.py:527: ValueWarning: No frequency information was provided, so inferred frequency MS will be used.\n",
      "  % freq, ValueWarning)\n",
      "/Users/yehudaschein/opt/anaconda3/lib/python3.7/site-packages/statsmodels/tsa/base/tsa_model.py:527: ValueWarning: No frequency information was provided, so inferred frequency MS will be used.\n",
      "  % freq, ValueWarning)\n",
      "/Users/yehudaschein/opt/anaconda3/lib/python3.7/site-packages/statsmodels/tsa/base/tsa_model.py:527: ValueWarning: No frequency information was provided, so inferred frequency MS will be used.\n",
      "  % freq, ValueWarning)\n",
      "/Users/yehudaschein/opt/anaconda3/lib/python3.7/site-packages/statsmodels/tsa/base/tsa_model.py:527: ValueWarning: No frequency information was provided, so inferred frequency MS will be used.\n",
      "  % freq, ValueWarning)\n",
      "/Users/yehudaschein/opt/anaconda3/lib/python3.7/site-packages/statsmodels/tsa/base/tsa_model.py:527: ValueWarning: No frequency information was provided, so inferred frequency MS will be used.\n",
      "  % freq, ValueWarning)\n",
      "/Users/yehudaschein/opt/anaconda3/lib/python3.7/site-packages/statsmodels/tsa/base/tsa_model.py:527: ValueWarning: No frequency information was provided, so inferred frequency MS will be used.\n",
      "  % freq, ValueWarning)\n",
      "/Users/yehudaschein/opt/anaconda3/lib/python3.7/site-packages/statsmodels/tsa/base/tsa_model.py:527: ValueWarning: No frequency information was provided, so inferred frequency MS will be used.\n",
      "  % freq, ValueWarning)\n",
      "/Users/yehudaschein/opt/anaconda3/lib/python3.7/site-packages/statsmodels/tsa/base/tsa_model.py:527: ValueWarning: No frequency information was provided, so inferred frequency MS will be used.\n",
      "  % freq, ValueWarning)\n",
      "/Users/yehudaschein/opt/anaconda3/lib/python3.7/site-packages/statsmodels/tsa/base/tsa_model.py:527: ValueWarning: No frequency information was provided, so inferred frequency MS will be used.\n",
      "  % freq, ValueWarning)\n",
      "/Users/yehudaschein/opt/anaconda3/lib/python3.7/site-packages/statsmodels/tsa/base/tsa_model.py:527: ValueWarning: No frequency information was provided, so inferred frequency MS will be used.\n",
      "  % freq, ValueWarning)\n",
      "/Users/yehudaschein/opt/anaconda3/lib/python3.7/site-packages/statsmodels/tsa/base/tsa_model.py:527: ValueWarning: No frequency information was provided, so inferred frequency MS will be used.\n",
      "  % freq, ValueWarning)\n",
      "/Users/yehudaschein/opt/anaconda3/lib/python3.7/site-packages/statsmodels/tsa/base/tsa_model.py:527: ValueWarning: No frequency information was provided, so inferred frequency MS will be used.\n",
      "  % freq, ValueWarning)\n",
      "/Users/yehudaschein/opt/anaconda3/lib/python3.7/site-packages/statsmodels/tsa/base/tsa_model.py:527: ValueWarning: No frequency information was provided, so inferred frequency MS will be used.\n",
      "  % freq, ValueWarning)\n",
      "/Users/yehudaschein/opt/anaconda3/lib/python3.7/site-packages/statsmodels/tsa/base/tsa_model.py:527: ValueWarning: No frequency information was provided, so inferred frequency MS will be used.\n",
      "  % freq, ValueWarning)\n",
      "/Users/yehudaschein/opt/anaconda3/lib/python3.7/site-packages/statsmodels/tsa/base/tsa_model.py:527: ValueWarning: No frequency information was provided, so inferred frequency MS will be used.\n",
      "  % freq, ValueWarning)\n",
      "/Users/yehudaschein/opt/anaconda3/lib/python3.7/site-packages/statsmodels/tsa/base/tsa_model.py:527: ValueWarning: No frequency information was provided, so inferred frequency MS will be used.\n",
      "  % freq, ValueWarning)\n",
      "/Users/yehudaschein/opt/anaconda3/lib/python3.7/site-packages/statsmodels/tsa/base/tsa_model.py:527: ValueWarning: No frequency information was provided, so inferred frequency MS will be used.\n",
      "  % freq, ValueWarning)\n",
      "/Users/yehudaschein/opt/anaconda3/lib/python3.7/site-packages/statsmodels/tsa/base/tsa_model.py:527: ValueWarning: No frequency information was provided, so inferred frequency MS will be used.\n",
      "  % freq, ValueWarning)\n",
      "/Users/yehudaschein/opt/anaconda3/lib/python3.7/site-packages/statsmodels/base/model.py:568: ConvergenceWarning: Maximum Likelihood optimization failed to converge. Check mle_retvals\n",
      "  ConvergenceWarning)\n",
      "/Users/yehudaschein/opt/anaconda3/lib/python3.7/site-packages/statsmodels/tsa/base/tsa_model.py:527: ValueWarning: No frequency information was provided, so inferred frequency MS will be used.\n",
      "  % freq, ValueWarning)\n",
      "/Users/yehudaschein/opt/anaconda3/lib/python3.7/site-packages/statsmodels/tsa/base/tsa_model.py:527: ValueWarning: No frequency information was provided, so inferred frequency MS will be used.\n",
      "  % freq, ValueWarning)\n"
     ]
    }
   ],
   "source": [
    "# Building all the sarimax models\n",
    "sarimax(test_start, test_end,0,0,1, 0,0,1, 12)\n",
    "sarimax(test_start, test_end,0,1,0, 0,1,0, 12)\n",
    "sarimax(test_start, test_end,1,0,0, 1,0,0, 12)\n",
    "sarimax(test_start, test_end,1,0,1, 1,0,1, 12)\n",
    "sarimax(test_start, test_end,1,1,0, 1,1,0, 12)\n",
    "sarimax(test_start, test_end,2,0,0, 2,0,0, 12)\n",
    "sarimax(test_start, test_end,2,0,1, 2,0,1, 12)\n",
    "sarimax(test_start, test_end,2,1,0, 2,1,0, 12)\n",
    "sarimax(test_start, test_end,0,0,1, 0,0,1, 9)\n",
    "sarimax(test_start, test_end,0,1,0, 0,1,0, 9)\n",
    "sarimax(test_start, test_end,1,0,0, 1,0,0, 9)\n",
    "sarimax(test_start, test_end,1,0,1, 1,0,1, 9)\n",
    "sarimax(test_start, test_end,1,1,0, 1,1,0, 9)\n",
    "sarimax(test_start, test_end,2,0,0, 2,0,0, 9)\n",
    "sarimax(test_start, test_end,2,0,1, 2,0,1, 9)\n",
    "sarimax(test_start, test_end,2,1,0, 2,1,0, 9)\n",
    "sarimax(test_start, test_end,0,0,1, 0,0,1, 6)\n",
    "sarimax(test_start, test_end,0,1,0, 0,1,0, 6)\n",
    "sarimax(test_start, test_end,1,0,0, 1,0,0, 6)\n",
    "sarimax(test_start, test_end,1,0,1, 1,0,1, 6)\n",
    "sarimax(test_start, test_end,1,1,0, 1,1,0, 6)\n",
    "sarimax(test_start, test_end,2,0,0, 2,0,0, 6)\n",
    "sarimax(test_start, test_end,2,0,1, 2,0,1, 6)\n",
    "sarimax(test_start, test_end,2,1,0, 2,1,0, 6)\n",
    "sarimax(test_start, test_end,0,0,1, 0,0,1, 3)\n",
    "sarimax(test_start, test_end,0,1,0, 0,1,0, 12)\n",
    "sarimax(test_start, test_end,1,0,0, 1,0,0, 3)\n",
    "sarimax(test_start, test_end,1,0,1, 1,0,1, 3)\n",
    "sarimax(test_start, test_end,1,1,0, 1,1,0, 3)\n",
    "sarimax(test_start, test_end,2,0,0, 2,0,0, 3)\n",
    "sarimax(test_start, test_end,2,0,1, 2,0,1, 3)\n",
    "sarimax(test_start, test_end,2,1,0, 2,1,0, 3)"
   ]
  },
  {
   "cell_type": "code",
   "execution_count": 34,
   "metadata": {
    "scrolled": true
   },
   "outputs": [
    {
     "data": {
      "text/html": [
       "<div>\n",
       "<style scoped>\n",
       "    .dataframe tbody tr th:only-of-type {\n",
       "        vertical-align: middle;\n",
       "    }\n",
       "\n",
       "    .dataframe tbody tr th {\n",
       "        vertical-align: top;\n",
       "    }\n",
       "\n",
       "    .dataframe thead th {\n",
       "        text-align: right;\n",
       "    }\n",
       "</style>\n",
       "<table border=\"1\" class=\"dataframe\">\n",
       "  <thead>\n",
       "    <tr style=\"text-align: right;\">\n",
       "      <th></th>\n",
       "      <th>RMSE</th>\n",
       "    </tr>\n",
       "    <tr>\n",
       "      <th>Models</th>\n",
       "      <th></th>\n",
       "    </tr>\n",
       "  </thead>\n",
       "  <tbody>\n",
       "    <tr>\n",
       "      <th>(SARIMA FROM GS, (1, 1, 0, 1, 1, 0, 12))</th>\n",
       "      <td>131273.129736</td>\n",
       "    </tr>\n",
       "    <tr>\n",
       "      <th>(SARIMAX , (1, 0, 0, 1, 0, 0, 9))</th>\n",
       "      <td>134413.173360</td>\n",
       "    </tr>\n",
       "    <tr>\n",
       "      <th>(SARIMAX , (2, 0, 0, 2, 0, 0, 3))</th>\n",
       "      <td>139575.629923</td>\n",
       "    </tr>\n",
       "    <tr>\n",
       "      <th>(SARIMAX , (1, 0, 0, 1, 0, 0, 3))</th>\n",
       "      <td>141279.727361</td>\n",
       "    </tr>\n",
       "    <tr>\n",
       "      <th>(SARIMAX , (1, 0, 0, 1, 0, 0, 6))</th>\n",
       "      <td>146461.183112</td>\n",
       "    </tr>\n",
       "    <tr>\n",
       "      <th>(SARIMAX , (0, 0, 1, 0, 0, 1, 9))</th>\n",
       "      <td>152536.690586</td>\n",
       "    </tr>\n",
       "    <tr>\n",
       "      <th>(SARIMAX , (0, 0, 1, 0, 0, 1, 3))</th>\n",
       "      <td>152758.590304</td>\n",
       "    </tr>\n",
       "    <tr>\n",
       "      <th>(ARIMA , (2, 0, 2))</th>\n",
       "      <td>159722.929186</td>\n",
       "    </tr>\n",
       "    <tr>\n",
       "      <th>(SARIMAX , (2, 0, 1, 2, 0, 1, 3))</th>\n",
       "      <td>162852.739919</td>\n",
       "    </tr>\n",
       "    <tr>\n",
       "      <th>(ARIMA , (2, 0, 1))</th>\n",
       "      <td>163825.463853</td>\n",
       "    </tr>\n",
       "    <tr>\n",
       "      <th>(SARIMAX , (0, 0, 1, 0, 0, 1, 6))</th>\n",
       "      <td>165412.391199</td>\n",
       "    </tr>\n",
       "    <tr>\n",
       "      <th>(ARIMA , (1, 0, 2))</th>\n",
       "      <td>167063.138313</td>\n",
       "    </tr>\n",
       "    <tr>\n",
       "      <th>(ARIMA , (2, 0, 0))</th>\n",
       "      <td>167808.389732</td>\n",
       "    </tr>\n",
       "    <tr>\n",
       "      <th>(ARIMA , (1, 0, 1))</th>\n",
       "      <td>168120.660606</td>\n",
       "    </tr>\n",
       "    <tr>\n",
       "      <th>(SARIMAX , (1, 0, 1, 1, 0, 1, 9))</th>\n",
       "      <td>168476.901997</td>\n",
       "    </tr>\n",
       "    <tr>\n",
       "      <th>(ARIMA , (1, 0, 0))</th>\n",
       "      <td>170362.103437</td>\n",
       "    </tr>\n",
       "    <tr>\n",
       "      <th>(SARIMAX , (1, 0, 1, 1, 0, 1, 3))</th>\n",
       "      <td>170396.492445</td>\n",
       "    </tr>\n",
       "    <tr>\n",
       "      <th>(SARIMAX , (2, 0, 0, 2, 0, 0, 9))</th>\n",
       "      <td>171074.479467</td>\n",
       "    </tr>\n",
       "    <tr>\n",
       "      <th>(SARIMAX , (2, 0, 1, 2, 0, 1, 9))</th>\n",
       "      <td>173118.522047</td>\n",
       "    </tr>\n",
       "    <tr>\n",
       "      <th>(ARIMA , (0, 1, 2))</th>\n",
       "      <td>182465.867512</td>\n",
       "    </tr>\n",
       "    <tr>\n",
       "      <th>(ARIMA , (1, 1, 0))</th>\n",
       "      <td>182513.500994</td>\n",
       "    </tr>\n",
       "    <tr>\n",
       "      <th>(ARIMA , (0, 1, 1))</th>\n",
       "      <td>183121.223955</td>\n",
       "    </tr>\n",
       "    <tr>\n",
       "      <th>(ARIMA , (1, 1, 1))</th>\n",
       "      <td>183165.590956</td>\n",
       "    </tr>\n",
       "    <tr>\n",
       "      <th>Baseline</th>\n",
       "      <td>183715.521396</td>\n",
       "    </tr>\n",
       "    <tr>\n",
       "      <th>(SARIMAX , (1, 0, 1, 1, 0, 1, 6))</th>\n",
       "      <td>183886.823534</td>\n",
       "    </tr>\n",
       "    <tr>\n",
       "      <th>(ARIMA , (2, 1, 0))</th>\n",
       "      <td>184693.799897</td>\n",
       "    </tr>\n",
       "    <tr>\n",
       "      <th>(ARIMA , (0, 1, 0))</th>\n",
       "      <td>184765.901900</td>\n",
       "    </tr>\n",
       "    <tr>\n",
       "      <th>(ARIMA , (2, 1, 1))</th>\n",
       "      <td>189559.217742</td>\n",
       "    </tr>\n",
       "    <tr>\n",
       "      <th>(SARIMAX , (1, 0, 0, 1, 0, 0, 12))</th>\n",
       "      <td>196037.110533</td>\n",
       "    </tr>\n",
       "    <tr>\n",
       "      <th>(SARIMAX , (2, 0, 0, 2, 0, 0, 6))</th>\n",
       "      <td>197312.113099</td>\n",
       "    </tr>\n",
       "    <tr>\n",
       "      <th>(SARIMAX , (1, 0, 1, 1, 0, 1, 12))</th>\n",
       "      <td>209779.381870</td>\n",
       "    </tr>\n",
       "    <tr>\n",
       "      <th>(SARIMAX , (2, 0, 1, 2, 0, 1, 6))</th>\n",
       "      <td>211750.916514</td>\n",
       "    </tr>\n",
       "    <tr>\n",
       "      <th>(SARIMAX , (0, 1, 0, 0, 1, 0, 12))</th>\n",
       "      <td>250139.761790</td>\n",
       "    </tr>\n",
       "    <tr>\n",
       "      <th>(ARIMA , (0, 0, 2))</th>\n",
       "      <td>252381.194229</td>\n",
       "    </tr>\n",
       "    <tr>\n",
       "      <th>(SARIMAX , (0, 0, 1, 0, 0, 1, 12))</th>\n",
       "      <td>252804.643256</td>\n",
       "    </tr>\n",
       "    <tr>\n",
       "      <th>(SARIMAX , (2, 0, 1, 2, 0, 1, 12))</th>\n",
       "      <td>259248.203690</td>\n",
       "    </tr>\n",
       "    <tr>\n",
       "      <th>(SARIMAX , (2, 0, 0, 2, 0, 0, 12))</th>\n",
       "      <td>279198.266685</td>\n",
       "    </tr>\n",
       "    <tr>\n",
       "      <th>(SARIMAX , (1, 1, 0, 1, 1, 0, 12))</th>\n",
       "      <td>285735.638609</td>\n",
       "    </tr>\n",
       "    <tr>\n",
       "      <th>(SARIMAX , (2, 1, 0, 2, 1, 0, 6))</th>\n",
       "      <td>330092.590783</td>\n",
       "    </tr>\n",
       "    <tr>\n",
       "      <th>(ARIMA , (0, 0, 1))</th>\n",
       "      <td>336855.865101</td>\n",
       "    </tr>\n",
       "    <tr>\n",
       "      <th>(SARIMAX , (1, 1, 0, 1, 1, 0, 6))</th>\n",
       "      <td>362796.362560</td>\n",
       "    </tr>\n",
       "    <tr>\n",
       "      <th>(SARIMAX , (1, 1, 0, 1, 1, 0, 9))</th>\n",
       "      <td>381621.567256</td>\n",
       "    </tr>\n",
       "    <tr>\n",
       "      <th>(SARIMAX , (2, 1, 0, 2, 1, 0, 9))</th>\n",
       "      <td>386845.483895</td>\n",
       "    </tr>\n",
       "    <tr>\n",
       "      <th>(SARIMAX , (2, 1, 0, 2, 1, 0, 12))</th>\n",
       "      <td>394280.609464</td>\n",
       "    </tr>\n",
       "    <tr>\n",
       "      <th>(SARIMAX , (0, 1, 0, 0, 1, 0, 9))</th>\n",
       "      <td>404515.269076</td>\n",
       "    </tr>\n",
       "    <tr>\n",
       "      <th>(SARIMAX , (0, 1, 0, 0, 1, 0, 6))</th>\n",
       "      <td>409123.426899</td>\n",
       "    </tr>\n",
       "    <tr>\n",
       "      <th>(SARIMAX , (2, 1, 0, 2, 1, 0, 3))</th>\n",
       "      <td>444350.405616</td>\n",
       "    </tr>\n",
       "    <tr>\n",
       "      <th>(SARIMAX , (1, 1, 0, 1, 1, 0, 3))</th>\n",
       "      <td>461454.630718</td>\n",
       "    </tr>\n",
       "    <tr>\n",
       "      <th>(ARIMA , (0, 0, 0))</th>\n",
       "      <td>517814.155001</td>\n",
       "    </tr>\n",
       "  </tbody>\n",
       "</table>\n",
       "</div>"
      ],
      "text/plain": [
       "                                                   RMSE\n",
       "Models                                                 \n",
       "(SARIMA FROM GS, (1, 1, 0, 1, 1, 0, 12))  131273.129736\n",
       "(SARIMAX , (1, 0, 0, 1, 0, 0, 9))         134413.173360\n",
       "(SARIMAX , (2, 0, 0, 2, 0, 0, 3))         139575.629923\n",
       "(SARIMAX , (1, 0, 0, 1, 0, 0, 3))         141279.727361\n",
       "(SARIMAX , (1, 0, 0, 1, 0, 0, 6))         146461.183112\n",
       "(SARIMAX , (0, 0, 1, 0, 0, 1, 9))         152536.690586\n",
       "(SARIMAX , (0, 0, 1, 0, 0, 1, 3))         152758.590304\n",
       "(ARIMA , (2, 0, 2))                       159722.929186\n",
       "(SARIMAX , (2, 0, 1, 2, 0, 1, 3))         162852.739919\n",
       "(ARIMA , (2, 0, 1))                       163825.463853\n",
       "(SARIMAX , (0, 0, 1, 0, 0, 1, 6))         165412.391199\n",
       "(ARIMA , (1, 0, 2))                       167063.138313\n",
       "(ARIMA , (2, 0, 0))                       167808.389732\n",
       "(ARIMA , (1, 0, 1))                       168120.660606\n",
       "(SARIMAX , (1, 0, 1, 1, 0, 1, 9))         168476.901997\n",
       "(ARIMA , (1, 0, 0))                       170362.103437\n",
       "(SARIMAX , (1, 0, 1, 1, 0, 1, 3))         170396.492445\n",
       "(SARIMAX , (2, 0, 0, 2, 0, 0, 9))         171074.479467\n",
       "(SARIMAX , (2, 0, 1, 2, 0, 1, 9))         173118.522047\n",
       "(ARIMA , (0, 1, 2))                       182465.867512\n",
       "(ARIMA , (1, 1, 0))                       182513.500994\n",
       "(ARIMA , (0, 1, 1))                       183121.223955\n",
       "(ARIMA , (1, 1, 1))                       183165.590956\n",
       "Baseline                                  183715.521396\n",
       "(SARIMAX , (1, 0, 1, 1, 0, 1, 6))         183886.823534\n",
       "(ARIMA , (2, 1, 0))                       184693.799897\n",
       "(ARIMA , (0, 1, 0))                       184765.901900\n",
       "(ARIMA , (2, 1, 1))                       189559.217742\n",
       "(SARIMAX , (1, 0, 0, 1, 0, 0, 12))        196037.110533\n",
       "(SARIMAX , (2, 0, 0, 2, 0, 0, 6))         197312.113099\n",
       "(SARIMAX , (1, 0, 1, 1, 0, 1, 12))        209779.381870\n",
       "(SARIMAX , (2, 0, 1, 2, 0, 1, 6))         211750.916514\n",
       "(SARIMAX , (0, 1, 0, 0, 1, 0, 12))        250139.761790\n",
       "(ARIMA , (0, 0, 2))                       252381.194229\n",
       "(SARIMAX , (0, 0, 1, 0, 0, 1, 12))        252804.643256\n",
       "(SARIMAX , (2, 0, 1, 2, 0, 1, 12))        259248.203690\n",
       "(SARIMAX , (2, 0, 0, 2, 0, 0, 12))        279198.266685\n",
       "(SARIMAX , (1, 1, 0, 1, 1, 0, 12))        285735.638609\n",
       "(SARIMAX , (2, 1, 0, 2, 1, 0, 6))         330092.590783\n",
       "(ARIMA , (0, 0, 1))                       336855.865101\n",
       "(SARIMAX , (1, 1, 0, 1, 1, 0, 6))         362796.362560\n",
       "(SARIMAX , (1, 1, 0, 1, 1, 0, 9))         381621.567256\n",
       "(SARIMAX , (2, 1, 0, 2, 1, 0, 9))         386845.483895\n",
       "(SARIMAX , (2, 1, 0, 2, 1, 0, 12))        394280.609464\n",
       "(SARIMAX , (0, 1, 0, 0, 1, 0, 9))         404515.269076\n",
       "(SARIMAX , (0, 1, 0, 0, 1, 0, 6))         409123.426899\n",
       "(SARIMAX , (2, 1, 0, 2, 1, 0, 3))         444350.405616\n",
       "(SARIMAX , (1, 1, 0, 1, 1, 0, 3))         461454.630718\n",
       "(ARIMA , (0, 0, 0))                       517814.155001"
      ]
     },
     "execution_count": 34,
     "metadata": {},
     "output_type": "execute_result"
    }
   ],
   "source": [
    "# Updating the list of all the models and their RMSE scores\n",
    "s = pd.DataFrame.from_dict(scores, orient='index',columns = ['RMSE'])\n",
    "s.index.name = 'Models'\n",
    "s.sort_values(by = 'RMSE')"
   ]
  },
  {
   "cell_type": "markdown",
   "metadata": {},
   "source": [
    "# 2. WICKED"
   ]
  },
  {
   "cell_type": "code",
   "execution_count": 35,
   "metadata": {},
   "outputs": [
    {
     "data": {
      "text/html": [
       "<div>\n",
       "<style scoped>\n",
       "    .dataframe tbody tr th:only-of-type {\n",
       "        vertical-align: middle;\n",
       "    }\n",
       "\n",
       "    .dataframe tbody tr th {\n",
       "        vertical-align: top;\n",
       "    }\n",
       "\n",
       "    .dataframe thead th {\n",
       "        text-align: right;\n",
       "    }\n",
       "</style>\n",
       "<table border=\"1\" class=\"dataframe\">\n",
       "  <thead>\n",
       "    <tr style=\"text-align: right;\">\n",
       "      <th></th>\n",
       "      <th>gross</th>\n",
       "    </tr>\n",
       "    <tr>\n",
       "      <th>date</th>\n",
       "      <th></th>\n",
       "    </tr>\n",
       "  </thead>\n",
       "  <tbody>\n",
       "    <tr>\n",
       "      <th>2003-10-01</th>\n",
       "      <td>7.387043e+05</td>\n",
       "    </tr>\n",
       "    <tr>\n",
       "      <th>2003-11-01</th>\n",
       "      <td>9.251442e+05</td>\n",
       "    </tr>\n",
       "    <tr>\n",
       "      <th>2003-12-01</th>\n",
       "      <td>1.064908e+06</td>\n",
       "    </tr>\n",
       "    <tr>\n",
       "      <th>2004-01-01</th>\n",
       "      <td>1.056137e+06</td>\n",
       "    </tr>\n",
       "    <tr>\n",
       "      <th>2004-02-01</th>\n",
       "      <td>9.946004e+05</td>\n",
       "    </tr>\n",
       "  </tbody>\n",
       "</table>\n",
       "</div>"
      ],
      "text/plain": [
       "                   gross\n",
       "date                    \n",
       "2003-10-01  7.387043e+05\n",
       "2003-11-01  9.251442e+05\n",
       "2003-12-01  1.064908e+06\n",
       "2004-01-01  1.056137e+06\n",
       "2004-02-01  9.946004e+05"
      ]
     },
     "execution_count": 35,
     "metadata": {},
     "output_type": "execute_result"
    }
   ],
   "source": [
    "# Read in the df\n",
    "df = pd.read_csv('gross.csv')\n",
    "# Only get the rows and columns that we want\n",
    "# Step 1: Only get the show Hamilton\n",
    "df = df[(df['show'] == 'Wicked')]\n",
    "# Step 2: Drop all columns except 'week_ending' and 'weekly_gross'\n",
    "df.drop(['week_number','weekly_gross_overall', 'show', 'theatre', 'potential_gross',\n",
    "          'avg_ticket_price', 'top_ticket_price', 'seats_sold', 'seats_in_theatre', \n",
    "          'pct_capacity', 'performances', 'previews'], axis=1, inplace = True) \n",
    "# Step 3: change name from 'week_ending' to 'date' AND 'weekly_gross' to just 'gross'\n",
    "df.rename(columns = {\"week_ending\": \"date\"}, inplace = True) \n",
    "df.rename(columns = {\"weekly_gross\": \"gross\"}, inplace = True)\n",
    "# Step 4: change date column to type 'datetime64[ns]'\n",
    "df['date'] = df['date'].astype('datetime64[ns]') \n",
    "# Step 5: set the df equal to df_month \n",
    "df_month = df\n",
    "# Step 6: make date the index\n",
    "df.set_index('date', inplace=True)\n",
    "# Step 8: Downsampling to a month\n",
    "df_month = df.resample('MS').mean()\n",
    "#Step 9: Look at the final table\n",
    "df_month.head()"
   ]
  },
  {
   "cell_type": "code",
   "execution_count": 36,
   "metadata": {},
   "outputs": [],
   "source": [
    "# To show the scores of all the models throughout the notebook\n",
    "scores = {}\n",
    "# the test_start variable corresponds to the first date of the show, \n",
    "# which in this case means the beginning of our testing set\n",
    "test_start = '2003-10-01'\n",
    "test_end = '2018-12-01'"
   ]
  },
  {
   "cell_type": "markdown",
   "metadata": {},
   "source": [
    "#### Baseline Model - AR"
   ]
  },
  {
   "cell_type": "code",
   "execution_count": 37,
   "metadata": {},
   "outputs": [
    {
     "name": "stdout",
     "output_type": "stream",
     "text": [
      "Test RMSE: $123771.94\n"
     ]
    },
    {
     "data": {
      "image/png": "[encoded data removed]",
      "text/plain": [
       "<Figure size 432x288 with 1 Axes>"
      ]
     },
     "metadata": {
      "needs_background": "light"
     },
     "output_type": "display_data"
    }
   ],
   "source": [
    "baseline()"
   ]
  },
  {
   "cell_type": "markdown",
   "metadata": {},
   "source": [
    "#### SARIMA Models - Parameter Selection"
   ]
  },
  {
   "cell_type": "code",
   "execution_count": 38,
   "metadata": {},
   "outputs": [
    {
     "name": "stderr",
     "output_type": "stream",
     "text": [
      "/Users/yehudaschein/opt/anaconda3/lib/python3.7/site-packages/statsmodels/base/model.py:568: ConvergenceWarning: Maximum Likelihood optimization failed to converge. Check mle_retvals\n",
      "  ConvergenceWarning)\n"
     ]
    },
    {
     "name": "stdout",
     "output_type": "stream",
     "text": [
      "pdq         (0, 1, 1)\n",
      "pdqs    (0, 1, 1, 12)\n",
      "aic           4553.92\n",
      "Name: 27, dtype: object\n"
     ]
    }
   ],
   "source": [
    "# Define the p, d and q parameters to take any value between 0 and 2\n",
    "p = d = q = range(0, 2)\n",
    "\n",
    "# Generate all different combinations of p, q and q triplets\n",
    "pdq = list(itertools.product(p, d, q))\n",
    "\n",
    "# Generate all different combinations of seasonal p, q and q triplets\n",
    "pdqs = [(x[0], x[1], x[2], 12) for x in list(itertools.product(p, d, q))]\n",
    "# Run a grid with pdq and seasonal pdq parameters calculated above and get the best AIC value\n",
    "ans = []\n",
    "for comb in pdq:\n",
    "    for combs in pdqs:\n",
    "        try:\n",
    "            mod = SARIMAX(df_month,\n",
    "                                            order=comb,\n",
    "                                            seasonal_order=combs,\n",
    "                                            enforce_stationarity=False,\n",
    "                                            enforce_invertibility=False)\n",
    "\n",
    "            output = mod.fit()\n",
    "            ans.append([comb, combs, output.aic])\n",
    "            # print('ARIMA {} x {}12 : AIC Calculated ={}'.format(comb, combs, output.aic))\n",
    "        except:\n",
    "            continue\n",
    "\n",
    "# Find the parameters with minimal AIC value\n",
    "ans_df = pd.DataFrame(ans, columns=['pdq', 'pdqs', 'aic'])\n",
    "print(ans_df.loc[ans_df['aic'].idxmin()])\n"
   ]
  },
  {
   "cell_type": "code",
   "execution_count": 39,
   "metadata": {},
   "outputs": [
    {
     "name": "stdout",
     "output_type": "stream",
     "text": [
      "Month = 1-2019, predicted = $1919503.91, expected = $1613703.00\n",
      "Month = 2-2019, predicted = $1563190.53, expected = $1515574.75\n",
      "Month = 3-2019, predicted = $1703486.40, expected = $1721354.40\n",
      "Month = 4-2019, predicted = $1975354.51, expected = $2055993.75\n",
      "Month = 5-2019, predicted = $1681120.69, expected = $1652713.50\n",
      "Month = 6-2019, predicted = $1925262.24, expected = $1916287.40\n",
      "Month = 7-2019, predicted = $1966156.82, expected = $1871582.50\n",
      "Month = 8-2019, predicted = $1765031.64, expected = $1650545.38\n",
      "Month = 9-2019, predicted = $1361959.62, expected = $1399544.40\n",
      "Month = 10-2019, predicted = $1582387.58, expected = $1577894.88\n",
      "Month = 11-2019, predicted = $1711753.54, expected = $1490854.12\n",
      "Month = 12-2019, predicted = $2016728.24, expected = $2354405.60\n",
      "Test RMSE: $155402.08\n"
     ]
    },
    {
     "data": {
      "image/png": "[encoded data removed]",
      "text/plain": [
       "<Figure size 432x288 with 1 Axes>"
      ]
     },
     "metadata": {
      "needs_background": "light"
     },
     "output_type": "display_data"
    }
   ],
   "source": [
    "sarima(test_start, test_end, 0,1,1,0,1,1,12)"
   ]
  },
  {
   "cell_type": "markdown",
   "metadata": {},
   "source": [
    "#### SARIMAX Model (with exogenous variables)"
   ]
  },
  {
   "cell_type": "code",
   "execution_count": 40,
   "metadata": {},
   "outputs": [],
   "source": [
    "# Create a new df for the exog variables \n",
    "df_month_exog = df_month.copy()\n",
    "\n",
    "df_month_exog.reset_index(inplace=True)\n",
    "# add month as an exog variable\n",
    "df_month_exog['month'] = pd.DatetimeIndex(df_month_exog['date']).month\n",
    "df_month_exog.set_index('date', inplace=True)\n",
    "\n",
    "# add season as an exog variable \n",
    "df_month_exog['season'] = ' '\n",
    "df_month_exog['season'] = np.where((df_month_exog['month'] == 1) | \n",
    "                        (df_month_exog['month'] == 2) | \n",
    "                        (df_month_exog['month'] == 3), \n",
    "                        'Winter', df_month_exog['season'])\n",
    "df_month_exog['season'] = np.where((df_month_exog['month'] == 4) | \n",
    "                        (df_month_exog['month'] == 5) | \n",
    "                        (df_month_exog['month'] == 6), \n",
    "                        'Spring', df_month_exog['season'])\n",
    "df_month_exog['season'] = np.where((df_month_exog['month'] == 7) | \n",
    "                        (df_month_exog['month'] == 8) | \n",
    "                        (df_month_exog['month'] == 9), \n",
    "                        'Summer', df_month_exog['season'])\n",
    "df_month_exog['season'] = np.where((df_month_exog['month'] == 10) | \n",
    "                        (df_month_exog['month'] == 11) | \n",
    "                        (df_month_exog['month'] == 12), \n",
    "                        'Fall', df_month_exog['season'])\n",
    "\n",
    "## add whether or not there is a holiday in the month\n",
    "df_month_exog['holiday'] = ' '\n",
    "df_month_exog['holiday'] = np.where((df_month_exog['month'] == 1) | # New Years\n",
    "                                    (df_month_exog['month'] == 2) | # Presidents Week\n",
    "                                    (df_month_exog['month'] == 5) | # Memorial Day\n",
    "                                    (df_month_exog['month'] == 7) | # Independence Day\n",
    "                                    (df_month_exog['month'] == 9) | # Labor Day\n",
    "                                    (df_month_exog['month'] == 10) | # Halloween / Columbus Day\n",
    "                                    (df_month_exog['month'] == 11) | # Thanksgiving\n",
    "                                    (df_month_exog['month'] == 12), # Christmas\n",
    "                                    'Yes', df_month_exog['holiday'])\n",
    "\n",
    "## add whether or not its December / Christmas month\n",
    "df_month_exog['Xmas'] = ' '\n",
    "df_month_exog['Xmas'] = np.where((df_month_exog['month'] == 12), 'Yes', df_month_exog['Xmas'])\n",
    "\n",
    "## add whether or not it is Dec or Jan\n",
    "df_month_exog['big_holiday'] = ' '\n",
    "df_month_exog['big_holiday'] = np.where((df_month_exog['month'] == 1) | # New Years\n",
    "                                    (df_month_exog['month'] == 12), # Christmas\n",
    "                                    'Yes', df_month_exog['big_holiday'])\n",
    "\n",
    "# Create dummies\n",
    "dummies = ['season', 'month', 'holiday', 'big_holiday', 'Xmas']\n",
    "df_month_exog =  pd.get_dummies(df_month_exog, columns = dummies, drop_first = True )\n",
    "\n",
    "# Drop the target column\n",
    "df_month_exog.drop(columns=['gross'], inplace=True)\n",
    "# Change the data types of the rows from int to float\n",
    "for i in df_month_exog.columns:\n",
    "    df_month_exog[i] = df_month_exog[i].astype('float')"
   ]
  },
  {
   "cell_type": "code",
   "execution_count": 41,
   "metadata": {},
   "outputs": [
    {
     "name": "stderr",
     "output_type": "stream",
     "text": [
      "/Users/yehudaschein/opt/anaconda3/lib/python3.7/site-packages/statsmodels/tsa/base/tsa_model.py:527: ValueWarning: No frequency information was provided, so inferred frequency MS will be used.\n",
      "  % freq, ValueWarning)\n",
      "/Users/yehudaschein/opt/anaconda3/lib/python3.7/site-packages/statsmodels/tsa/base/tsa_model.py:527: ValueWarning: No frequency information was provided, so inferred frequency MS will be used.\n",
      "  % freq, ValueWarning)\n",
      "/Users/yehudaschein/opt/anaconda3/lib/python3.7/site-packages/statsmodels/tsa/base/tsa_model.py:527: ValueWarning: No frequency information was provided, so inferred frequency MS will be used.\n",
      "  % freq, ValueWarning)\n",
      "/Users/yehudaschein/opt/anaconda3/lib/python3.7/site-packages/statsmodels/tsa/base/tsa_model.py:527: ValueWarning: No frequency information was provided, so inferred frequency MS will be used.\n",
      "  % freq, ValueWarning)\n",
      "/Users/yehudaschein/opt/anaconda3/lib/python3.7/site-packages/statsmodels/tsa/base/tsa_model.py:527: ValueWarning: No frequency information was provided, so inferred frequency MS will be used.\n",
      "  % freq, ValueWarning)\n",
      "/Users/yehudaschein/opt/anaconda3/lib/python3.7/site-packages/statsmodels/tsa/base/tsa_model.py:527: ValueWarning: No frequency information was provided, so inferred frequency MS will be used.\n",
      "  % freq, ValueWarning)\n",
      "/Users/yehudaschein/opt/anaconda3/lib/python3.7/site-packages/statsmodels/tsa/base/tsa_model.py:527: ValueWarning: No frequency information was provided, so inferred frequency MS will be used.\n",
      "  % freq, ValueWarning)\n",
      "/Users/yehudaschein/opt/anaconda3/lib/python3.7/site-packages/statsmodels/tsa/base/tsa_model.py:527: ValueWarning: No frequency information was provided, so inferred frequency MS will be used.\n",
      "  % freq, ValueWarning)\n",
      "/Users/yehudaschein/opt/anaconda3/lib/python3.7/site-packages/statsmodels/tsa/base/tsa_model.py:527: ValueWarning: No frequency information was provided, so inferred frequency MS will be used.\n",
      "  % freq, ValueWarning)\n",
      "/Users/yehudaschein/opt/anaconda3/lib/python3.7/site-packages/statsmodels/tsa/base/tsa_model.py:527: ValueWarning: No frequency information was provided, so inferred frequency MS will be used.\n",
      "  % freq, ValueWarning)\n",
      "/Users/yehudaschein/opt/anaconda3/lib/python3.7/site-packages/statsmodels/tsa/base/tsa_model.py:527: ValueWarning: No frequency information was provided, so inferred frequency MS will be used.\n",
      "  % freq, ValueWarning)\n",
      "/Users/yehudaschein/opt/anaconda3/lib/python3.7/site-packages/statsmodels/tsa/base/tsa_model.py:527: ValueWarning: No frequency information was provided, so inferred frequency MS will be used.\n",
      "  % freq, ValueWarning)\n",
      "/Users/yehudaschein/opt/anaconda3/lib/python3.7/site-packages/statsmodels/tsa/base/tsa_model.py:527: ValueWarning: No frequency information was provided, so inferred frequency MS will be used.\n",
      "  % freq, ValueWarning)\n",
      "/Users/yehudaschein/opt/anaconda3/lib/python3.7/site-packages/statsmodels/tsa/base/tsa_model.py:527: ValueWarning: No frequency information was provided, so inferred frequency MS will be used.\n",
      "  % freq, ValueWarning)\n",
      "/Users/yehudaschein/opt/anaconda3/lib/python3.7/site-packages/statsmodels/tsa/base/tsa_model.py:527: ValueWarning: No frequency information was provided, so inferred frequency MS will be used.\n",
      "  % freq, ValueWarning)\n",
      "/Users/yehudaschein/opt/anaconda3/lib/python3.7/site-packages/statsmodels/tsa/base/tsa_model.py:527: ValueWarning: No frequency information was provided, so inferred frequency MS will be used.\n",
      "  % freq, ValueWarning)\n"
     ]
    },
    {
     "data": {
      "text/html": [
       "<div>\n",
       "<style scoped>\n",
       "    .dataframe tbody tr th:only-of-type {\n",
       "        vertical-align: middle;\n",
       "    }\n",
       "\n",
       "    .dataframe tbody tr th {\n",
       "        vertical-align: top;\n",
       "    }\n",
       "\n",
       "    .dataframe thead th {\n",
       "        text-align: right;\n",
       "    }\n",
       "</style>\n",
       "<table border=\"1\" class=\"dataframe\">\n",
       "  <thead>\n",
       "    <tr style=\"text-align: right;\">\n",
       "      <th></th>\n",
       "      <th>RMSE</th>\n",
       "    </tr>\n",
       "    <tr>\n",
       "      <th>Models</th>\n",
       "      <th></th>\n",
       "    </tr>\n",
       "  </thead>\n",
       "  <tbody>\n",
       "    <tr>\n",
       "      <th>Baseline</th>\n",
       "      <td>123771.935653</td>\n",
       "    </tr>\n",
       "    <tr>\n",
       "      <th>(SARIMAX , (1, 0, 0, 1, 0, 0, 12))</th>\n",
       "      <td>151163.713832</td>\n",
       "    </tr>\n",
       "    <tr>\n",
       "      <th>(SARIMA FROM GS, (0, 1, 1, 0, 1, 1, 12))</th>\n",
       "      <td>155402.081310</td>\n",
       "    </tr>\n",
       "    <tr>\n",
       "      <th>(SARIMAX , (0, 0, 1, 0, 0, 1, 12))</th>\n",
       "      <td>158358.103284</td>\n",
       "    </tr>\n",
       "    <tr>\n",
       "      <th>(SARIMAX , (2, 0, 0, 2, 0, 0, 12))</th>\n",
       "      <td>166900.151509</td>\n",
       "    </tr>\n",
       "    <tr>\n",
       "      <th>(SARIMAX , (0, 1, 0, 0, 1, 0, 12))</th>\n",
       "      <td>169982.944238</td>\n",
       "    </tr>\n",
       "    <tr>\n",
       "      <th>(SARIMAX , (2, 0, 1, 2, 0, 1, 12))</th>\n",
       "      <td>170650.019336</td>\n",
       "    </tr>\n",
       "    <tr>\n",
       "      <th>(SARIMAX , (1, 0, 1, 1, 0, 1, 12))</th>\n",
       "      <td>174402.580102</td>\n",
       "    </tr>\n",
       "    <tr>\n",
       "      <th>(SARIMAX , (1, 1, 0, 1, 1, 0, 12))</th>\n",
       "      <td>242160.367488</td>\n",
       "    </tr>\n",
       "    <tr>\n",
       "      <th>(SARIMAX , (2, 1, 0, 2, 1, 0, 12))</th>\n",
       "      <td>263539.620293</td>\n",
       "    </tr>\n",
       "  </tbody>\n",
       "</table>\n",
       "</div>"
      ],
      "text/plain": [
       "                                                   RMSE\n",
       "Models                                                 \n",
       "Baseline                                  123771.935653\n",
       "(SARIMAX , (1, 0, 0, 1, 0, 0, 12))        151163.713832\n",
       "(SARIMA FROM GS, (0, 1, 1, 0, 1, 1, 12))  155402.081310\n",
       "(SARIMAX , (0, 0, 1, 0, 0, 1, 12))        158358.103284\n",
       "(SARIMAX , (2, 0, 0, 2, 0, 0, 12))        166900.151509\n",
       "(SARIMAX , (0, 1, 0, 0, 1, 0, 12))        169982.944238\n",
       "(SARIMAX , (2, 0, 1, 2, 0, 1, 12))        170650.019336\n",
       "(SARIMAX , (1, 0, 1, 1, 0, 1, 12))        174402.580102\n",
       "(SARIMAX , (1, 1, 0, 1, 1, 0, 12))        242160.367488\n",
       "(SARIMAX , (2, 1, 0, 2, 1, 0, 12))        263539.620293"
      ]
     },
     "execution_count": 41,
     "metadata": {},
     "output_type": "execute_result"
    }
   ],
   "source": [
    "# Building all the sarimax models\n",
    "sarimax(test_start, test_end, 0,0,1, 0,0,1, 12)\n",
    "sarimax(test_start, test_end, 0,1,0, 0,1,0, 12)\n",
    "sarimax(test_start, test_end, 1,0,0, 1,0,0, 12)\n",
    "sarimax(test_start, test_end, 1,0,1, 1,0,1, 12)\n",
    "sarimax(test_start, test_end, 1,1,0, 1,1,0, 12)\n",
    "sarimax(test_start, test_end, 2,0,0, 2,0,0, 12)\n",
    "sarimax(test_start, test_end, 2,0,1, 2,0,1, 12)\n",
    "sarimax(test_start, test_end, 2,1,0, 2,1,0, 12)\n",
    "\n",
    "# Updating the list of all the models and their RMSE scores\n",
    "s = pd.DataFrame.from_dict(scores, orient='index',columns = ['RMSE'])\n",
    "s.index.name = 'Models'\n",
    "s.sort_values(by = 'RMSE')"
   ]
  },
  {
   "cell_type": "markdown",
   "metadata": {},
   "source": [
    "# 3. CHICAGO"
   ]
  },
  {
   "cell_type": "code",
   "execution_count": 42,
   "metadata": {},
   "outputs": [
    {
     "data": {
      "text/html": [
       "<div>\n",
       "<style scoped>\n",
       "    .dataframe tbody tr th:only-of-type {\n",
       "        vertical-align: middle;\n",
       "    }\n",
       "\n",
       "    .dataframe tbody tr th {\n",
       "        vertical-align: top;\n",
       "    }\n",
       "\n",
       "    .dataframe thead th {\n",
       "        text-align: right;\n",
       "    }\n",
       "</style>\n",
       "<table border=\"1\" class=\"dataframe\">\n",
       "  <thead>\n",
       "    <tr style=\"text-align: right;\">\n",
       "      <th></th>\n",
       "      <th>gross</th>\n",
       "    </tr>\n",
       "    <tr>\n",
       "      <th>date</th>\n",
       "      <th></th>\n",
       "    </tr>\n",
       "  </thead>\n",
       "  <tbody>\n",
       "    <tr>\n",
       "      <th>1996-10-01</th>\n",
       "      <td>281962.0</td>\n",
       "    </tr>\n",
       "    <tr>\n",
       "      <th>1996-11-01</th>\n",
       "      <td>457553.0</td>\n",
       "    </tr>\n",
       "    <tr>\n",
       "      <th>1996-12-01</th>\n",
       "      <td>624339.0</td>\n",
       "    </tr>\n",
       "    <tr>\n",
       "      <th>1997-01-01</th>\n",
       "      <td>645589.5</td>\n",
       "    </tr>\n",
       "    <tr>\n",
       "      <th>1997-02-01</th>\n",
       "      <td>574825.5</td>\n",
       "    </tr>\n",
       "  </tbody>\n",
       "</table>\n",
       "</div>"
      ],
      "text/plain": [
       "               gross\n",
       "date                \n",
       "1996-10-01  281962.0\n",
       "1996-11-01  457553.0\n",
       "1996-12-01  624339.0\n",
       "1997-01-01  645589.5\n",
       "1997-02-01  574825.5"
      ]
     },
     "execution_count": 42,
     "metadata": {},
     "output_type": "execute_result"
    }
   ],
   "source": [
    "# Read in the df\n",
    "df = pd.read_csv('gross.csv')\n",
    "# Only get the rows and columns that we want\n",
    "# Step 1: Only get the show Hamilton\n",
    "df = df[(df['show'] == 'Chicago')]\n",
    "# Step 2: Drop all columns except 'week_ending' and 'weekly_gross'\n",
    "df.drop(['week_number','weekly_gross_overall', 'show', 'theatre', 'potential_gross',\n",
    "          'avg_ticket_price', 'top_ticket_price', 'seats_sold', 'seats_in_theatre', \n",
    "          'pct_capacity', 'performances', 'previews'], axis=1, inplace = True) \n",
    "# Step 3: change name from 'week_ending' to 'date' AND 'weekly_gross' to just 'gross'\n",
    "df.rename(columns = {\"week_ending\": \"date\"}, inplace = True) \n",
    "df.rename(columns = {\"weekly_gross\": \"gross\"}, inplace = True)\n",
    "# Step 4: change date column to type 'datetime64[ns]'\n",
    "df['date'] = df['date'].astype('datetime64[ns]') \n",
    "# Step 5: set the df equal to df_month \n",
    "df_month = df\n",
    "# Step 6: make date the index\n",
    "df.set_index('date', inplace=True)\n",
    "# Step 8: Downsampling to a month\n",
    "df_month = df.resample('MS').mean()\n",
    "#Step 9: Look at the final table\n",
    "df_month.head()"
   ]
  },
  {
   "cell_type": "code",
   "execution_count": 43,
   "metadata": {},
   "outputs": [],
   "source": [
    "# To show the scores of all the models throughout the notebook\n",
    "scores = {}\n",
    "# the test_start variable corresponds to the first date of the show, \n",
    "# which in this case means the beginning of our testing set\n",
    "test_start = '1996-10-01'\n",
    "test_end = '2018-12-01'"
   ]
  },
  {
   "cell_type": "markdown",
   "metadata": {},
   "source": [
    "#### Baseline Model - AR"
   ]
  },
  {
   "cell_type": "code",
   "execution_count": 44,
   "metadata": {},
   "outputs": [
    {
     "name": "stdout",
     "output_type": "stream",
     "text": [
      "Test RMSE: $71260.02\n"
     ]
    },
    {
     "data": {
      "image/png": "[encoded data removed]",
      "text/plain": [
       "<Figure size 432x288 with 1 Axes>"
      ]
     },
     "metadata": {
      "needs_background": "light"
     },
     "output_type": "display_data"
    }
   ],
   "source": [
    "baseline()"
   ]
  },
  {
   "cell_type": "markdown",
   "metadata": {},
   "source": [
    "#### SARIMA Models - Parameter Selection"
   ]
  },
  {
   "cell_type": "code",
   "execution_count": 45,
   "metadata": {},
   "outputs": [
    {
     "data": {
      "text/plain": [
       "pdq         (0, 1, 1)\n",
       "pdqs    (0, 1, 1, 12)\n",
       "aic           6355.75\n",
       "Name: 27, dtype: object"
      ]
     },
     "execution_count": 45,
     "metadata": {},
     "output_type": "execute_result"
    }
   ],
   "source": [
    "# Define the p, d and q parameters to take any value between 0 and 2\n",
    "p = d = q = range(0, 2)\n",
    "\n",
    "# Generate all different combinations of p, q and q triplets\n",
    "pdq = list(itertools.product(p, d, q))\n",
    "\n",
    "# Generate all different combinations of seasonal p, q and q triplets\n",
    "pdqs = [(x[0], x[1], x[2], 12) for x in list(itertools.product(p, d, q))]\n",
    "# Run a grid with pdq and seasonal pdq parameters calculated above and get the best AIC value\n",
    "ans = []\n",
    "for comb in pdq:\n",
    "    for combs in pdqs:\n",
    "        try:\n",
    "            mod = SARIMAX(df_month,\n",
    "                                            order=comb,\n",
    "                                            seasonal_order=combs,\n",
    "                                            enforce_stationarity=False,\n",
    "                                            enforce_invertibility=False)\n",
    "\n",
    "            output = mod.fit()\n",
    "            ans.append([comb, combs, output.aic])\n",
    "            # print('ARIMA {} x {}12 : AIC Calculated ={}'.format(comb, combs, output.aic))\n",
    "        except:\n",
    "            continue\n",
    "\n",
    "# Find the parameters with minimal AIC value\n",
    "ans_df = pd.DataFrame(ans, columns=['pdq', 'pdqs', 'aic'])\n",
    "ans_df.loc[ans_df['aic'].idxmin()]"
   ]
  },
  {
   "cell_type": "code",
   "execution_count": 46,
   "metadata": {},
   "outputs": [
    {
     "name": "stdout",
     "output_type": "stream",
     "text": [
      "Month = 1-2019, predicted = $765968.55, expected = $594964.45\n",
      "Month = 2-2019, predicted = $559915.62, expected = $587888.46\n",
      "Month = 3-2019, predicted = $640926.38, expected = $576565.89\n",
      "Month = 4-2019, predicted = $659607.82, expected = $687358.57\n",
      "Month = 5-2019, predicted = $669891.48, expected = $686388.22\n",
      "Month = 6-2019, predicted = $638913.83, expected = $583623.83\n",
      "Month = 7-2019, predicted = $633565.88, expected = $652619.11\n",
      "Month = 8-2019, predicted = $637439.45, expected = $610023.22\n",
      "Month = 9-2019, predicted = $612819.71, expected = $634324.75\n",
      "Month = 10-2019, predicted = $670548.12, expected = $691853.22\n",
      "Month = 11-2019, predicted = $617243.53, expected = $561584.91\n",
      "Month = 12-2019, predicted = $635697.25, expected = $738242.88\n",
      "Test RMSE: $67026.69\n"
     ]
    },
    {
     "data": {
      "image/png": "[encoded data removed]",
      "text/plain": [
       "<Figure size 432x288 with 1 Axes>"
      ]
     },
     "metadata": {
      "needs_background": "light"
     },
     "output_type": "display_data"
    }
   ],
   "source": [
    "sarima(test_start, test_end, 0,1,1,0,1,1,12)"
   ]
  },
  {
   "cell_type": "markdown",
   "metadata": {},
   "source": [
    "#### SARIMAX Model (with exogenous variables)"
   ]
  },
  {
   "cell_type": "code",
   "execution_count": 47,
   "metadata": {},
   "outputs": [
    {
     "name": "stderr",
     "output_type": "stream",
     "text": [
      "/Users/yehudaschein/opt/anaconda3/lib/python3.7/site-packages/statsmodels/tsa/base/tsa_model.py:527: ValueWarning: No frequency information was provided, so inferred frequency MS will be used.\n",
      "  % freq, ValueWarning)\n",
      "/Users/yehudaschein/opt/anaconda3/lib/python3.7/site-packages/statsmodels/tsa/base/tsa_model.py:527: ValueWarning: No frequency information was provided, so inferred frequency MS will be used.\n",
      "  % freq, ValueWarning)\n",
      "/Users/yehudaschein/opt/anaconda3/lib/python3.7/site-packages/statsmodels/tsa/base/tsa_model.py:527: ValueWarning: No frequency information was provided, so inferred frequency MS will be used.\n",
      "  % freq, ValueWarning)\n",
      "/Users/yehudaschein/opt/anaconda3/lib/python3.7/site-packages/statsmodels/tsa/base/tsa_model.py:527: ValueWarning: No frequency information was provided, so inferred frequency MS will be used.\n",
      "  % freq, ValueWarning)\n",
      "/Users/yehudaschein/opt/anaconda3/lib/python3.7/site-packages/statsmodels/tsa/base/tsa_model.py:527: ValueWarning: No frequency information was provided, so inferred frequency MS will be used.\n",
      "  % freq, ValueWarning)\n",
      "/Users/yehudaschein/opt/anaconda3/lib/python3.7/site-packages/statsmodels/tsa/base/tsa_model.py:527: ValueWarning: No frequency information was provided, so inferred frequency MS will be used.\n",
      "  % freq, ValueWarning)\n",
      "/Users/yehudaschein/opt/anaconda3/lib/python3.7/site-packages/statsmodels/tsa/base/tsa_model.py:527: ValueWarning: No frequency information was provided, so inferred frequency MS will be used.\n",
      "  % freq, ValueWarning)\n",
      "/Users/yehudaschein/opt/anaconda3/lib/python3.7/site-packages/statsmodels/tsa/base/tsa_model.py:527: ValueWarning: No frequency information was provided, so inferred frequency MS will be used.\n",
      "  % freq, ValueWarning)\n",
      "/Users/yehudaschein/opt/anaconda3/lib/python3.7/site-packages/statsmodels/tsa/base/tsa_model.py:527: ValueWarning: No frequency information was provided, so inferred frequency MS will be used.\n",
      "  % freq, ValueWarning)\n",
      "/Users/yehudaschein/opt/anaconda3/lib/python3.7/site-packages/statsmodels/tsa/base/tsa_model.py:527: ValueWarning: No frequency information was provided, so inferred frequency MS will be used.\n",
      "  % freq, ValueWarning)\n",
      "/Users/yehudaschein/opt/anaconda3/lib/python3.7/site-packages/statsmodels/tsa/base/tsa_model.py:527: ValueWarning: No frequency information was provided, so inferred frequency MS will be used.\n",
      "  % freq, ValueWarning)\n",
      "/Users/yehudaschein/opt/anaconda3/lib/python3.7/site-packages/statsmodels/tsa/base/tsa_model.py:527: ValueWarning: No frequency information was provided, so inferred frequency MS will be used.\n",
      "  % freq, ValueWarning)\n",
      "/Users/yehudaschein/opt/anaconda3/lib/python3.7/site-packages/statsmodels/tsa/base/tsa_model.py:527: ValueWarning: No frequency information was provided, so inferred frequency MS will be used.\n",
      "  % freq, ValueWarning)\n",
      "/Users/yehudaschein/opt/anaconda3/lib/python3.7/site-packages/statsmodels/tsa/base/tsa_model.py:527: ValueWarning: No frequency information was provided, so inferred frequency MS will be used.\n",
      "  % freq, ValueWarning)\n",
      "/Users/yehudaschein/opt/anaconda3/lib/python3.7/site-packages/statsmodels/tsa/base/tsa_model.py:527: ValueWarning: No frequency information was provided, so inferred frequency MS will be used.\n",
      "  % freq, ValueWarning)\n",
      "/Users/yehudaschein/opt/anaconda3/lib/python3.7/site-packages/statsmodels/tsa/base/tsa_model.py:527: ValueWarning: No frequency information was provided, so inferred frequency MS will be used.\n",
      "  % freq, ValueWarning)\n"
     ]
    },
    {
     "data": {
      "text/html": [
       "<div>\n",
       "<style scoped>\n",
       "    .dataframe tbody tr th:only-of-type {\n",
       "        vertical-align: middle;\n",
       "    }\n",
       "\n",
       "    .dataframe tbody tr th {\n",
       "        vertical-align: top;\n",
       "    }\n",
       "\n",
       "    .dataframe thead th {\n",
       "        text-align: right;\n",
       "    }\n",
       "</style>\n",
       "<table border=\"1\" class=\"dataframe\">\n",
       "  <thead>\n",
       "    <tr style=\"text-align: right;\">\n",
       "      <th></th>\n",
       "      <th>RMSE</th>\n",
       "    </tr>\n",
       "    <tr>\n",
       "      <th>Models</th>\n",
       "      <th></th>\n",
       "    </tr>\n",
       "  </thead>\n",
       "  <tbody>\n",
       "    <tr>\n",
       "      <th>(SARIMAX , (2, 0, 1, 2, 0, 1, 12))</th>\n",
       "      <td>52902.121497</td>\n",
       "    </tr>\n",
       "    <tr>\n",
       "      <th>(SARIMAX , (1, 0, 1, 1, 0, 1, 12))</th>\n",
       "      <td>53370.834403</td>\n",
       "    </tr>\n",
       "    <tr>\n",
       "      <th>(SARIMAX , (2, 0, 0, 2, 0, 0, 12))</th>\n",
       "      <td>54720.990970</td>\n",
       "    </tr>\n",
       "    <tr>\n",
       "      <th>(SARIMAX , (1, 0, 0, 1, 0, 0, 12))</th>\n",
       "      <td>57591.486389</td>\n",
       "    </tr>\n",
       "    <tr>\n",
       "      <th>(SARIMAX , (0, 0, 1, 0, 0, 1, 12))</th>\n",
       "      <td>60214.781012</td>\n",
       "    </tr>\n",
       "    <tr>\n",
       "      <th>(SARIMA FROM GS, (0, 1, 1, 0, 1, 1, 12))</th>\n",
       "      <td>67026.687173</td>\n",
       "    </tr>\n",
       "    <tr>\n",
       "      <th>Baseline</th>\n",
       "      <td>71260.024723</td>\n",
       "    </tr>\n",
       "    <tr>\n",
       "      <th>(SARIMAX , (0, 1, 0, 0, 1, 0, 12))</th>\n",
       "      <td>89501.026099</td>\n",
       "    </tr>\n",
       "    <tr>\n",
       "      <th>(SARIMAX , (1, 1, 0, 1, 1, 0, 12))</th>\n",
       "      <td>133786.559278</td>\n",
       "    </tr>\n",
       "    <tr>\n",
       "      <th>(SARIMAX , (2, 1, 0, 2, 1, 0, 12))</th>\n",
       "      <td>138201.159510</td>\n",
       "    </tr>\n",
       "  </tbody>\n",
       "</table>\n",
       "</div>"
      ],
      "text/plain": [
       "                                                   RMSE\n",
       "Models                                                 \n",
       "(SARIMAX , (2, 0, 1, 2, 0, 1, 12))         52902.121497\n",
       "(SARIMAX , (1, 0, 1, 1, 0, 1, 12))         53370.834403\n",
       "(SARIMAX , (2, 0, 0, 2, 0, 0, 12))         54720.990970\n",
       "(SARIMAX , (1, 0, 0, 1, 0, 0, 12))         57591.486389\n",
       "(SARIMAX , (0, 0, 1, 0, 0, 1, 12))         60214.781012\n",
       "(SARIMA FROM GS, (0, 1, 1, 0, 1, 1, 12))   67026.687173\n",
       "Baseline                                   71260.024723\n",
       "(SARIMAX , (0, 1, 0, 0, 1, 0, 12))         89501.026099\n",
       "(SARIMAX , (1, 1, 0, 1, 1, 0, 12))        133786.559278\n",
       "(SARIMAX , (2, 1, 0, 2, 1, 0, 12))        138201.159510"
      ]
     },
     "execution_count": 47,
     "metadata": {},
     "output_type": "execute_result"
    }
   ],
   "source": [
    "# Create a new df for the exog variables \n",
    "df_month_exog = df_month.copy()\n",
    "\n",
    "df_month_exog.reset_index(inplace=True)\n",
    "# add month as an exog variable\n",
    "df_month_exog['month'] = pd.DatetimeIndex(df_month_exog['date']).month\n",
    "df_month_exog.set_index('date', inplace=True)\n",
    "\n",
    "# add season as an exog variable \n",
    "df_month_exog['season'] = ' '\n",
    "df_month_exog['season'] = np.where((df_month_exog['month'] == 1) | \n",
    "                        (df_month_exog['month'] == 2) | \n",
    "                        (df_month_exog['month'] == 3), \n",
    "                        'Winter', df_month_exog['season'])\n",
    "df_month_exog['season'] = np.where((df_month_exog['month'] == 4) | \n",
    "                        (df_month_exog['month'] == 5) | \n",
    "                        (df_month_exog['month'] == 6), \n",
    "                        'Spring', df_month_exog['season'])\n",
    "df_month_exog['season'] = np.where((df_month_exog['month'] == 7) | \n",
    "                        (df_month_exog['month'] == 8) | \n",
    "                        (df_month_exog['month'] == 9), \n",
    "                        'Summer', df_month_exog['season'])\n",
    "df_month_exog['season'] = np.where((df_month_exog['month'] == 10) | \n",
    "                        (df_month_exog['month'] == 11) | \n",
    "                        (df_month_exog['month'] == 12), \n",
    "                        'Fall', df_month_exog['season'])\n",
    "\n",
    "## add whether or not there is a holiday in the month\n",
    "df_month_exog['holiday'] = ' '\n",
    "df_month_exog['holiday'] = np.where((df_month_exog['month'] == 1) | # New Years\n",
    "                                    (df_month_exog['month'] == 2) | # Presidents Week\n",
    "                                    (df_month_exog['month'] == 5) | # Memorial Day\n",
    "                                    (df_month_exog['month'] == 7) | # Independence Day\n",
    "                                    (df_month_exog['month'] == 9) | # Labor Day\n",
    "                                    (df_month_exog['month'] == 10) | # Halloween / Columbus Day\n",
    "                                    (df_month_exog['month'] == 11) | # Thanksgiving\n",
    "                                    (df_month_exog['month'] == 12), # Christmas\n",
    "                                    'Yes', df_month_exog['holiday'])\n",
    "\n",
    "## add whether or not its December / Christmas month\n",
    "df_month_exog['Xmas'] = ' '\n",
    "df_month_exog['Xmas'] = np.where((df_month_exog['month'] == 12), 'Yes', df_month_exog['Xmas'])\n",
    "\n",
    "## add whether or not it is Dec or Jan\n",
    "df_month_exog['big_holiday'] = ' '\n",
    "df_month_exog['big_holiday'] = np.where((df_month_exog['month'] == 1) | # New Years\n",
    "                                    (df_month_exog['month'] == 12), # Christmas\n",
    "                                    'Yes', df_month_exog['big_holiday'])\n",
    "\n",
    "# Create dummies\n",
    "dummies = ['season', 'month', 'holiday', 'big_holiday', 'Xmas']\n",
    "df_month_exog =  pd.get_dummies(df_month_exog, columns = dummies, drop_first = True )\n",
    "\n",
    "# Drop the target column\n",
    "df_month_exog.drop(columns=['gross'], inplace=True)\n",
    "# Change the data types of the rows from int to float\n",
    "for i in df_month_exog.columns:\n",
    "    df_month_exog[i] = df_month_exog[i].astype('float')\n",
    "    \n",
    "# Building all the sarimax models\n",
    "sarimax(test_start, test_end, 0,0,1, 0,0,1, 12)\n",
    "sarimax(test_start, test_end, 0,1,0, 0,1,0, 12)\n",
    "sarimax(test_start, test_end, 1,0,0, 1,0,0, 12)\n",
    "sarimax(test_start, test_end, 1,0,1, 1,0,1, 12)\n",
    "sarimax(test_start, test_end, 1,1,0, 1,1,0, 12)\n",
    "sarimax(test_start, test_end, 2,0,0, 2,0,0, 12)\n",
    "sarimax(test_start, test_end, 2,0,1, 2,0,1, 12)\n",
    "sarimax(test_start, test_end, 2,1,0, 2,1,0, 12)\n",
    "\n",
    "# Updating the list of all the models and their RMSE scores\n",
    "s = pd.DataFrame.from_dict(scores, orient='index',columns = ['RMSE'])\n",
    "s.index.name = 'Models'\n",
    "s.sort_values(by = 'RMSE')"
   ]
  },
  {
   "cell_type": "markdown",
   "metadata": {},
   "source": [
    "# 4. COME FROM AWAY"
   ]
  },
  {
   "cell_type": "code",
   "execution_count": 48,
   "metadata": {},
   "outputs": [
    {
     "data": {
      "text/html": [
       "<div>\n",
       "<style scoped>\n",
       "    .dataframe tbody tr th:only-of-type {\n",
       "        vertical-align: middle;\n",
       "    }\n",
       "\n",
       "    .dataframe tbody tr th {\n",
       "        vertical-align: top;\n",
       "    }\n",
       "\n",
       "    .dataframe thead th {\n",
       "        text-align: right;\n",
       "    }\n",
       "</style>\n",
       "<table border=\"1\" class=\"dataframe\">\n",
       "  <thead>\n",
       "    <tr style=\"text-align: right;\">\n",
       "      <th></th>\n",
       "      <th>gross</th>\n",
       "    </tr>\n",
       "    <tr>\n",
       "      <th>date</th>\n",
       "      <th></th>\n",
       "    </tr>\n",
       "  </thead>\n",
       "  <tbody>\n",
       "    <tr>\n",
       "      <th>2017-02-01</th>\n",
       "      <td>462098.390</td>\n",
       "    </tr>\n",
       "    <tr>\n",
       "      <th>2017-03-01</th>\n",
       "      <td>773699.355</td>\n",
       "    </tr>\n",
       "    <tr>\n",
       "      <th>2017-04-01</th>\n",
       "      <td>1038129.192</td>\n",
       "    </tr>\n",
       "    <tr>\n",
       "      <th>2017-05-01</th>\n",
       "      <td>1124317.520</td>\n",
       "    </tr>\n",
       "    <tr>\n",
       "      <th>2017-06-01</th>\n",
       "      <td>1189251.000</td>\n",
       "    </tr>\n",
       "  </tbody>\n",
       "</table>\n",
       "</div>"
      ],
      "text/plain": [
       "                  gross\n",
       "date                   \n",
       "2017-02-01   462098.390\n",
       "2017-03-01   773699.355\n",
       "2017-04-01  1038129.192\n",
       "2017-05-01  1124317.520\n",
       "2017-06-01  1189251.000"
      ]
     },
     "execution_count": 48,
     "metadata": {},
     "output_type": "execute_result"
    }
   ],
   "source": [
    "# Read in the df\n",
    "df = pd.read_csv('gross.csv')\n",
    "# Only get the rows and columns that we want\n",
    "# Step 1: Only get the show Hamilton\n",
    "df = df[(df['show'] == 'Come From Away')]\n",
    "# Step 2: Drop all columns except 'week_ending' and 'weekly_gross'\n",
    "df.drop(['week_number','weekly_gross_overall', 'show', 'theatre', 'potential_gross',\n",
    "          'avg_ticket_price', 'top_ticket_price', 'seats_sold', 'seats_in_theatre', \n",
    "          'pct_capacity', 'performances', 'previews'], axis=1, inplace = True) \n",
    "# Step 3: change name from 'week_ending' to 'date' AND 'weekly_gross' to just 'gross'\n",
    "df.rename(columns = {\"week_ending\": \"date\"}, inplace = True) \n",
    "df.rename(columns = {\"weekly_gross\": \"gross\"}, inplace = True)\n",
    "# Step 4: change date column to type 'datetime64[ns]'\n",
    "df['date'] = df['date'].astype('datetime64[ns]') \n",
    "# Step 5: set the df equal to df_month \n",
    "df_month = df\n",
    "# Step 6: make date the index\n",
    "df.set_index('date', inplace=True)\n",
    "# Step 8: Downsampling to a month\n",
    "df_month = df.resample('MS').mean()\n",
    "#Step 9: Look at the final table\n",
    "df_month.head()"
   ]
  },
  {
   "cell_type": "code",
   "execution_count": 49,
   "metadata": {},
   "outputs": [],
   "source": [
    "# To show the scores of all the models throughout the notebook\n",
    "scores = {}\n",
    "# the test_start variable corresponds to the first date of the show, \n",
    "# which in this case means the beginning of our testing set\n",
    "test_start = '2017-02-01'\n",
    "test_end = '2018-12-01'"
   ]
  },
  {
   "cell_type": "markdown",
   "metadata": {},
   "source": [
    "#### Baseline Model - AR"
   ]
  },
  {
   "cell_type": "code",
   "execution_count": 50,
   "metadata": {},
   "outputs": [
    {
     "name": "stdout",
     "output_type": "stream",
     "text": [
      "Test RMSE: $206663.01\n"
     ]
    },
    {
     "data": {
      "image/png": "[encoded data removed]",
      "text/plain": [
       "<Figure size 432x288 with 1 Axes>"
      ]
     },
     "metadata": {
      "needs_background": "light"
     },
     "output_type": "display_data"
    }
   ],
   "source": [
    "baseline()"
   ]
  },
  {
   "cell_type": "markdown",
   "metadata": {},
   "source": [
    "#### SARIMA Models - Parameter Selection"
   ]
  },
  {
   "cell_type": "code",
   "execution_count": 51,
   "metadata": {},
   "outputs": [
    {
     "name": "stderr",
     "output_type": "stream",
     "text": [
      "/Users/yehudaschein/opt/anaconda3/lib/python3.7/site-packages/statsmodels/base/model.py:568: ConvergenceWarning: Maximum Likelihood optimization failed to converge. Check mle_retvals\n",
      "  ConvergenceWarning)\n",
      "/Users/yehudaschein/opt/anaconda3/lib/python3.7/site-packages/statsmodels/base/model.py:568: ConvergenceWarning: Maximum Likelihood optimization failed to converge. Check mle_retvals\n",
      "  ConvergenceWarning)\n",
      "/Users/yehudaschein/opt/anaconda3/lib/python3.7/site-packages/statsmodels/base/model.py:568: ConvergenceWarning: Maximum Likelihood optimization failed to converge. Check mle_retvals\n",
      "  ConvergenceWarning)\n"
     ]
    },
    {
     "data": {
      "text/plain": [
       "pdq         (0, 1, 1)\n",
       "pdqs    (0, 1, 1, 12)\n",
       "aic           274.238\n",
       "Name: 27, dtype: object"
      ]
     },
     "execution_count": 51,
     "metadata": {},
     "output_type": "execute_result"
    }
   ],
   "source": [
    "# Define the p, d and q parameters to take any value between 0 and 2\n",
    "p = d = q = range(0, 2)\n",
    "\n",
    "# Generate all different combinations of p, q and q triplets\n",
    "pdq = list(itertools.product(p, d, q))\n",
    "\n",
    "# Generate all different combinations of seasonal p, q and q triplets\n",
    "pdqs = [(x[0], x[1], x[2], 12) for x in list(itertools.product(p, d, q))]\n",
    "# Run a grid with pdq and seasonal pdq parameters calculated above and get the best AIC value\n",
    "ans = []\n",
    "for comb in pdq:\n",
    "    for combs in pdqs:\n",
    "        try:\n",
    "            mod = SARIMAX(df_month,\n",
    "                                            order=comb,\n",
    "                                            seasonal_order=combs,\n",
    "                                            enforce_stationarity=False,\n",
    "                                            enforce_invertibility=False)\n",
    "\n",
    "            output = mod.fit()\n",
    "            ans.append([comb, combs, output.aic])\n",
    "            # print('ARIMA {} x {}12 : AIC Calculated ={}'.format(comb, combs, output.aic))\n",
    "        except:\n",
    "            continue\n",
    "\n",
    "# Find the parameters with minimal AIC value\n",
    "ans_df = pd.DataFrame(ans, columns=['pdq', 'pdqs', 'aic'])\n",
    "ans_df.loc[ans_df['aic'].idxmin()]"
   ]
  },
  {
   "cell_type": "code",
   "execution_count": 52,
   "metadata": {},
   "outputs": [
    {
     "name": "stdout",
     "output_type": "stream",
     "text": [
      "Month = 1-2019, predicted = $1170786.96, expected = $1019326.11\n",
      "Month = 2-2019, predicted = $1093379.17, expected = $952740.35\n",
      "Month = 3-2019, predicted = $938960.95, expected = $957920.35\n",
      "Month = 4-2019, predicted = $1087994.08, expected = $1009673.88\n",
      "Month = 5-2019, predicted = $939874.57, expected = $966733.00\n",
      "Month = 6-2019, predicted = $977619.10, expected = $939564.96\n",
      "Month = 7-2019, predicted = $868497.08, expected = $863120.77\n",
      "Month = 8-2019, predicted = $846138.99, expected = $872615.47\n",
      "Month = 9-2019, predicted = $887747.19, expected = $935094.28\n",
      "Month = 10-2019, predicted = $1008564.53, expected = $1012763.62\n",
      "Month = 11-2019, predicted = $1026056.82, expected = $969717.41\n",
      "Month = 12-2019, predicted = $1031128.84, expected = $1164357.58\n",
      "Test RMSE: $79212.79\n"
     ]
    },
    {
     "data": {
      "image/png": "[encoded data removed]",
      "text/plain": [
       "<Figure size 432x288 with 1 Axes>"
      ]
     },
     "metadata": {
      "needs_background": "light"
     },
     "output_type": "display_data"
    }
   ],
   "source": [
    "sarima(test_start, test_end, 0,1,1,0,1,1,12)"
   ]
  },
  {
   "cell_type": "markdown",
   "metadata": {},
   "source": [
    "#### SARIMAX Model (with exogenous variables)"
   ]
  },
  {
   "cell_type": "code",
   "execution_count": 53,
   "metadata": {
    "scrolled": true
   },
   "outputs": [
    {
     "name": "stderr",
     "output_type": "stream",
     "text": [
      "/Users/yehudaschein/opt/anaconda3/lib/python3.7/site-packages/statsmodels/tsa/base/tsa_model.py:527: ValueWarning: No frequency information was provided, so inferred frequency MS will be used.\n",
      "  % freq, ValueWarning)\n",
      "/Users/yehudaschein/opt/anaconda3/lib/python3.7/site-packages/statsmodels/tsa/base/tsa_model.py:527: ValueWarning: No frequency information was provided, so inferred frequency MS will be used.\n",
      "  % freq, ValueWarning)\n",
      "/Users/yehudaschein/opt/anaconda3/lib/python3.7/site-packages/statsmodels/tsa/base/tsa_model.py:527: ValueWarning: No frequency information was provided, so inferred frequency MS will be used.\n",
      "  % freq, ValueWarning)\n",
      "/Users/yehudaschein/opt/anaconda3/lib/python3.7/site-packages/statsmodels/tsa/base/tsa_model.py:527: ValueWarning: No frequency information was provided, so inferred frequency MS will be used.\n",
      "  % freq, ValueWarning)\n",
      "/Users/yehudaschein/opt/anaconda3/lib/python3.7/site-packages/statsmodels/tsa/base/tsa_model.py:527: ValueWarning: No frequency information was provided, so inferred frequency MS will be used.\n",
      "  % freq, ValueWarning)\n",
      "/Users/yehudaschein/opt/anaconda3/lib/python3.7/site-packages/statsmodels/tsa/base/tsa_model.py:527: ValueWarning: No frequency information was provided, so inferred frequency MS will be used.\n",
      "  % freq, ValueWarning)\n",
      "/Users/yehudaschein/opt/anaconda3/lib/python3.7/site-packages/statsmodels/tsa/base/tsa_model.py:527: ValueWarning: No frequency information was provided, so inferred frequency MS will be used.\n",
      "  % freq, ValueWarning)\n",
      "/Users/yehudaschein/opt/anaconda3/lib/python3.7/site-packages/statsmodels/tsa/base/tsa_model.py:527: ValueWarning: No frequency information was provided, so inferred frequency MS will be used.\n",
      "  % freq, ValueWarning)\n",
      "/Users/yehudaschein/opt/anaconda3/lib/python3.7/site-packages/statsmodels/tsa/base/tsa_model.py:527: ValueWarning: No frequency information was provided, so inferred frequency MS will be used.\n",
      "  % freq, ValueWarning)\n",
      "/Users/yehudaschein/opt/anaconda3/lib/python3.7/site-packages/statsmodels/tsa/base/tsa_model.py:527: ValueWarning: No frequency information was provided, so inferred frequency MS will be used.\n",
      "  % freq, ValueWarning)\n",
      "/Users/yehudaschein/opt/anaconda3/lib/python3.7/site-packages/statsmodels/tsa/base/tsa_model.py:527: ValueWarning: No frequency information was provided, so inferred frequency MS will be used.\n",
      "  % freq, ValueWarning)\n",
      "/Users/yehudaschein/opt/anaconda3/lib/python3.7/site-packages/statsmodels/tsa/base/tsa_model.py:527: ValueWarning: No frequency information was provided, so inferred frequency MS will be used.\n",
      "  % freq, ValueWarning)\n",
      "/Users/yehudaschein/opt/anaconda3/lib/python3.7/site-packages/statsmodels/tsa/base/tsa_model.py:527: ValueWarning: No frequency information was provided, so inferred frequency MS will be used.\n",
      "  % freq, ValueWarning)\n",
      "/Users/yehudaschein/opt/anaconda3/lib/python3.7/site-packages/statsmodels/tsa/base/tsa_model.py:527: ValueWarning: No frequency information was provided, so inferred frequency MS will be used.\n",
      "  % freq, ValueWarning)\n",
      "/Users/yehudaschein/opt/anaconda3/lib/python3.7/site-packages/statsmodels/tsa/base/tsa_model.py:527: ValueWarning: No frequency information was provided, so inferred frequency MS will be used.\n",
      "  % freq, ValueWarning)\n",
      "/Users/yehudaschein/opt/anaconda3/lib/python3.7/site-packages/statsmodels/tsa/base/tsa_model.py:527: ValueWarning: No frequency information was provided, so inferred frequency MS will be used.\n",
      "  % freq, ValueWarning)\n"
     ]
    },
    {
     "data": {
      "text/html": [
       "<div>\n",
       "<style scoped>\n",
       "    .dataframe tbody tr th:only-of-type {\n",
       "        vertical-align: middle;\n",
       "    }\n",
       "\n",
       "    .dataframe tbody tr th {\n",
       "        vertical-align: top;\n",
       "    }\n",
       "\n",
       "    .dataframe thead th {\n",
       "        text-align: right;\n",
       "    }\n",
       "</style>\n",
       "<table border=\"1\" class=\"dataframe\">\n",
       "  <thead>\n",
       "    <tr style=\"text-align: right;\">\n",
       "      <th></th>\n",
       "      <th>RMSE</th>\n",
       "    </tr>\n",
       "    <tr>\n",
       "      <th>Models</th>\n",
       "      <th></th>\n",
       "    </tr>\n",
       "  </thead>\n",
       "  <tbody>\n",
       "    <tr>\n",
       "      <th>(SARIMAX , (0, 1, 0, 0, 1, 0, 12))</th>\n",
       "      <td>59728.686756</td>\n",
       "    </tr>\n",
       "    <tr>\n",
       "      <th>(SARIMAX , (1, 1, 0, 1, 1, 0, 12))</th>\n",
       "      <td>71341.815742</td>\n",
       "    </tr>\n",
       "    <tr>\n",
       "      <th>(SARIMA FROM GS, (0, 1, 1, 0, 1, 1, 12))</th>\n",
       "      <td>79212.785945</td>\n",
       "    </tr>\n",
       "    <tr>\n",
       "      <th>Baseline</th>\n",
       "      <td>206663.014821</td>\n",
       "    </tr>\n",
       "    <tr>\n",
       "      <th>(SARIMAX , (0, 0, 1, 0, 0, 1, 12))</th>\n",
       "      <td>251004.501380</td>\n",
       "    </tr>\n",
       "    <tr>\n",
       "      <th>(SARIMAX , (1, 0, 1, 1, 0, 1, 12))</th>\n",
       "      <td>284600.243967</td>\n",
       "    </tr>\n",
       "    <tr>\n",
       "      <th>(SARIMAX , (2, 0, 1, 2, 0, 1, 12))</th>\n",
       "      <td>284770.798343</td>\n",
       "    </tr>\n",
       "    <tr>\n",
       "      <th>(SARIMAX , (2, 0, 0, 2, 0, 0, 12))</th>\n",
       "      <td>286949.885177</td>\n",
       "    </tr>\n",
       "    <tr>\n",
       "      <th>(SARIMAX , (1, 0, 0, 1, 0, 0, 12))</th>\n",
       "      <td>288458.782443</td>\n",
       "    </tr>\n",
       "    <tr>\n",
       "      <th>(SARIMAX , (2, 1, 0, 2, 1, 0, 12))</th>\n",
       "      <td>399871.289100</td>\n",
       "    </tr>\n",
       "  </tbody>\n",
       "</table>\n",
       "</div>"
      ],
      "text/plain": [
       "                                                   RMSE\n",
       "Models                                                 \n",
       "(SARIMAX , (0, 1, 0, 0, 1, 0, 12))         59728.686756\n",
       "(SARIMAX , (1, 1, 0, 1, 1, 0, 12))         71341.815742\n",
       "(SARIMA FROM GS, (0, 1, 1, 0, 1, 1, 12))   79212.785945\n",
       "Baseline                                  206663.014821\n",
       "(SARIMAX , (0, 0, 1, 0, 0, 1, 12))        251004.501380\n",
       "(SARIMAX , (1, 0, 1, 1, 0, 1, 12))        284600.243967\n",
       "(SARIMAX , (2, 0, 1, 2, 0, 1, 12))        284770.798343\n",
       "(SARIMAX , (2, 0, 0, 2, 0, 0, 12))        286949.885177\n",
       "(SARIMAX , (1, 0, 0, 1, 0, 0, 12))        288458.782443\n",
       "(SARIMAX , (2, 1, 0, 2, 1, 0, 12))        399871.289100"
      ]
     },
     "execution_count": 53,
     "metadata": {},
     "output_type": "execute_result"
    }
   ],
   "source": [
    "# Create a new df for the exog variables \n",
    "df_month_exog = df_month.copy()\n",
    "\n",
    "df_month_exog.reset_index(inplace=True)\n",
    "# add month as an exog variable\n",
    "df_month_exog['month'] = pd.DatetimeIndex(df_month_exog['date']).month\n",
    "df_month_exog.set_index('date', inplace=True)\n",
    "\n",
    "# add season as an exog variable \n",
    "df_month_exog['season'] = ' '\n",
    "df_month_exog['season'] = np.where((df_month_exog['month'] == 1) | \n",
    "                        (df_month_exog['month'] == 2) | \n",
    "                        (df_month_exog['month'] == 3), \n",
    "                        'Winter', df_month_exog['season'])\n",
    "df_month_exog['season'] = np.where((df_month_exog['month'] == 4) | \n",
    "                        (df_month_exog['month'] == 5) | \n",
    "                        (df_month_exog['month'] == 6), \n",
    "                        'Spring', df_month_exog['season'])\n",
    "df_month_exog['season'] = np.where((df_month_exog['month'] == 7) | \n",
    "                        (df_month_exog['month'] == 8) | \n",
    "                        (df_month_exog['month'] == 9), \n",
    "                        'Summer', df_month_exog['season'])\n",
    "df_month_exog['season'] = np.where((df_month_exog['month'] == 10) | \n",
    "                        (df_month_exog['month'] == 11) | \n",
    "                        (df_month_exog['month'] == 12), \n",
    "                        'Fall', df_month_exog['season'])\n",
    "\n",
    "## add whether or not there is a holiday in the month\n",
    "df_month_exog['holiday'] = ' '\n",
    "df_month_exog['holiday'] = np.where((df_month_exog['month'] == 1) | # New Years\n",
    "                                    (df_month_exog['month'] == 2) | # Presidents Week\n",
    "                                    (df_month_exog['month'] == 5) | # Memorial Day\n",
    "                                    (df_month_exog['month'] == 7) | # Independence Day\n",
    "                                    (df_month_exog['month'] == 9) | # Labor Day\n",
    "                                    (df_month_exog['month'] == 10) | # Halloween / Columbus Day\n",
    "                                    (df_month_exog['month'] == 11) | # Thanksgiving\n",
    "                                    (df_month_exog['month'] == 12), # Christmas\n",
    "                                    'Yes', df_month_exog['holiday'])\n",
    "\n",
    "## add whether or not its December / Christmas month\n",
    "df_month_exog['Xmas'] = ' '\n",
    "df_month_exog['Xmas'] = np.where((df_month_exog['month'] == 12), 'Yes', df_month_exog['Xmas'])\n",
    "\n",
    "## add whether or not it is Dec or Jan\n",
    "df_month_exog['big_holiday'] = ' '\n",
    "df_month_exog['big_holiday'] = np.where((df_month_exog['month'] == 1) | # New Years\n",
    "                                    (df_month_exog['month'] == 12), # Christmas\n",
    "                                    'Yes', df_month_exog['big_holiday'])\n",
    "\n",
    "# Create dummies\n",
    "dummies = ['season', 'month', 'holiday', 'big_holiday', 'Xmas']\n",
    "df_month_exog =  pd.get_dummies(df_month_exog, columns = dummies, drop_first = True )\n",
    "\n",
    "# Drop the target column\n",
    "df_month_exog.drop(columns=['gross'], inplace=True)\n",
    "# Change the data types of the rows from int to float\n",
    "for i in df_month_exog.columns:\n",
    "    df_month_exog[i] = df_month_exog[i].astype('float')\n",
    "    \n",
    "# Building all the sarimax models\n",
    "sarimax(test_start, test_end, 0,0,1, 0,0,1, 12)\n",
    "sarimax(test_start, test_end, 0,1,0, 0,1,0, 12)\n",
    "sarimax(test_start, test_end, 1,0,0, 1,0,0, 12)\n",
    "sarimax(test_start, test_end, 1,0,1, 1,0,1, 12)\n",
    "sarimax(test_start, test_end, 1,1,0, 1,1,0, 12)\n",
    "sarimax(test_start, test_end, 2,0,0, 2,0,0, 12)\n",
    "sarimax(test_start, test_end, 2,0,1, 2,0,1, 12)\n",
    "sarimax(test_start, test_end, 2,1,0, 2,1,0, 12)\n",
    "\n",
    "# Updating the list of all the models and their RMSE scores\n",
    "s = pd.DataFrame.from_dict(scores, orient='index',columns = ['RMSE'])\n",
    "s.index.name = 'Models'\n",
    "s.sort_values(by = 'RMSE')"
   ]
  },
  {
   "cell_type": "markdown",
   "metadata": {},
   "source": [
    "# 5. DEAR EVAN HANSEN"
   ]
  },
  {
   "cell_type": "code",
   "execution_count": 54,
   "metadata": {},
   "outputs": [
    {
     "name": "stdout",
     "output_type": "stream",
     "text": [
      "BASELINE\n",
      "Test RMSE: $426118.03\n"
     ]
    },
    {
     "data": {
      "image/png": "[encoded data removed]",
      "text/plain": [
       "<Figure size 432x288 with 1 Axes>"
      ]
     },
     "metadata": {
      "needs_background": "light"
     },
     "output_type": "display_data"
    },
    {
     "name": "stderr",
     "output_type": "stream",
     "text": [
      "/Users/yehudaschein/opt/anaconda3/lib/python3.7/site-packages/statsmodels/base/model.py:568: ConvergenceWarning: Maximum Likelihood optimization failed to converge. Check mle_retvals\n",
      "  ConvergenceWarning)\n",
      "/Users/yehudaschein/opt/anaconda3/lib/python3.7/site-packages/statsmodels/base/model.py:568: ConvergenceWarning: Maximum Likelihood optimization failed to converge. Check mle_retvals\n",
      "  ConvergenceWarning)\n"
     ]
    },
    {
     "name": "stdout",
     "output_type": "stream",
     "text": [
      "pdq         (0, 1, 1)\n",
      "pdqs    (0, 1, 1, 12)\n",
      "aic           367.464\n",
      "Name: 27, dtype: object\n",
      "SARIMA\n",
      "Month = 1-2019, predicted = $1583849.25, expected = $1338941.95\n",
      "Month = 2-2019, predicted = $1339423.20, expected = $1253278.96\n",
      "Month = 3-2019, predicted = $1238555.43, expected = $1329651.57\n",
      "Month = 4-2019, predicted = $1383369.83, expected = $1361376.36\n",
      "Month = 5-2019, predicted = $1351295.27, expected = $1211200.61\n",
      "Month = 6-2019, predicted = $1217186.90, expected = $1268352.20\n",
      "Month = 7-2019, predicted = $1331337.12, expected = $1183591.90\n",
      "Month = 8-2019, predicted = $1166608.35, expected = $1190880.71\n",
      "Month = 9-2019, predicted = $1068517.07, expected = $1028441.96\n",
      "Month = 10-2019, predicted = $1074885.25, expected = $1080759.72\n",
      "Month = 11-2019, predicted = $1143223.08, expected = $1013825.10\n",
      "Month = 12-2019, predicted = $1075503.16, expected = $1284465.36\n",
      "Test RMSE: $123455.25\n"
     ]
    },
    {
     "data": {
      "image/png": "[encoded data removed]",
      "text/plain": [
       "<Figure size 432x288 with 1 Axes>"
      ]
     },
     "metadata": {
      "needs_background": "light"
     },
     "output_type": "display_data"
    },
    {
     "name": "stdout",
     "output_type": "stream",
     "text": [
      "SARIMAX\n"
     ]
    },
    {
     "name": "stderr",
     "output_type": "stream",
     "text": [
      "/Users/yehudaschein/opt/anaconda3/lib/python3.7/site-packages/statsmodels/tsa/base/tsa_model.py:527: ValueWarning: No frequency information was provided, so inferred frequency MS will be used.\n",
      "  % freq, ValueWarning)\n",
      "/Users/yehudaschein/opt/anaconda3/lib/python3.7/site-packages/statsmodels/tsa/base/tsa_model.py:527: ValueWarning: No frequency information was provided, so inferred frequency MS will be used.\n",
      "  % freq, ValueWarning)\n",
      "/Users/yehudaschein/opt/anaconda3/lib/python3.7/site-packages/statsmodels/tsa/base/tsa_model.py:527: ValueWarning: No frequency information was provided, so inferred frequency MS will be used.\n",
      "  % freq, ValueWarning)\n",
      "/Users/yehudaschein/opt/anaconda3/lib/python3.7/site-packages/statsmodels/tsa/base/tsa_model.py:527: ValueWarning: No frequency information was provided, so inferred frequency MS will be used.\n",
      "  % freq, ValueWarning)\n",
      "/Users/yehudaschein/opt/anaconda3/lib/python3.7/site-packages/statsmodels/tsa/base/tsa_model.py:527: ValueWarning: No frequency information was provided, so inferred frequency MS will be used.\n",
      "  % freq, ValueWarning)\n",
      "/Users/yehudaschein/opt/anaconda3/lib/python3.7/site-packages/statsmodels/tsa/base/tsa_model.py:527: ValueWarning: No frequency information was provided, so inferred frequency MS will be used.\n",
      "  % freq, ValueWarning)\n",
      "/Users/yehudaschein/opt/anaconda3/lib/python3.7/site-packages/statsmodels/tsa/base/tsa_model.py:527: ValueWarning: No frequency information was provided, so inferred frequency MS will be used.\n",
      "  % freq, ValueWarning)\n",
      "/Users/yehudaschein/opt/anaconda3/lib/python3.7/site-packages/statsmodels/tsa/base/tsa_model.py:527: ValueWarning: No frequency information was provided, so inferred frequency MS will be used.\n",
      "  % freq, ValueWarning)\n",
      "/Users/yehudaschein/opt/anaconda3/lib/python3.7/site-packages/statsmodels/tsa/base/tsa_model.py:527: ValueWarning: No frequency information was provided, so inferred frequency MS will be used.\n",
      "  % freq, ValueWarning)\n",
      "/Users/yehudaschein/opt/anaconda3/lib/python3.7/site-packages/statsmodels/tsa/base/tsa_model.py:527: ValueWarning: No frequency information was provided, so inferred frequency MS will be used.\n",
      "  % freq, ValueWarning)\n",
      "/Users/yehudaschein/opt/anaconda3/lib/python3.7/site-packages/statsmodels/tsa/base/tsa_model.py:527: ValueWarning: No frequency information was provided, so inferred frequency MS will be used.\n",
      "  % freq, ValueWarning)\n",
      "/Users/yehudaschein/opt/anaconda3/lib/python3.7/site-packages/statsmodels/tsa/base/tsa_model.py:527: ValueWarning: No frequency information was provided, so inferred frequency MS will be used.\n",
      "  % freq, ValueWarning)\n",
      "/Users/yehudaschein/opt/anaconda3/lib/python3.7/site-packages/statsmodels/tsa/base/tsa_model.py:527: ValueWarning: No frequency information was provided, so inferred frequency MS will be used.\n",
      "  % freq, ValueWarning)\n",
      "/Users/yehudaschein/opt/anaconda3/lib/python3.7/site-packages/statsmodels/tsa/base/tsa_model.py:527: ValueWarning: No frequency information was provided, so inferred frequency MS will be used.\n",
      "  % freq, ValueWarning)\n",
      "/Users/yehudaschein/opt/anaconda3/lib/python3.7/site-packages/statsmodels/tsa/base/tsa_model.py:527: ValueWarning: No frequency information was provided, so inferred frequency MS will be used.\n",
      "  % freq, ValueWarning)\n",
      "/Users/yehudaschein/opt/anaconda3/lib/python3.7/site-packages/statsmodels/tsa/base/tsa_model.py:527: ValueWarning: No frequency information was provided, so inferred frequency MS will be used.\n",
      "  % freq, ValueWarning)\n"
     ]
    },
    {
     "name": "stdout",
     "output_type": "stream",
     "text": [
      "Final Table\n"
     ]
    },
    {
     "data": {
      "text/html": [
       "<div>\n",
       "<style scoped>\n",
       "    .dataframe tbody tr th:only-of-type {\n",
       "        vertical-align: middle;\n",
       "    }\n",
       "\n",
       "    .dataframe tbody tr th {\n",
       "        vertical-align: top;\n",
       "    }\n",
       "\n",
       "    .dataframe thead th {\n",
       "        text-align: right;\n",
       "    }\n",
       "</style>\n",
       "<table border=\"1\" class=\"dataframe\">\n",
       "  <thead>\n",
       "    <tr style=\"text-align: right;\">\n",
       "      <th></th>\n",
       "      <th>RMSE</th>\n",
       "    </tr>\n",
       "    <tr>\n",
       "      <th>Models</th>\n",
       "      <th></th>\n",
       "    </tr>\n",
       "  </thead>\n",
       "  <tbody>\n",
       "    <tr>\n",
       "      <th>(SARIMA FROM GS, (0, 1, 1, 0, 1, 1, 12))</th>\n",
       "      <td>123455.254264</td>\n",
       "    </tr>\n",
       "    <tr>\n",
       "      <th>(SARIMAX , (0, 1, 0, 0, 1, 0, 12))</th>\n",
       "      <td>167693.827608</td>\n",
       "    </tr>\n",
       "    <tr>\n",
       "      <th>(SARIMAX , (2, 0, 1, 2, 0, 1, 12))</th>\n",
       "      <td>288102.453505</td>\n",
       "    </tr>\n",
       "    <tr>\n",
       "      <th>(SARIMAX , (0, 0, 1, 0, 0, 1, 12))</th>\n",
       "      <td>314338.163452</td>\n",
       "    </tr>\n",
       "    <tr>\n",
       "      <th>(SARIMAX , (2, 1, 0, 2, 1, 0, 12))</th>\n",
       "      <td>318913.680156</td>\n",
       "    </tr>\n",
       "    <tr>\n",
       "      <th>(SARIMAX , (2, 0, 0, 2, 0, 0, 12))</th>\n",
       "      <td>328189.622234</td>\n",
       "    </tr>\n",
       "    <tr>\n",
       "      <th>(SARIMAX , (1, 1, 0, 1, 1, 0, 12))</th>\n",
       "      <td>343792.515605</td>\n",
       "    </tr>\n",
       "    <tr>\n",
       "      <th>(SARIMAX , (1, 0, 1, 1, 0, 1, 12))</th>\n",
       "      <td>409163.037243</td>\n",
       "    </tr>\n",
       "    <tr>\n",
       "      <th>(SARIMAX , (1, 0, 0, 1, 0, 0, 12))</th>\n",
       "      <td>422509.732816</td>\n",
       "    </tr>\n",
       "    <tr>\n",
       "      <th>Baseline</th>\n",
       "      <td>426118.025433</td>\n",
       "    </tr>\n",
       "  </tbody>\n",
       "</table>\n",
       "</div>"
      ],
      "text/plain": [
       "                                                   RMSE\n",
       "Models                                                 \n",
       "(SARIMA FROM GS, (0, 1, 1, 0, 1, 1, 12))  123455.254264\n",
       "(SARIMAX , (0, 1, 0, 0, 1, 0, 12))        167693.827608\n",
       "(SARIMAX , (2, 0, 1, 2, 0, 1, 12))        288102.453505\n",
       "(SARIMAX , (0, 0, 1, 0, 0, 1, 12))        314338.163452\n",
       "(SARIMAX , (2, 1, 0, 2, 1, 0, 12))        318913.680156\n",
       "(SARIMAX , (2, 0, 0, 2, 0, 0, 12))        328189.622234\n",
       "(SARIMAX , (1, 1, 0, 1, 1, 0, 12))        343792.515605\n",
       "(SARIMAX , (1, 0, 1, 1, 0, 1, 12))        409163.037243\n",
       "(SARIMAX , (1, 0, 0, 1, 0, 0, 12))        422509.732816\n",
       "Baseline                                  426118.025433"
      ]
     },
     "execution_count": 54,
     "metadata": {},
     "output_type": "execute_result"
    }
   ],
   "source": [
    "# Read in the df\n",
    "df = pd.read_csv('gross.csv')\n",
    "# Only get the rows and columns that we want\n",
    "# Step 1: Only get the show Hamilton\n",
    "df = df[(df['show'] == 'Dear Evan Hansen')]\n",
    "# Step 2: Drop all columns except 'week_ending' and 'weekly_gross'\n",
    "df.drop(['week_number','weekly_gross_overall', 'show', 'theatre', 'potential_gross',\n",
    "          'avg_ticket_price', 'top_ticket_price', 'seats_sold', 'seats_in_theatre', \n",
    "          'pct_capacity', 'performances', 'previews'], axis=1, inplace = True) \n",
    "# Step 3: change name from 'week_ending' to 'date' AND 'weekly_gross' to just 'gross'\n",
    "df.rename(columns = {\"week_ending\": \"date\"}, inplace = True) \n",
    "df.rename(columns = {\"weekly_gross\": \"gross\"}, inplace = True)\n",
    "# Step 4: change date column to type 'datetime64[ns]'\n",
    "df['date'] = df['date'].astype('datetime64[ns]') \n",
    "# Step 5: set the df equal to df_month \n",
    "df_month = df\n",
    "# Step 6: make date the index\n",
    "df.set_index('date', inplace=True)\n",
    "# Step 8: Downsampling to a month\n",
    "df_month = df.resample('MS').mean()\n",
    "#Step 9: Look at the final table\n",
    "df_month.head()\n",
    "\n",
    "# To show the scores of all the models throughout the notebook\n",
    "scores = {}\n",
    "# the test_start variable corresponds to the first date of the show, \n",
    "# which in this case means the beginning of our testing set\n",
    "test_start = '2016-11-01'\n",
    "test_end = '2018-12-01'\n",
    "\n",
    "#### Baseline Model - AR\n",
    "\n",
    "print('BASELINE')\n",
    "baseline()\n",
    "\n",
    "#### SARIMA Models - Parameter Selection\n",
    "\n",
    "# Define the p, d and q parameters to take any value between 0 and 2\n",
    "p = d = q = range(0, 2)\n",
    "\n",
    "# Generate all different combinations of p, q and q triplets\n",
    "pdq = list(itertools.product(p, d, q))\n",
    "\n",
    "# Generate all different combinations of seasonal p, q and q triplets\n",
    "pdqs = [(x[0], x[1], x[2], 12) for x in list(itertools.product(p, d, q))]\n",
    "# Run a grid with pdq and seasonal pdq parameters calculated above and get the best AIC value\n",
    "ans = []\n",
    "for comb in pdq:\n",
    "    for combs in pdqs:\n",
    "        try:\n",
    "            mod = SARIMAX(df_month,\n",
    "                                            order=comb,\n",
    "                                            seasonal_order=combs,\n",
    "                                            enforce_stationarity=False,\n",
    "                                            enforce_invertibility=False)\n",
    "\n",
    "            output = mod.fit()\n",
    "            ans.append([comb, combs, output.aic])\n",
    "            # print('ARIMA {} x {}12 : AIC Calculated ={}'.format(comb, combs, output.aic))\n",
    "        except:\n",
    "            continue\n",
    "\n",
    "# Find the parameters with minimal AIC value\n",
    "ans_df = pd.DataFrame(ans, columns=['pdq', 'pdqs', 'aic'])\n",
    "print(ans_df.loc[ans_df['aic'].idxmin()])\n",
    "\n",
    "print('SARIMA')\n",
    "sarima(test_start, test_end, 0,1,1,0,1,1,12)\n",
    "\n",
    "#### SARIMAX Model (with exogenous variables)\n",
    "\n",
    "# Create a new df for the exog variables \n",
    "df_month_exog = df_month.copy()\n",
    "\n",
    "df_month_exog.reset_index(inplace=True)\n",
    "# add month as an exog variable\n",
    "df_month_exog['month'] = pd.DatetimeIndex(df_month_exog['date']).month\n",
    "df_month_exog.set_index('date', inplace=True)\n",
    "\n",
    "# add season as an exog variable \n",
    "df_month_exog['season'] = ' '\n",
    "df_month_exog['season'] = np.where((df_month_exog['month'] == 1) | \n",
    "                        (df_month_exog['month'] == 2) | \n",
    "                        (df_month_exog['month'] == 3), \n",
    "                        'Winter', df_month_exog['season'])\n",
    "df_month_exog['season'] = np.where((df_month_exog['month'] == 4) | \n",
    "                        (df_month_exog['month'] == 5) | \n",
    "                        (df_month_exog['month'] == 6), \n",
    "                        'Spring', df_month_exog['season'])\n",
    "df_month_exog['season'] = np.where((df_month_exog['month'] == 7) | \n",
    "                        (df_month_exog['month'] == 8) | \n",
    "                        (df_month_exog['month'] == 9), \n",
    "                        'Summer', df_month_exog['season'])\n",
    "df_month_exog['season'] = np.where((df_month_exog['month'] == 10) | \n",
    "                        (df_month_exog['month'] == 11) | \n",
    "                        (df_month_exog['month'] == 12), \n",
    "                        'Fall', df_month_exog['season'])\n",
    "\n",
    "## add whether or not there is a holiday in the month\n",
    "df_month_exog['holiday'] = ' '\n",
    "df_month_exog['holiday'] = np.where((df_month_exog['month'] == 1) | # New Years\n",
    "                                    (df_month_exog['month'] == 2) | # Presidents Week\n",
    "                                    (df_month_exog['month'] == 5) | # Memorial Day\n",
    "                                    (df_month_exog['month'] == 7) | # Independence Day\n",
    "                                    (df_month_exog['month'] == 9) | # Labor Day\n",
    "                                    (df_month_exog['month'] == 10) | # Halloween / Columbus Day\n",
    "                                    (df_month_exog['month'] == 11) | # Thanksgiving\n",
    "                                    (df_month_exog['month'] == 12), # Christmas\n",
    "                                    'Yes', df_month_exog['holiday'])\n",
    "\n",
    "## add whether or not its December / Christmas month\n",
    "df_month_exog['Xmas'] = ' '\n",
    "df_month_exog['Xmas'] = np.where((df_month_exog['month'] == 12), 'Yes', df_month_exog['Xmas'])\n",
    "\n",
    "## add whether or not it is Dec or Jan\n",
    "df_month_exog['big_holiday'] = ' '\n",
    "df_month_exog['big_holiday'] = np.where((df_month_exog['month'] == 1) | # New Years\n",
    "                                    (df_month_exog['month'] == 12), # Christmas\n",
    "                                    'Yes', df_month_exog['big_holiday'])\n",
    "\n",
    "# Create dummies\n",
    "dummies = ['season', 'month', 'holiday', 'big_holiday', 'Xmas']\n",
    "df_month_exog =  pd.get_dummies(df_month_exog, columns = dummies, drop_first = True )\n",
    "\n",
    "# Drop the target column\n",
    "df_month_exog.drop(columns=['gross'], inplace=True)\n",
    "# Change the data types of the rows from int to float\n",
    "for i in df_month_exog.columns:\n",
    "    df_month_exog[i] = df_month_exog[i].astype('float')\n",
    "    \n",
    "# Building all the sarimax models\n",
    "print('SARIMAX')\n",
    "sarimax(test_start, test_end, 0,0,1, 0,0,1, 12)\n",
    "sarimax(test_start, test_end, 0,1,0, 0,1,0, 12)\n",
    "sarimax(test_start, test_end, 1,0,0, 1,0,0, 12)\n",
    "sarimax(test_start, test_end, 1,0,1, 1,0,1, 12)\n",
    "sarimax(test_start, test_end, 1,1,0, 1,1,0, 12)\n",
    "sarimax(test_start, test_end, 2,0,0, 2,0,0, 12)\n",
    "sarimax(test_start, test_end, 2,0,1, 2,0,1, 12)\n",
    "sarimax(test_start, test_end, 2,1,0, 2,1,0, 12)\n",
    "\n",
    "# Updating the list of all the models and their RMSE scores\n",
    "print('Final Table')\n",
    "s = pd.DataFrame.from_dict(scores, orient='index',columns = ['RMSE'])\n",
    "s.index.name = 'Models'\n",
    "s.sort_values(by = 'RMSE')"
   ]
  },
  {
   "cell_type": "markdown",
   "metadata": {},
   "source": [
    "# 6. Aladdin"
   ]
  },
  {
   "cell_type": "code",
   "execution_count": 55,
   "metadata": {},
   "outputs": [
    {
     "name": "stdout",
     "output_type": "stream",
     "text": [
      "BASELINE\n",
      "Test RMSE: $85402.15\n"
     ]
    },
    {
     "data": {
      "image/png": "[encoded data removed]",
      "text/plain": [
       "<Figure size 432x288 with 1 Axes>"
      ]
     },
     "metadata": {
      "needs_background": "light"
     },
     "output_type": "display_data"
    },
    {
     "name": "stdout",
     "output_type": "stream",
     "text": [
      "pdq         (0, 1, 1)\n",
      "pdqs    (0, 1, 1, 12)\n",
      "aic           1186.43\n",
      "Name: 27, dtype: object\n",
      "SARIMA\n",
      "Month = 1-2019, predicted = $1454207.23, expected = $1304325.98\n",
      "Month = 2-2019, predicted = $1203853.55, expected = $1231490.75\n",
      "Month = 3-2019, predicted = $1271556.73, expected = $1331743.82\n",
      "Month = 4-2019, predicted = $1579368.04, expected = $1631616.07\n",
      "Month = 5-2019, predicted = $1386284.62, expected = $1407280.15\n",
      "Month = 6-2019, predicted = $1511909.21, expected = $1532494.90\n",
      "Month = 7-2019, predicted = $1638233.17, expected = $1612229.25\n",
      "Month = 8-2019, predicted = $1532253.76, expected = $1534686.48\n",
      "Month = 9-2019, predicted = $1252360.34, expected = $1189089.30\n",
      "Month = 10-2019, predicted = $1303092.35, expected = $1300240.15\n",
      "Month = 11-2019, predicted = $1425524.87, expected = $1208703.10\n",
      "Month = 12-2019, predicted = $1503822.66, expected = $1732443.14\n",
      "Test RMSE: $105836.99\n"
     ]
    },
    {
     "data": {
      "image/png": "[encoded data removed]",
      "text/plain": [
       "<Figure size 432x288 with 1 Axes>"
      ]
     },
     "metadata": {
      "needs_background": "light"
     },
     "output_type": "display_data"
    },
    {
     "name": "stdout",
     "output_type": "stream",
     "text": [
      "SARIMAX\n"
     ]
    },
    {
     "name": "stderr",
     "output_type": "stream",
     "text": [
      "/Users/yehudaschein/opt/anaconda3/lib/python3.7/site-packages/statsmodels/tsa/base/tsa_model.py:527: ValueWarning: No frequency information was provided, so inferred frequency MS will be used.\n",
      "  % freq, ValueWarning)\n",
      "/Users/yehudaschein/opt/anaconda3/lib/python3.7/site-packages/statsmodels/tsa/base/tsa_model.py:527: ValueWarning: No frequency information was provided, so inferred frequency MS will be used.\n",
      "  % freq, ValueWarning)\n",
      "/Users/yehudaschein/opt/anaconda3/lib/python3.7/site-packages/statsmodels/tsa/base/tsa_model.py:527: ValueWarning: No frequency information was provided, so inferred frequency MS will be used.\n",
      "  % freq, ValueWarning)\n",
      "/Users/yehudaschein/opt/anaconda3/lib/python3.7/site-packages/statsmodels/tsa/base/tsa_model.py:527: ValueWarning: No frequency information was provided, so inferred frequency MS will be used.\n",
      "  % freq, ValueWarning)\n",
      "/Users/yehudaschein/opt/anaconda3/lib/python3.7/site-packages/statsmodels/tsa/base/tsa_model.py:527: ValueWarning: No frequency information was provided, so inferred frequency MS will be used.\n",
      "  % freq, ValueWarning)\n",
      "/Users/yehudaschein/opt/anaconda3/lib/python3.7/site-packages/statsmodels/tsa/base/tsa_model.py:527: ValueWarning: No frequency information was provided, so inferred frequency MS will be used.\n",
      "  % freq, ValueWarning)\n",
      "/Users/yehudaschein/opt/anaconda3/lib/python3.7/site-packages/statsmodels/tsa/base/tsa_model.py:527: ValueWarning: No frequency information was provided, so inferred frequency MS will be used.\n",
      "  % freq, ValueWarning)\n",
      "/Users/yehudaschein/opt/anaconda3/lib/python3.7/site-packages/statsmodels/tsa/base/tsa_model.py:527: ValueWarning: No frequency information was provided, so inferred frequency MS will be used.\n",
      "  % freq, ValueWarning)\n",
      "/Users/yehudaschein/opt/anaconda3/lib/python3.7/site-packages/statsmodels/base/model.py:568: ConvergenceWarning: Maximum Likelihood optimization failed to converge. Check mle_retvals\n",
      "  ConvergenceWarning)\n",
      "/Users/yehudaschein/opt/anaconda3/lib/python3.7/site-packages/statsmodels/tsa/base/tsa_model.py:527: ValueWarning: No frequency information was provided, so inferred frequency MS will be used.\n",
      "  % freq, ValueWarning)\n",
      "/Users/yehudaschein/opt/anaconda3/lib/python3.7/site-packages/statsmodels/tsa/base/tsa_model.py:527: ValueWarning: No frequency information was provided, so inferred frequency MS will be used.\n",
      "  % freq, ValueWarning)\n",
      "/Users/yehudaschein/opt/anaconda3/lib/python3.7/site-packages/statsmodels/tsa/base/tsa_model.py:527: ValueWarning: No frequency information was provided, so inferred frequency MS will be used.\n",
      "  % freq, ValueWarning)\n",
      "/Users/yehudaschein/opt/anaconda3/lib/python3.7/site-packages/statsmodels/tsa/base/tsa_model.py:527: ValueWarning: No frequency information was provided, so inferred frequency MS will be used.\n",
      "  % freq, ValueWarning)\n",
      "/Users/yehudaschein/opt/anaconda3/lib/python3.7/site-packages/statsmodels/tsa/base/tsa_model.py:527: ValueWarning: No frequency information was provided, so inferred frequency MS will be used.\n",
      "  % freq, ValueWarning)\n",
      "/Users/yehudaschein/opt/anaconda3/lib/python3.7/site-packages/statsmodels/tsa/base/tsa_model.py:527: ValueWarning: No frequency information was provided, so inferred frequency MS will be used.\n",
      "  % freq, ValueWarning)\n",
      "/Users/yehudaschein/opt/anaconda3/lib/python3.7/site-packages/statsmodels/tsa/base/tsa_model.py:527: ValueWarning: No frequency information was provided, so inferred frequency MS will be used.\n",
      "  % freq, ValueWarning)\n",
      "/Users/yehudaschein/opt/anaconda3/lib/python3.7/site-packages/statsmodels/tsa/base/tsa_model.py:527: ValueWarning: No frequency information was provided, so inferred frequency MS will be used.\n",
      "  % freq, ValueWarning)\n"
     ]
    },
    {
     "name": "stdout",
     "output_type": "stream",
     "text": [
      "Final Table\n"
     ]
    },
    {
     "data": {
      "text/html": [
       "<div>\n",
       "<style scoped>\n",
       "    .dataframe tbody tr th:only-of-type {\n",
       "        vertical-align: middle;\n",
       "    }\n",
       "\n",
       "    .dataframe tbody tr th {\n",
       "        vertical-align: top;\n",
       "    }\n",
       "\n",
       "    .dataframe thead th {\n",
       "        text-align: right;\n",
       "    }\n",
       "</style>\n",
       "<table border=\"1\" class=\"dataframe\">\n",
       "  <thead>\n",
       "    <tr style=\"text-align: right;\">\n",
       "      <th></th>\n",
       "      <th>RMSE</th>\n",
       "    </tr>\n",
       "    <tr>\n",
       "      <th>Models</th>\n",
       "      <th></th>\n",
       "    </tr>\n",
       "  </thead>\n",
       "  <tbody>\n",
       "    <tr>\n",
       "      <th>(SARIMAX , (1, 1, 0, 1, 1, 0, 12))</th>\n",
       "      <td>84380.357211</td>\n",
       "    </tr>\n",
       "    <tr>\n",
       "      <th>Baseline</th>\n",
       "      <td>85402.145557</td>\n",
       "    </tr>\n",
       "    <tr>\n",
       "      <th>(SARIMAX , (0, 1, 0, 0, 1, 0, 12))</th>\n",
       "      <td>86528.860883</td>\n",
       "    </tr>\n",
       "    <tr>\n",
       "      <th>(SARIMAX , (2, 1, 0, 2, 1, 0, 12))</th>\n",
       "      <td>91606.932934</td>\n",
       "    </tr>\n",
       "    <tr>\n",
       "      <th>(SARIMA FROM GS, (0, 1, 1, 0, 1, 1, 12))</th>\n",
       "      <td>105836.989449</td>\n",
       "    </tr>\n",
       "    <tr>\n",
       "      <th>(SARIMAX , (2, 0, 0, 2, 0, 0, 12))</th>\n",
       "      <td>132935.848687</td>\n",
       "    </tr>\n",
       "    <tr>\n",
       "      <th>(SARIMAX , (2, 0, 1, 2, 0, 1, 12))</th>\n",
       "      <td>136714.947187</td>\n",
       "    </tr>\n",
       "    <tr>\n",
       "      <th>(SARIMAX , (1, 0, 1, 1, 0, 1, 12))</th>\n",
       "      <td>138170.484636</td>\n",
       "    </tr>\n",
       "    <tr>\n",
       "      <th>(SARIMAX , (1, 0, 0, 1, 0, 0, 12))</th>\n",
       "      <td>141595.785782</td>\n",
       "    </tr>\n",
       "    <tr>\n",
       "      <th>(SARIMAX , (0, 0, 1, 0, 0, 1, 12))</th>\n",
       "      <td>180622.992608</td>\n",
       "    </tr>\n",
       "  </tbody>\n",
       "</table>\n",
       "</div>"
      ],
      "text/plain": [
       "                                                   RMSE\n",
       "Models                                                 \n",
       "(SARIMAX , (1, 1, 0, 1, 1, 0, 12))         84380.357211\n",
       "Baseline                                   85402.145557\n",
       "(SARIMAX , (0, 1, 0, 0, 1, 0, 12))         86528.860883\n",
       "(SARIMAX , (2, 1, 0, 2, 1, 0, 12))         91606.932934\n",
       "(SARIMA FROM GS, (0, 1, 1, 0, 1, 1, 12))  105836.989449\n",
       "(SARIMAX , (2, 0, 0, 2, 0, 0, 12))        132935.848687\n",
       "(SARIMAX , (2, 0, 1, 2, 0, 1, 12))        136714.947187\n",
       "(SARIMAX , (1, 0, 1, 1, 0, 1, 12))        138170.484636\n",
       "(SARIMAX , (1, 0, 0, 1, 0, 0, 12))        141595.785782\n",
       "(SARIMAX , (0, 0, 1, 0, 0, 1, 12))        180622.992608"
      ]
     },
     "execution_count": 55,
     "metadata": {},
     "output_type": "execute_result"
    }
   ],
   "source": [
    "# Read in the df\n",
    "df = pd.read_csv('gross.csv')\n",
    "# Only get the rows and columns that we want\n",
    "# Step 1: Only get the show Hamilton\n",
    "df = df[(df['show'] == 'Aladdin')]\n",
    "# Step 2: Drop all columns except 'week_ending' and 'weekly_gross'\n",
    "df.drop(['week_number','weekly_gross_overall', 'show', 'theatre', 'potential_gross',\n",
    "          'avg_ticket_price', 'top_ticket_price', 'seats_sold', 'seats_in_theatre', \n",
    "          'pct_capacity', 'performances', 'previews'], axis=1, inplace = True) \n",
    "# Step 3: change name from 'week_ending' to 'date' AND 'weekly_gross' to just 'gross'\n",
    "df.rename(columns = {\"week_ending\": \"date\"}, inplace = True) \n",
    "df.rename(columns = {\"weekly_gross\": \"gross\"}, inplace = True)\n",
    "# Step 4: change date column to type 'datetime64[ns]'\n",
    "df['date'] = df['date'].astype('datetime64[ns]') \n",
    "# Step 5: set the df equal to df_month \n",
    "df_month = df\n",
    "# Step 6: make date the index\n",
    "df.set_index('date', inplace=True)\n",
    "# Step 8: Downsampling to a month\n",
    "df_month = df.resample('MS').mean()\n",
    "#Step 9: Look at the final table\n",
    "df_month.head()\n",
    "\n",
    "# To show the scores of all the models throughout the notebook\n",
    "scores = {}\n",
    "# the test_start variable corresponds to the first date of the show, \n",
    "# which in this case means the beginning of our testing set\n",
    "test_start = '2014-03-01'\n",
    "test_end = '2018-12-01'\n",
    "\n",
    "#### Baseline Model - AR\n",
    "\n",
    "print('BASELINE')\n",
    "baseline()\n",
    "\n",
    "#### SARIMA Models - Parameter Selection\n",
    "\n",
    "# Define the p, d and q parameters to take any value between 0 and 2\n",
    "p = d = q = range(0, 2)\n",
    "\n",
    "# Generate all different combinations of p, q and q triplets\n",
    "pdq = list(itertools.product(p, d, q))\n",
    "\n",
    "# Generate all different combinations of seasonal p, q and q triplets\n",
    "pdqs = [(x[0], x[1], x[2], 12) for x in list(itertools.product(p, d, q))]\n",
    "# Run a grid with pdq and seasonal pdq parameters calculated above and get the best AIC value\n",
    "ans = []\n",
    "for comb in pdq:\n",
    "    for combs in pdqs:\n",
    "        try:\n",
    "            mod = SARIMAX(df_month,\n",
    "                                            order=comb,\n",
    "                                            seasonal_order=combs,\n",
    "                                            enforce_stationarity=False,\n",
    "                                            enforce_invertibility=False)\n",
    "\n",
    "            output = mod.fit()\n",
    "            ans.append([comb, combs, output.aic])\n",
    "            # print('ARIMA {} x {}12 : AIC Calculated ={}'.format(comb, combs, output.aic))\n",
    "        except:\n",
    "            continue\n",
    "\n",
    "# Find the parameters with minimal AIC value\n",
    "ans_df = pd.DataFrame(ans, columns=['pdq', 'pdqs', 'aic'])\n",
    "print(ans_df.loc[ans_df['aic'].idxmin()])\n",
    "\n",
    "print('SARIMA')\n",
    "sarima(test_start, test_end, 0,1,1,0,1,1,12)\n",
    "\n",
    "#### SARIMAX Model (with exogenous variables)\n",
    "\n",
    "# Create a new df for the exog variables \n",
    "df_month_exog = df_month.copy()\n",
    "\n",
    "df_month_exog.reset_index(inplace=True)\n",
    "# add month as an exog variable\n",
    "df_month_exog['month'] = pd.DatetimeIndex(df_month_exog['date']).month\n",
    "df_month_exog.set_index('date', inplace=True)\n",
    "\n",
    "# add season as an exog variable \n",
    "df_month_exog['season'] = ' '\n",
    "df_month_exog['season'] = np.where((df_month_exog['month'] == 1) | \n",
    "                        (df_month_exog['month'] == 2) | \n",
    "                        (df_month_exog['month'] == 3), \n",
    "                        'Winter', df_month_exog['season'])\n",
    "df_month_exog['season'] = np.where((df_month_exog['month'] == 4) | \n",
    "                        (df_month_exog['month'] == 5) | \n",
    "                        (df_month_exog['month'] == 6), \n",
    "                        'Spring', df_month_exog['season'])\n",
    "df_month_exog['season'] = np.where((df_month_exog['month'] == 7) | \n",
    "                        (df_month_exog['month'] == 8) | \n",
    "                        (df_month_exog['month'] == 9), \n",
    "                        'Summer', df_month_exog['season'])\n",
    "df_month_exog['season'] = np.where((df_month_exog['month'] == 10) | \n",
    "                        (df_month_exog['month'] == 11) | \n",
    "                        (df_month_exog['month'] == 12), \n",
    "                        'Fall', df_month_exog['season'])\n",
    "\n",
    "## add whether or not there is a holiday in the month\n",
    "df_month_exog['holiday'] = ' '\n",
    "df_month_exog['holiday'] = np.where((df_month_exog['month'] == 1) | # New Years\n",
    "                                    (df_month_exog['month'] == 2) | # Presidents Week\n",
    "                                    (df_month_exog['month'] == 5) | # Memorial Day\n",
    "                                    (df_month_exog['month'] == 7) | # Independence Day\n",
    "                                    (df_month_exog['month'] == 9) | # Labor Day\n",
    "                                    (df_month_exog['month'] == 10) | # Halloween / Columbus Day\n",
    "                                    (df_month_exog['month'] == 11) | # Thanksgiving\n",
    "                                    (df_month_exog['month'] == 12), # Christmas\n",
    "                                    'Yes', df_month_exog['holiday'])\n",
    "\n",
    "## add whether or not its December / Christmas month\n",
    "df_month_exog['Xmas'] = ' '\n",
    "df_month_exog['Xmas'] = np.where((df_month_exog['month'] == 12), 'Yes', df_month_exog['Xmas'])\n",
    "\n",
    "## add whether or not it is Dec or Jan\n",
    "df_month_exog['big_holiday'] = ' '\n",
    "df_month_exog['big_holiday'] = np.where((df_month_exog['month'] == 1) | # New Years\n",
    "                                    (df_month_exog['month'] == 12), # Christmas\n",
    "                                    'Yes', df_month_exog['big_holiday'])\n",
    "\n",
    "# Create dummies\n",
    "dummies = ['season', 'month', 'holiday', 'big_holiday', 'Xmas']\n",
    "df_month_exog =  pd.get_dummies(df_month_exog, columns = dummies, drop_first = True )\n",
    "\n",
    "# Drop the target column\n",
    "df_month_exog.drop(columns=['gross'], inplace=True)\n",
    "# Change the data types of the rows from int to float\n",
    "for i in df_month_exog.columns:\n",
    "    df_month_exog[i] = df_month_exog[i].astype('float')\n",
    "    \n",
    "# Building all the sarimax models\n",
    "print('SARIMAX')\n",
    "sarimax(test_start, test_end, 0,0,1, 0,0,1, 12)\n",
    "sarimax(test_start, test_end, 0,1,0, 0,1,0, 12)\n",
    "sarimax(test_start, test_end, 1,0,0, 1,0,0, 12)\n",
    "sarimax(test_start, test_end, 1,0,1, 1,0,1, 12)\n",
    "sarimax(test_start, test_end, 1,1,0, 1,1,0, 12)\n",
    "sarimax(test_start, test_end, 2,0,0, 2,0,0, 12)\n",
    "sarimax(test_start, test_end, 2,0,1, 2,0,1, 12)\n",
    "sarimax(test_start, test_end, 2,1,0, 2,1,0, 12)\n",
    "\n",
    "# Updating the list of all the models and their RMSE scores\n",
    "print('Final Table')\n",
    "s = pd.DataFrame.from_dict(scores, orient='index',columns = ['RMSE'])\n",
    "s.index.name = 'Models'\n",
    "s.sort_values(by = 'RMSE')"
   ]
  },
  {
   "cell_type": "markdown",
   "metadata": {},
   "source": [
    "# 7. BOOK OF MORMON"
   ]
  },
  {
   "cell_type": "code",
   "execution_count": 56,
   "metadata": {},
   "outputs": [
    {
     "name": "stdout",
     "output_type": "stream",
     "text": [
      "BASELINE\n",
      "Test RMSE: $104927.23\n"
     ]
    },
    {
     "data": {
      "image/png": "[encoded data removed]",
      "text/plain": [
       "<Figure size 432x288 with 1 Axes>"
      ]
     },
     "metadata": {
      "needs_background": "light"
     },
     "output_type": "display_data"
    },
    {
     "name": "stderr",
     "output_type": "stream",
     "text": [
      "/Users/yehudaschein/opt/anaconda3/lib/python3.7/site-packages/statsmodels/base/model.py:568: ConvergenceWarning: Maximum Likelihood optimization failed to converge. Check mle_retvals\n",
      "  ConvergenceWarning)\n"
     ]
    },
    {
     "name": "stdout",
     "output_type": "stream",
     "text": [
      "pdq         (0, 1, 1)\n",
      "pdqs    (0, 1, 1, 12)\n",
      "aic           2086.17\n",
      "Name: 27, dtype: object\n",
      "SARIMA\n",
      "Month = 1-2019, predicted = $1270997.43, expected = $1143404.50\n",
      "Month = 2-2019, predicted = $1013298.91, expected = $1036440.75\n",
      "Month = 3-2019, predicted = $1027061.48, expected = $1039559.62\n",
      "Month = 4-2019, predicted = $1058300.66, expected = $1054820.06\n",
      "Month = 5-2019, predicted = $1049504.90, expected = $1057300.77\n",
      "Month = 6-2019, predicted = $1046809.99, expected = $1027342.98\n",
      "Month = 7-2019, predicted = $1029146.50, expected = $1026020.39\n",
      "Month = 8-2019, predicted = $1006835.56, expected = $1052717.02\n",
      "Month = 9-2019, predicted = $1025743.05, expected = $1046529.84\n",
      "Month = 10-2019, predicted = $1102832.30, expected = $1103996.48\n",
      "Month = 11-2019, predicted = $1116309.33, expected = $1033475.57\n",
      "Month = 12-2019, predicted = $1224182.34, expected = $1322160.67\n",
      "Test RMSE: $55100.72\n"
     ]
    },
    {
     "data": {
      "image/png": "[encoded data removed]",
      "text/plain": [
       "<Figure size 432x288 with 1 Axes>"
      ]
     },
     "metadata": {
      "needs_background": "light"
     },
     "output_type": "display_data"
    },
    {
     "name": "stdout",
     "output_type": "stream",
     "text": [
      "SARIMAX\n"
     ]
    },
    {
     "name": "stderr",
     "output_type": "stream",
     "text": [
      "/Users/yehudaschein/opt/anaconda3/lib/python3.7/site-packages/statsmodels/tsa/base/tsa_model.py:527: ValueWarning: No frequency information was provided, so inferred frequency MS will be used.\n",
      "  % freq, ValueWarning)\n",
      "/Users/yehudaschein/opt/anaconda3/lib/python3.7/site-packages/statsmodels/tsa/base/tsa_model.py:527: ValueWarning: No frequency information was provided, so inferred frequency MS will be used.\n",
      "  % freq, ValueWarning)\n",
      "/Users/yehudaschein/opt/anaconda3/lib/python3.7/site-packages/statsmodels/tsa/base/tsa_model.py:527: ValueWarning: No frequency information was provided, so inferred frequency MS will be used.\n",
      "  % freq, ValueWarning)\n",
      "/Users/yehudaschein/opt/anaconda3/lib/python3.7/site-packages/statsmodels/tsa/base/tsa_model.py:527: ValueWarning: No frequency information was provided, so inferred frequency MS will be used.\n",
      "  % freq, ValueWarning)\n",
      "/Users/yehudaschein/opt/anaconda3/lib/python3.7/site-packages/statsmodels/tsa/base/tsa_model.py:527: ValueWarning: No frequency information was provided, so inferred frequency MS will be used.\n",
      "  % freq, ValueWarning)\n",
      "/Users/yehudaschein/opt/anaconda3/lib/python3.7/site-packages/statsmodels/tsa/base/tsa_model.py:527: ValueWarning: No frequency information was provided, so inferred frequency MS will be used.\n",
      "  % freq, ValueWarning)\n",
      "/Users/yehudaschein/opt/anaconda3/lib/python3.7/site-packages/statsmodels/tsa/base/tsa_model.py:527: ValueWarning: No frequency information was provided, so inferred frequency MS will be used.\n",
      "  % freq, ValueWarning)\n",
      "/Users/yehudaschein/opt/anaconda3/lib/python3.7/site-packages/statsmodels/tsa/base/tsa_model.py:527: ValueWarning: No frequency information was provided, so inferred frequency MS will be used.\n",
      "  % freq, ValueWarning)\n",
      "/Users/yehudaschein/opt/anaconda3/lib/python3.7/site-packages/statsmodels/tsa/base/tsa_model.py:527: ValueWarning: No frequency information was provided, so inferred frequency MS will be used.\n",
      "  % freq, ValueWarning)\n",
      "/Users/yehudaschein/opt/anaconda3/lib/python3.7/site-packages/statsmodels/tsa/base/tsa_model.py:527: ValueWarning: No frequency information was provided, so inferred frequency MS will be used.\n",
      "  % freq, ValueWarning)\n",
      "/Users/yehudaschein/opt/anaconda3/lib/python3.7/site-packages/statsmodels/tsa/base/tsa_model.py:527: ValueWarning: No frequency information was provided, so inferred frequency MS will be used.\n",
      "  % freq, ValueWarning)\n",
      "/Users/yehudaschein/opt/anaconda3/lib/python3.7/site-packages/statsmodels/tsa/base/tsa_model.py:527: ValueWarning: No frequency information was provided, so inferred frequency MS will be used.\n",
      "  % freq, ValueWarning)\n",
      "/Users/yehudaschein/opt/anaconda3/lib/python3.7/site-packages/statsmodels/tsa/base/tsa_model.py:527: ValueWarning: No frequency information was provided, so inferred frequency MS will be used.\n",
      "  % freq, ValueWarning)\n",
      "/Users/yehudaschein/opt/anaconda3/lib/python3.7/site-packages/statsmodels/tsa/base/tsa_model.py:527: ValueWarning: No frequency information was provided, so inferred frequency MS will be used.\n",
      "  % freq, ValueWarning)\n",
      "/Users/yehudaschein/opt/anaconda3/lib/python3.7/site-packages/statsmodels/tsa/base/tsa_model.py:527: ValueWarning: No frequency information was provided, so inferred frequency MS will be used.\n",
      "  % freq, ValueWarning)\n",
      "/Users/yehudaschein/opt/anaconda3/lib/python3.7/site-packages/statsmodels/tsa/base/tsa_model.py:527: ValueWarning: No frequency information was provided, so inferred frequency MS will be used.\n",
      "  % freq, ValueWarning)\n"
     ]
    },
    {
     "name": "stdout",
     "output_type": "stream",
     "text": [
      "Final Table\n"
     ]
    },
    {
     "data": {
      "text/html": [
       "<div>\n",
       "<style scoped>\n",
       "    .dataframe tbody tr th:only-of-type {\n",
       "        vertical-align: middle;\n",
       "    }\n",
       "\n",
       "    .dataframe tbody tr th {\n",
       "        vertical-align: top;\n",
       "    }\n",
       "\n",
       "    .dataframe thead th {\n",
       "        text-align: right;\n",
       "    }\n",
       "</style>\n",
       "<table border=\"1\" class=\"dataframe\">\n",
       "  <thead>\n",
       "    <tr style=\"text-align: right;\">\n",
       "      <th></th>\n",
       "      <th>RMSE</th>\n",
       "    </tr>\n",
       "    <tr>\n",
       "      <th>Models</th>\n",
       "      <th></th>\n",
       "    </tr>\n",
       "  </thead>\n",
       "  <tbody>\n",
       "    <tr>\n",
       "      <th>(SARIMAX , (0, 1, 0, 0, 1, 0, 12))</th>\n",
       "      <td>41813.036470</td>\n",
       "    </tr>\n",
       "    <tr>\n",
       "      <th>(SARIMA FROM GS, (0, 1, 1, 0, 1, 1, 12))</th>\n",
       "      <td>55100.717573</td>\n",
       "    </tr>\n",
       "    <tr>\n",
       "      <th>(SARIMAX , (2, 1, 0, 2, 1, 0, 12))</th>\n",
       "      <td>75721.443824</td>\n",
       "    </tr>\n",
       "    <tr>\n",
       "      <th>(SARIMAX , (1, 1, 0, 1, 1, 0, 12))</th>\n",
       "      <td>77537.104457</td>\n",
       "    </tr>\n",
       "    <tr>\n",
       "      <th>Baseline</th>\n",
       "      <td>104927.230921</td>\n",
       "    </tr>\n",
       "    <tr>\n",
       "      <th>(SARIMAX , (2, 0, 1, 2, 0, 1, 12))</th>\n",
       "      <td>113406.054776</td>\n",
       "    </tr>\n",
       "    <tr>\n",
       "      <th>(SARIMAX , (1, 0, 1, 1, 0, 1, 12))</th>\n",
       "      <td>127453.217167</td>\n",
       "    </tr>\n",
       "    <tr>\n",
       "      <th>(SARIMAX , (2, 0, 0, 2, 0, 0, 12))</th>\n",
       "      <td>128984.722008</td>\n",
       "    </tr>\n",
       "    <tr>\n",
       "      <th>(SARIMAX , (1, 0, 0, 1, 0, 0, 12))</th>\n",
       "      <td>153809.856014</td>\n",
       "    </tr>\n",
       "    <tr>\n",
       "      <th>(SARIMAX , (0, 0, 1, 0, 0, 1, 12))</th>\n",
       "      <td>259163.591434</td>\n",
       "    </tr>\n",
       "  </tbody>\n",
       "</table>\n",
       "</div>"
      ],
      "text/plain": [
       "                                                   RMSE\n",
       "Models                                                 \n",
       "(SARIMAX , (0, 1, 0, 0, 1, 0, 12))         41813.036470\n",
       "(SARIMA FROM GS, (0, 1, 1, 0, 1, 1, 12))   55100.717573\n",
       "(SARIMAX , (2, 1, 0, 2, 1, 0, 12))         75721.443824\n",
       "(SARIMAX , (1, 1, 0, 1, 1, 0, 12))         77537.104457\n",
       "Baseline                                  104927.230921\n",
       "(SARIMAX , (2, 0, 1, 2, 0, 1, 12))        113406.054776\n",
       "(SARIMAX , (1, 0, 1, 1, 0, 1, 12))        127453.217167\n",
       "(SARIMAX , (2, 0, 0, 2, 0, 0, 12))        128984.722008\n",
       "(SARIMAX , (1, 0, 0, 1, 0, 0, 12))        153809.856014\n",
       "(SARIMAX , (0, 0, 1, 0, 0, 1, 12))        259163.591434"
      ]
     },
     "execution_count": 56,
     "metadata": {},
     "output_type": "execute_result"
    }
   ],
   "source": [
    "# Read in the df\n",
    "df = pd.read_csv('gross.csv')\n",
    "# Only get the rows and columns that we want\n",
    "# Step 1: Only get the show Hamilton\n",
    "df = df[(df['show'] == 'The Book of Mormon')]\n",
    "# Step 2: Drop all columns except 'week_ending' and 'weekly_gross'\n",
    "df.drop(['week_number','weekly_gross_overall', 'show', 'theatre', 'potential_gross',\n",
    "          'avg_ticket_price', 'top_ticket_price', 'seats_sold', 'seats_in_theatre', \n",
    "          'pct_capacity', 'performances', 'previews'], axis=1, inplace = True) \n",
    "# Step 3: change name from 'week_ending' to 'date' AND 'weekly_gross' to just 'gross'\n",
    "df.rename(columns = {\"week_ending\": \"date\"}, inplace = True) \n",
    "df.rename(columns = {\"weekly_gross\": \"gross\"}, inplace = True)\n",
    "# Step 4: change date column to type 'datetime64[ns]'\n",
    "df['date'] = df['date'].astype('datetime64[ns]') \n",
    "# Step 5: set the df equal to df_month \n",
    "df_month = df\n",
    "# Step 6: make date the index\n",
    "df.set_index('date', inplace=True)\n",
    "# Step 8: Downsampling to a month\n",
    "df_month = df.resample('MS').mean()\n",
    "#Step 9: Look at the final table\n",
    "df_month.head()\n",
    "\n",
    "# To show the scores of all the models throughout the notebook\n",
    "scores = {}\n",
    "# the test_start variable corresponds to the first date of the show, \n",
    "# which in this case means the beginning of our testing set\n",
    "test_start = '2011-02-01'\n",
    "test_end = '2018-12-01'\n",
    "\n",
    "#### Baseline Model - AR\n",
    "\n",
    "print('BASELINE')\n",
    "baseline()\n",
    "\n",
    "#### SARIMA Models - Parameter Selection\n",
    "\n",
    "# Define the p, d and q parameters to take any value between 0 and 2\n",
    "p = d = q = range(0, 2)\n",
    "\n",
    "# Generate all different combinations of p, q and q triplets\n",
    "pdq = list(itertools.product(p, d, q))\n",
    "\n",
    "# Generate all different combinations of seasonal p, q and q triplets\n",
    "pdqs = [(x[0], x[1], x[2], 12) for x in list(itertools.product(p, d, q))]\n",
    "# Run a grid with pdq and seasonal pdq parameters calculated above and get the best AIC value\n",
    "ans = []\n",
    "for comb in pdq:\n",
    "    for combs in pdqs:\n",
    "        try:\n",
    "            mod = SARIMAX(df_month,\n",
    "                                            order=comb,\n",
    "                                            seasonal_order=combs,\n",
    "                                            enforce_stationarity=False,\n",
    "                                            enforce_invertibility=False)\n",
    "\n",
    "            output = mod.fit()\n",
    "            ans.append([comb, combs, output.aic])\n",
    "            # print('ARIMA {} x {}12 : AIC Calculated ={}'.format(comb, combs, output.aic))\n",
    "        except:\n",
    "            continue\n",
    "\n",
    "# Find the parameters with minimal AIC value\n",
    "ans_df = pd.DataFrame(ans, columns=['pdq', 'pdqs', 'aic'])\n",
    "print(ans_df.loc[ans_df['aic'].idxmin()])\n",
    "\n",
    "print('SARIMA')\n",
    "sarima(test_start, test_end, 0,1,1,0,1,1,12)\n",
    "\n",
    "#### SARIMAX Model (with exogenous variables)\n",
    "\n",
    "# Create a new df for the exog variables \n",
    "df_month_exog = df_month.copy()\n",
    "\n",
    "df_month_exog.reset_index(inplace=True)\n",
    "# add month as an exog variable\n",
    "df_month_exog['month'] = pd.DatetimeIndex(df_month_exog['date']).month\n",
    "df_month_exog.set_index('date', inplace=True)\n",
    "\n",
    "# add season as an exog variable \n",
    "df_month_exog['season'] = ' '\n",
    "df_month_exog['season'] = np.where((df_month_exog['month'] == 1) | \n",
    "                        (df_month_exog['month'] == 2) | \n",
    "                        (df_month_exog['month'] == 3), \n",
    "                        'Winter', df_month_exog['season'])\n",
    "df_month_exog['season'] = np.where((df_month_exog['month'] == 4) | \n",
    "                        (df_month_exog['month'] == 5) | \n",
    "                        (df_month_exog['month'] == 6), \n",
    "                        'Spring', df_month_exog['season'])\n",
    "df_month_exog['season'] = np.where((df_month_exog['month'] == 7) | \n",
    "                        (df_month_exog['month'] == 8) | \n",
    "                        (df_month_exog['month'] == 9), \n",
    "                        'Summer', df_month_exog['season'])\n",
    "df_month_exog['season'] = np.where((df_month_exog['month'] == 10) | \n",
    "                        (df_month_exog['month'] == 11) | \n",
    "                        (df_month_exog['month'] == 12), \n",
    "                        'Fall', df_month_exog['season'])\n",
    "\n",
    "## add whether or not there is a holiday in the month\n",
    "df_month_exog['holiday'] = ' '\n",
    "df_month_exog['holiday'] = np.where((df_month_exog['month'] == 1) | # New Years\n",
    "                                    (df_month_exog['month'] == 2) | # Presidents Week\n",
    "                                    (df_month_exog['month'] == 5) | # Memorial Day\n",
    "                                    (df_month_exog['month'] == 7) | # Independence Day\n",
    "                                    (df_month_exog['month'] == 9) | # Labor Day\n",
    "                                    (df_month_exog['month'] == 10) | # Halloween / Columbus Day\n",
    "                                    (df_month_exog['month'] == 11) | # Thanksgiving\n",
    "                                    (df_month_exog['month'] == 12), # Christmas\n",
    "                                    'Yes', df_month_exog['holiday'])\n",
    "\n",
    "## add whether or not its December / Christmas month\n",
    "df_month_exog['Xmas'] = ' '\n",
    "df_month_exog['Xmas'] = np.where((df_month_exog['month'] == 12), 'Yes', df_month_exog['Xmas'])\n",
    "\n",
    "## add whether or not it is Dec or Jan\n",
    "df_month_exog['big_holiday'] = ' '\n",
    "df_month_exog['big_holiday'] = np.where((df_month_exog['month'] == 1) | # New Years\n",
    "                                    (df_month_exog['month'] == 12), # Christmas\n",
    "                                    'Yes', df_month_exog['big_holiday'])\n",
    "\n",
    "# Create dummies\n",
    "dummies = ['season', 'month', 'holiday', 'big_holiday', 'Xmas']\n",
    "df_month_exog =  pd.get_dummies(df_month_exog, columns = dummies, drop_first = True )\n",
    "\n",
    "# Drop the target column\n",
    "df_month_exog.drop(columns=['gross'], inplace=True)\n",
    "# Change the data types of the rows from int to float\n",
    "for i in df_month_exog.columns:\n",
    "    df_month_exog[i] = df_month_exog[i].astype('float')\n",
    "    \n",
    "# Building all the sarimax models\n",
    "print('SARIMAX')\n",
    "sarimax(test_start, test_end, 0,0,1, 0,0,1, 12)\n",
    "sarimax(test_start, test_end, 0,1,0, 0,1,0, 12)\n",
    "sarimax(test_start, test_end, 1,0,0, 1,0,0, 12)\n",
    "sarimax(test_start, test_end, 1,0,1, 1,0,1, 12)\n",
    "sarimax(test_start, test_end, 1,1,0, 1,1,0, 12)\n",
    "sarimax(test_start, test_end, 2,0,0, 2,0,0, 12)\n",
    "sarimax(test_start, test_end, 2,0,1, 2,0,1, 12)\n",
    "sarimax(test_start, test_end, 2,1,0, 2,1,0, 12)\n",
    "\n",
    "# Updating the list of all the models and their RMSE scores\n",
    "print('Final Table')\n",
    "s = pd.DataFrame.from_dict(scores, orient='index',columns = ['RMSE'])\n",
    "s.index.name = 'Models'\n",
    "s.sort_values(by = 'RMSE')"
   ]
  },
  {
   "cell_type": "markdown",
   "metadata": {},
   "source": [
    "# 8. LION KING"
   ]
  },
  {
   "cell_type": "code",
   "execution_count": 57,
   "metadata": {},
   "outputs": [
    {
     "name": "stdout",
     "output_type": "stream",
     "text": [
      "BASELINE\n",
      "Test RMSE: $148320.03\n"
     ]
    },
    {
     "data": {
      "image/png": "[encoded data removed]",
      "text/plain": [
       "<Figure size 432x288 with 1 Axes>"
      ]
     },
     "metadata": {
      "needs_background": "light"
     },
     "output_type": "display_data"
    },
    {
     "name": "stdout",
     "output_type": "stream",
     "text": [
      "pdq         (0, 1, 1)\n",
      "pdqs    (0, 1, 1, 12)\n",
      "aic           6314.09\n",
      "Name: 27, dtype: object\n",
      "SARIMA\n",
      "Month = 1-2019, predicted = $2295490.82, expected = $1990435.50\n",
      "Month = 2-2019, predicted = $1925850.00, expected = $1843952.75\n",
      "Month = 3-2019, predicted = $2016457.41, expected = $1970016.10\n",
      "Month = 4-2019, predicted = $2378235.16, expected = $2501658.00\n",
      "Month = 5-2019, predicted = $2171452.98, expected = $2172321.75\n",
      "Month = 6-2019, predicted = $2334709.91, expected = $2345747.00\n",
      "Month = 7-2019, predicted = $2635910.40, expected = $2571134.25\n",
      "Month = 8-2019, predicted = $2402290.72, expected = $2334087.25\n",
      "Month = 9-2019, predicted = $2021354.73, expected = $1833340.20\n",
      "Month = 10-2019, predicted = $2125247.97, expected = $2081121.50\n",
      "Month = 11-2019, predicted = $2103786.23, expected = $1848087.00\n",
      "Month = 12-2019, predicted = $2371229.39, expected = $2490859.40\n",
      "Test RMSE: $142336.51\n"
     ]
    },
    {
     "data": {
      "image/png": "[encoded data removed]",
      "text/plain": [
       "<Figure size 432x288 with 1 Axes>"
      ]
     },
     "metadata": {
      "needs_background": "light"
     },
     "output_type": "display_data"
    },
    {
     "name": "stdout",
     "output_type": "stream",
     "text": [
      "SARIMAX\n"
     ]
    },
    {
     "name": "stderr",
     "output_type": "stream",
     "text": [
      "/Users/yehudaschein/opt/anaconda3/lib/python3.7/site-packages/statsmodels/tsa/base/tsa_model.py:527: ValueWarning: No frequency information was provided, so inferred frequency MS will be used.\n",
      "  % freq, ValueWarning)\n",
      "/Users/yehudaschein/opt/anaconda3/lib/python3.7/site-packages/statsmodels/tsa/base/tsa_model.py:527: ValueWarning: No frequency information was provided, so inferred frequency MS will be used.\n",
      "  % freq, ValueWarning)\n",
      "/Users/yehudaschein/opt/anaconda3/lib/python3.7/site-packages/statsmodels/tsa/base/tsa_model.py:527: ValueWarning: No frequency information was provided, so inferred frequency MS will be used.\n",
      "  % freq, ValueWarning)\n",
      "/Users/yehudaschein/opt/anaconda3/lib/python3.7/site-packages/statsmodels/tsa/base/tsa_model.py:527: ValueWarning: No frequency information was provided, so inferred frequency MS will be used.\n",
      "  % freq, ValueWarning)\n",
      "/Users/yehudaschein/opt/anaconda3/lib/python3.7/site-packages/statsmodels/tsa/base/tsa_model.py:527: ValueWarning: No frequency information was provided, so inferred frequency MS will be used.\n",
      "  % freq, ValueWarning)\n",
      "/Users/yehudaschein/opt/anaconda3/lib/python3.7/site-packages/statsmodels/tsa/base/tsa_model.py:527: ValueWarning: No frequency information was provided, so inferred frequency MS will be used.\n",
      "  % freq, ValueWarning)\n",
      "/Users/yehudaschein/opt/anaconda3/lib/python3.7/site-packages/statsmodels/tsa/base/tsa_model.py:527: ValueWarning: No frequency information was provided, so inferred frequency MS will be used.\n",
      "  % freq, ValueWarning)\n",
      "/Users/yehudaschein/opt/anaconda3/lib/python3.7/site-packages/statsmodels/tsa/base/tsa_model.py:527: ValueWarning: No frequency information was provided, so inferred frequency MS will be used.\n",
      "  % freq, ValueWarning)\n",
      "/Users/yehudaschein/opt/anaconda3/lib/python3.7/site-packages/statsmodels/tsa/base/tsa_model.py:527: ValueWarning: No frequency information was provided, so inferred frequency MS will be used.\n",
      "  % freq, ValueWarning)\n",
      "/Users/yehudaschein/opt/anaconda3/lib/python3.7/site-packages/statsmodels/tsa/base/tsa_model.py:527: ValueWarning: No frequency information was provided, so inferred frequency MS will be used.\n",
      "  % freq, ValueWarning)\n",
      "/Users/yehudaschein/opt/anaconda3/lib/python3.7/site-packages/statsmodels/tsa/base/tsa_model.py:527: ValueWarning: No frequency information was provided, so inferred frequency MS will be used.\n",
      "  % freq, ValueWarning)\n",
      "/Users/yehudaschein/opt/anaconda3/lib/python3.7/site-packages/statsmodels/tsa/base/tsa_model.py:527: ValueWarning: No frequency information was provided, so inferred frequency MS will be used.\n",
      "  % freq, ValueWarning)\n",
      "/Users/yehudaschein/opt/anaconda3/lib/python3.7/site-packages/statsmodels/tsa/base/tsa_model.py:527: ValueWarning: No frequency information was provided, so inferred frequency MS will be used.\n",
      "  % freq, ValueWarning)\n",
      "/Users/yehudaschein/opt/anaconda3/lib/python3.7/site-packages/statsmodels/tsa/base/tsa_model.py:527: ValueWarning: No frequency information was provided, so inferred frequency MS will be used.\n",
      "  % freq, ValueWarning)\n",
      "/Users/yehudaschein/opt/anaconda3/lib/python3.7/site-packages/statsmodels/base/model.py:568: ConvergenceWarning: Maximum Likelihood optimization failed to converge. Check mle_retvals\n",
      "  ConvergenceWarning)\n",
      "/Users/yehudaschein/opt/anaconda3/lib/python3.7/site-packages/statsmodels/tsa/base/tsa_model.py:527: ValueWarning: No frequency information was provided, so inferred frequency MS will be used.\n",
      "  % freq, ValueWarning)\n",
      "/Users/yehudaschein/opt/anaconda3/lib/python3.7/site-packages/statsmodels/tsa/base/tsa_model.py:527: ValueWarning: No frequency information was provided, so inferred frequency MS will be used.\n",
      "  % freq, ValueWarning)\n"
     ]
    },
    {
     "name": "stdout",
     "output_type": "stream",
     "text": [
      "Final Table\n"
     ]
    },
    {
     "data": {
      "text/html": [
       "<div>\n",
       "<style scoped>\n",
       "    .dataframe tbody tr th:only-of-type {\n",
       "        vertical-align: middle;\n",
       "    }\n",
       "\n",
       "    .dataframe tbody tr th {\n",
       "        vertical-align: top;\n",
       "    }\n",
       "\n",
       "    .dataframe thead th {\n",
       "        text-align: right;\n",
       "    }\n",
       "</style>\n",
       "<table border=\"1\" class=\"dataframe\">\n",
       "  <thead>\n",
       "    <tr style=\"text-align: right;\">\n",
       "      <th></th>\n",
       "      <th>RMSE</th>\n",
       "    </tr>\n",
       "    <tr>\n",
       "      <th>Models</th>\n",
       "      <th></th>\n",
       "    </tr>\n",
       "  </thead>\n",
       "  <tbody>\n",
       "    <tr>\n",
       "      <th>(SARIMA FROM GS, (0, 1, 1, 0, 1, 1, 12))</th>\n",
       "      <td>142336.508035</td>\n",
       "    </tr>\n",
       "    <tr>\n",
       "      <th>Baseline</th>\n",
       "      <td>148320.030940</td>\n",
       "    </tr>\n",
       "    <tr>\n",
       "      <th>(SARIMAX , (1, 0, 0, 1, 0, 0, 12))</th>\n",
       "      <td>155432.396665</td>\n",
       "    </tr>\n",
       "    <tr>\n",
       "      <th>(SARIMAX , (2, 0, 0, 2, 0, 0, 12))</th>\n",
       "      <td>181077.250615</td>\n",
       "    </tr>\n",
       "    <tr>\n",
       "      <th>(SARIMAX , (2, 0, 1, 2, 0, 1, 12))</th>\n",
       "      <td>198658.566970</td>\n",
       "    </tr>\n",
       "    <tr>\n",
       "      <th>(SARIMAX , (1, 0, 1, 1, 0, 1, 12))</th>\n",
       "      <td>203054.299219</td>\n",
       "    </tr>\n",
       "    <tr>\n",
       "      <th>(SARIMAX , (0, 1, 0, 0, 1, 0, 12))</th>\n",
       "      <td>254553.334552</td>\n",
       "    </tr>\n",
       "    <tr>\n",
       "      <th>(SARIMAX , (2, 1, 0, 2, 1, 0, 12))</th>\n",
       "      <td>307920.756150</td>\n",
       "    </tr>\n",
       "    <tr>\n",
       "      <th>(SARIMAX , (1, 1, 0, 1, 1, 0, 12))</th>\n",
       "      <td>322009.181725</td>\n",
       "    </tr>\n",
       "    <tr>\n",
       "      <th>(SARIMAX , (0, 0, 1, 0, 0, 1, 12))</th>\n",
       "      <td>434901.036037</td>\n",
       "    </tr>\n",
       "  </tbody>\n",
       "</table>\n",
       "</div>"
      ],
      "text/plain": [
       "                                                   RMSE\n",
       "Models                                                 \n",
       "(SARIMA FROM GS, (0, 1, 1, 0, 1, 1, 12))  142336.508035\n",
       "Baseline                                  148320.030940\n",
       "(SARIMAX , (1, 0, 0, 1, 0, 0, 12))        155432.396665\n",
       "(SARIMAX , (2, 0, 0, 2, 0, 0, 12))        181077.250615\n",
       "(SARIMAX , (2, 0, 1, 2, 0, 1, 12))        198658.566970\n",
       "(SARIMAX , (1, 0, 1, 1, 0, 1, 12))        203054.299219\n",
       "(SARIMAX , (0, 1, 0, 0, 1, 0, 12))        254553.334552\n",
       "(SARIMAX , (2, 1, 0, 2, 1, 0, 12))        307920.756150\n",
       "(SARIMAX , (1, 1, 0, 1, 1, 0, 12))        322009.181725\n",
       "(SARIMAX , (0, 0, 1, 0, 0, 1, 12))        434901.036037"
      ]
     },
     "execution_count": 57,
     "metadata": {},
     "output_type": "execute_result"
    }
   ],
   "source": [
    "# Read in the df\n",
    "df = pd.read_csv('gross.csv')\n",
    "# Only get the rows and columns that we want\n",
    "# Step 1: Only get the show Hamilton\n",
    "df = df[(df['show'] == 'The Lion King')]\n",
    "# Step 2: Drop all columns except 'week_ending' and 'weekly_gross'\n",
    "df.drop(['week_number','weekly_gross_overall', 'show', 'theatre', 'potential_gross',\n",
    "          'avg_ticket_price', 'top_ticket_price', 'seats_sold', 'seats_in_theatre', \n",
    "          'pct_capacity', 'performances', 'previews'], axis=1, inplace = True) \n",
    "# Step 3: change name from 'week_ending' to 'date' AND 'weekly_gross' to just 'gross'\n",
    "df.rename(columns = {\"week_ending\": \"date\"}, inplace = True) \n",
    "df.rename(columns = {\"weekly_gross\": \"gross\"}, inplace = True)\n",
    "# Step 4: change date column to type 'datetime64[ns]'\n",
    "df['date'] = df['date'].astype('datetime64[ns]') \n",
    "# Step 5: set the df equal to df_month \n",
    "df_month = df\n",
    "# Step 6: make date the index\n",
    "df.set_index('date', inplace=True)\n",
    "# Step 8: Downsampling to a month\n",
    "df_month = df.resample('MS').mean()\n",
    "#Step 9: Look at the final table\n",
    "df_month.head()\n",
    "\n",
    "# To show the scores of all the models throughout the notebook\n",
    "scores = {}\n",
    "# the test_start variable corresponds to the first date of the show, \n",
    "# which in this case means the beginning of our testing set\n",
    "test_start = '1997-10-01'\n",
    "test_end = '2018-12-01'\n",
    "\n",
    "#### Baseline Model - AR\n",
    "\n",
    "print('BASELINE')\n",
    "baseline()\n",
    "\n",
    "#### SARIMA Models - Parameter Selection\n",
    "\n",
    "# Define the p, d and q parameters to take any value between 0 and 2\n",
    "p = d = q = range(0, 2)\n",
    "\n",
    "# Generate all different combinations of p, q and q triplets\n",
    "pdq = list(itertools.product(p, d, q))\n",
    "\n",
    "# Generate all different combinations of seasonal p, q and q triplets\n",
    "pdqs = [(x[0], x[1], x[2], 12) for x in list(itertools.product(p, d, q))]\n",
    "# Run a grid with pdq and seasonal pdq parameters calculated above and get the best AIC value\n",
    "ans = []\n",
    "for comb in pdq:\n",
    "    for combs in pdqs:\n",
    "        try:\n",
    "            mod = SARIMAX(df_month,\n",
    "                                            order=comb,\n",
    "                                            seasonal_order=combs,\n",
    "                                            enforce_stationarity=False,\n",
    "                                            enforce_invertibility=False)\n",
    "\n",
    "            output = mod.fit()\n",
    "            ans.append([comb, combs, output.aic])\n",
    "            # print('ARIMA {} x {}12 : AIC Calculated ={}'.format(comb, combs, output.aic))\n",
    "        except:\n",
    "            continue\n",
    "\n",
    "# Find the parameters with minimal AIC value\n",
    "ans_df = pd.DataFrame(ans, columns=['pdq', 'pdqs', 'aic'])\n",
    "print(ans_df.loc[ans_df['aic'].idxmin()])\n",
    "\n",
    "print('SARIMA')\n",
    "sarima(test_start, test_end, 0,1,1,0,1,1,12)\n",
    "\n",
    "#### SARIMAX Model (with exogenous variables)\n",
    "\n",
    "# Create a new df for the exog variables \n",
    "df_month_exog = df_month.copy()\n",
    "\n",
    "df_month_exog.reset_index(inplace=True)\n",
    "# add month as an exog variable\n",
    "df_month_exog['month'] = pd.DatetimeIndex(df_month_exog['date']).month\n",
    "df_month_exog.set_index('date', inplace=True)\n",
    "\n",
    "# add season as an exog variable \n",
    "df_month_exog['season'] = ' '\n",
    "df_month_exog['season'] = np.where((df_month_exog['month'] == 1) | \n",
    "                        (df_month_exog['month'] == 2) | \n",
    "                        (df_month_exog['month'] == 3), \n",
    "                        'Winter', df_month_exog['season'])\n",
    "df_month_exog['season'] = np.where((df_month_exog['month'] == 4) | \n",
    "                        (df_month_exog['month'] == 5) | \n",
    "                        (df_month_exog['month'] == 6), \n",
    "                        'Spring', df_month_exog['season'])\n",
    "df_month_exog['season'] = np.where((df_month_exog['month'] == 7) | \n",
    "                        (df_month_exog['month'] == 8) | \n",
    "                        (df_month_exog['month'] == 9), \n",
    "                        'Summer', df_month_exog['season'])\n",
    "df_month_exog['season'] = np.where((df_month_exog['month'] == 10) | \n",
    "                        (df_month_exog['month'] == 11) | \n",
    "                        (df_month_exog['month'] == 12), \n",
    "                        'Fall', df_month_exog['season'])\n",
    "\n",
    "## add whether or not there is a holiday in the month\n",
    "df_month_exog['holiday'] = ' '\n",
    "df_month_exog['holiday'] = np.where((df_month_exog['month'] == 1) | # New Years\n",
    "                                    (df_month_exog['month'] == 2) | # Presidents Week\n",
    "                                    (df_month_exog['month'] == 5) | # Memorial Day\n",
    "                                    (df_month_exog['month'] == 7) | # Independence Day\n",
    "                                    (df_month_exog['month'] == 9) | # Labor Day\n",
    "                                    (df_month_exog['month'] == 10) | # Halloween / Columbus Day\n",
    "                                    (df_month_exog['month'] == 11) | # Thanksgiving\n",
    "                                    (df_month_exog['month'] == 12), # Christmas\n",
    "                                    'Yes', df_month_exog['holiday'])\n",
    "\n",
    "## add whether or not its December / Christmas month\n",
    "df_month_exog['Xmas'] = ' '\n",
    "df_month_exog['Xmas'] = np.where((df_month_exog['month'] == 12), 'Yes', df_month_exog['Xmas'])\n",
    "\n",
    "## add whether or not it is Dec or Jan\n",
    "df_month_exog['big_holiday'] = ' '\n",
    "df_month_exog['big_holiday'] = np.where((df_month_exog['month'] == 1) | # New Years\n",
    "                                    (df_month_exog['month'] == 12), # Christmas\n",
    "                                    'Yes', df_month_exog['big_holiday'])\n",
    "\n",
    "# Create dummies\n",
    "dummies = ['season', 'month', 'holiday', 'big_holiday', 'Xmas']\n",
    "df_month_exog =  pd.get_dummies(df_month_exog, columns = dummies, drop_first = True )\n",
    "\n",
    "# Drop the target column\n",
    "df_month_exog.drop(columns=['gross'], inplace=True)\n",
    "# Change the data types of the rows from int to float\n",
    "for i in df_month_exog.columns:\n",
    "    df_month_exog[i] = df_month_exog[i].astype('float')\n",
    "    \n",
    "# Building all the sarimax models\n",
    "print('SARIMAX')\n",
    "sarimax(test_start, test_end, 0,0,1, 0,0,1, 12)\n",
    "sarimax(test_start, test_end, 0,1,0, 0,1,0, 12)\n",
    "sarimax(test_start, test_end, 1,0,0, 1,0,0, 12)\n",
    "sarimax(test_start, test_end, 1,0,1, 1,0,1, 12)\n",
    "sarimax(test_start, test_end, 1,1,0, 1,1,0, 12)\n",
    "sarimax(test_start, test_end, 2,0,0, 2,0,0, 12)\n",
    "sarimax(test_start, test_end, 2,0,1, 2,0,1, 12)\n",
    "sarimax(test_start, test_end, 2,1,0, 2,1,0, 12)\n",
    "\n",
    "# Updating the list of all the models and their RMSE scores\n",
    "print('Final Table')\n",
    "s = pd.DataFrame.from_dict(scores, orient='index',columns = ['RMSE'])\n",
    "s.index.name = 'Models'\n",
    "s.sort_values(by = 'RMSE')"
   ]
  },
  {
   "cell_type": "markdown",
   "metadata": {},
   "source": [
    "## Evaluation\n",
    "Throughout this project I used RMSE as my evaluation metric because it is a metric that tells us how far away our predicted values are from our actual values. It is commonly used and gives an average of how far off we are per month. In the case of Hamilton, the RMSE score tells us that our model is off by around $130,000 per month.  "
   ]
  },
  {
   "cell_type": "markdown",
   "metadata": {},
   "source": [
    "## Conclusion\n",
    "In conclusion, we can see that performing a grid search on a SARIMA model (no exogenous variables) gives us the best RMSE of all the other 50 plus models we tried. The order of variables for the Hamilton model is (1,1,0) and the seasonal order is (1,1,0,12). The final Hamilton model gives us an RMSE score of 131273. This means that in the year of 2019, our model was off on each month by its average weekly gross by $131,273. This model performs very well and can tell us whether we should invest in this Broadway show. "
   ]
  },
  {
   "cell_type": "markdown",
   "metadata": {},
   "source": [
    "## Future Improvements and Next Steps\n",
    "When I continue this project, I will try to expand it by predicting on shows before they are even on Broadway. I will try to predict whether the show will make it to Broadway. This will be a classification problem. I can also solve this classification problem by using NLP to analyze articles that are written by Broadway show critics and see if the language that they use in the article will transfer to a successful or unsuccessful show. "
   ]
  }
 ],
 "metadata": {
  "kernelspec": {
   "display_name": "Python 3",
   "language": "python",
   "name": "python3"
  },
  "language_info": {
   "codemirror_mode": {
    "name": "ipython",
    "version": 3
   },
   "file_extension": ".py",
   "mimetype": "text/x-python",
   "name": "python",
   "nbconvert_exporter": "python",
   "pygments_lexer": "ipython3",
   "version": "3.7.6"
  }
 },
 "nbformat": 4,
 "nbformat_minor": 4
}
